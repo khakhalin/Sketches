{
 "cells": [
  {
   "cell_type": "markdown",
   "metadata": {},
   "source": [
    "* binary search\n",
    "* simple sortings\n",
    "* hashmap chaining\n",
    "* hashmap quadratic probing"
   ]
  },
  {
   "cell_type": "code",
   "execution_count": 12,
   "metadata": {},
   "outputs": [
    {
     "data": {
      "text/plain": [
       "[['a', 'b', 'c'],\n",
       " ['a', 'c', 'b'],\n",
       " ['b', 'a', 'c'],\n",
       " ['b', 'c', 'a'],\n",
       " ['c', 'a', 'b'],\n",
       " ['c', 'b', 'a']]"
      ]
     },
     "execution_count": 12,
     "metadata": {},
     "output_type": "execute_result"
    }
   ],
   "source": [
    "def permute(x):\n",
    "    if len(x)==0: return [[]]\n",
    "    return [[x[i]] + y for i in range(len(x)) for y in permute(x[:i] + x[i+1:])]\n",
    "\n",
    "permute('abc')"
   ]
  },
  {
   "cell_type": "code",
   "execution_count": 15,
   "metadata": {},
   "outputs": [
    {
     "data": {
      "text/plain": [
       "['abc', 'acb', 'bac', 'bca', 'cab', 'cba']"
      ]
     },
     "execution_count": 15,
     "metadata": {},
     "output_type": "execute_result"
    }
   ],
   "source": [
    "def permute(x):\n",
    "    if len(x)==0: return ['']\n",
    "    return [x[i] + y for i in range(len(x)) for y in permute(x[:i] + x[i+1:])]\n",
    "\n",
    "permute('abc')"
   ]
  },
  {
   "cell_type": "code",
   "execution_count": 25,
   "metadata": {},
   "outputs": [
    {
     "name": "stdout",
     "output_type": "stream",
     "text": [
      "['aaa', 'aab', 'aac', 'aba', 'abb', 'abc', 'aca', 'acb', 'acc', 'baa', 'bab', 'bac', 'bba', 'bbb', 'bbc', 'bca', 'bcb', 'bcc', 'caa', 'cab', 'cac', 'cba', 'cbb', 'cbc', 'cca', 'ccb', 'ccc']\n"
     ]
    }
   ],
   "source": [
    "def combine(x, l=None):\n",
    "    if l is None: l = len(x)\n",
    "    if l==0: return ['']\n",
    "    return [a + b for a in x for b in combine(x, l-1)]\n",
    "\n",
    "print(combine('abc'))"
   ]
  },
  {
   "cell_type": "code",
   "execution_count": 27,
   "metadata": {},
   "outputs": [
    {
     "name": "stdout",
     "output_type": "stream",
     "text": [
      "True\n"
     ]
    }
   ],
   "source": [
    "print(not [])"
   ]
  },
  {
   "cell_type": "code",
   "execution_count": 34,
   "metadata": {},
   "outputs": [
    {
     "data": {
      "text/plain": [
       "['abc', 'acb', 'bac', 'bca', 'cab', 'cba']"
      ]
     },
     "execution_count": 34,
     "metadata": {},
     "output_type": "execute_result"
    }
   ],
   "source": [
    "def permute(x):\n",
    "    queue = [('',x)]\n",
    "    out = []\n",
    "    while queue:\n",
    "        pre,post = queue.pop(0)\n",
    "        if len(post)==1:\n",
    "            out.append(pre+post)\n",
    "        else:\n",
    "            for i in range(len(post)):\n",
    "                queue.append((pre+post[i], post[:i]+post[i+1:]))\n",
    "    return out\n",
    "\n",
    "permute('abc')"
   ]
  }
 ],
 "metadata": {
  "kernelspec": {
   "display_name": "Python 3",
   "language": "python",
   "name": "python3"
  },
  "language_info": {
   "codemirror_mode": {
    "name": "ipython",
    "version": 3
   },
   "file_extension": ".py",
   "mimetype": "text/x-python",
   "name": "python",
   "nbconvert_exporter": "python",
   "pygments_lexer": "ipython3",
   "version": "3.7.6"
  }
 },
 "nbformat": 4,
 "nbformat_minor": 4
}
