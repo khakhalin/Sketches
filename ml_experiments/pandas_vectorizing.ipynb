{
 "cells": [
  {
   "cell_type": "markdown",
   "metadata": {},
   "source": [
    "# Vectorized operations in pandas"
   ]
  },
  {
   "cell_type": "code",
   "execution_count": 1,
   "metadata": {},
   "outputs": [],
   "source": [
    "import numpy as np\n",
    "import pandas as pd\n",
    "import time\n",
    "import matplotlib.pyplot as plt"
   ]
  },
  {
   "cell_type": "code",
   "execution_count": 16,
   "metadata": {},
   "outputs": [
    {
     "data": {
      "text/html": [
       "<div>\n",
       "<style scoped>\n",
       "    .dataframe tbody tr th:only-of-type {\n",
       "        vertical-align: middle;\n",
       "    }\n",
       "\n",
       "    .dataframe tbody tr th {\n",
       "        vertical-align: top;\n",
       "    }\n",
       "\n",
       "    .dataframe thead th {\n",
       "        text-align: right;\n",
       "    }\n",
       "</style>\n",
       "<table border=\"1\" class=\"dataframe\">\n",
       "  <thead>\n",
       "    <tr style=\"text-align: right;\">\n",
       "      <th></th>\n",
       "      <th>a</th>\n",
       "      <th>b</th>\n",
       "    </tr>\n",
       "  </thead>\n",
       "  <tbody>\n",
       "    <tr>\n",
       "      <th>0</th>\n",
       "      <td>1</td>\n",
       "      <td>0.088895</td>\n",
       "    </tr>\n",
       "    <tr>\n",
       "      <th>1</th>\n",
       "      <td>2</td>\n",
       "      <td>0.201691</td>\n",
       "    </tr>\n",
       "    <tr>\n",
       "      <th>2</th>\n",
       "      <td>3</td>\n",
       "      <td>0.549672</td>\n",
       "    </tr>\n",
       "  </tbody>\n",
       "</table>\n",
       "</div>"
      ],
      "text/plain": [
       "   a         b\n",
       "0  1  0.088895\n",
       "1  2  0.201691\n",
       "2  3  0.549672"
      ]
     },
     "execution_count": 16,
     "metadata": {},
     "output_type": "execute_result"
    }
   ],
   "source": [
    "df = pd.DataFrame({'a': [1,2,3], 'b':np.random.uniform(size=3)})\n",
    "df"
   ]
  },
  {
   "cell_type": "code",
   "execution_count": 25,
   "metadata": {},
   "outputs": [
    {
     "data": {
      "text/plain": [
       "array(['7', '9', '11'], dtype=object)"
      ]
     },
     "execution_count": 25,
     "metadata": {},
     "output_type": "execute_result"
    }
   ],
   "source": [
    "df.a.mul(2).add(5).astype(str).values"
   ]
  },
  {
   "cell_type": "code",
   "execution_count": 27,
   "metadata": {},
   "outputs": [
    {
     "data": {
      "text/plain": [
       "array(['7', '9', '11'], dtype=object)"
      ]
     },
     "execution_count": 27,
     "metadata": {},
     "output_type": "execute_result"
    }
   ],
   "source": [
    "(df.a*2 + 5).astype(str).values\n",
    "# Same result but looks much more sane"
   ]
  },
  {
   "cell_type": "markdown",
   "metadata": {},
   "source": [
    "# Comparison of several ways to calculate a new column"
   ]
  },
  {
   "cell_type": "code",
   "execution_count": 14,
   "metadata": {},
   "outputs": [
    {
     "data": {
      "text/html": [
       "<div>\n",
       "<style scoped>\n",
       "    .dataframe tbody tr th:only-of-type {\n",
       "        vertical-align: middle;\n",
       "    }\n",
       "\n",
       "    .dataframe tbody tr th {\n",
       "        vertical-align: top;\n",
       "    }\n",
       "\n",
       "    .dataframe thead th {\n",
       "        text-align: right;\n",
       "    }\n",
       "</style>\n",
       "<table border=\"1\" class=\"dataframe\">\n",
       "  <thead>\n",
       "    <tr style=\"text-align: right;\">\n",
       "      <th></th>\n",
       "      <th>x</th>\n",
       "      <th>y</th>\n",
       "    </tr>\n",
       "  </thead>\n",
       "  <tbody>\n",
       "    <tr>\n",
       "      <th>0</th>\n",
       "      <td>0.034755</td>\n",
       "      <td>-1.633352</td>\n",
       "    </tr>\n",
       "    <tr>\n",
       "      <th>1</th>\n",
       "      <td>0.728487</td>\n",
       "      <td>0.528063</td>\n",
       "    </tr>\n",
       "    <tr>\n",
       "      <th>2</th>\n",
       "      <td>0.905760</td>\n",
       "      <td>-2.608346</td>\n",
       "    </tr>\n",
       "    <tr>\n",
       "      <th>3</th>\n",
       "      <td>0.741198</td>\n",
       "      <td>1.187009</td>\n",
       "    </tr>\n",
       "    <tr>\n",
       "      <th>4</th>\n",
       "      <td>0.985139</td>\n",
       "      <td>1.914810</td>\n",
       "    </tr>\n",
       "  </tbody>\n",
       "</table>\n",
       "</div>"
      ],
      "text/plain": [
       "          x         y\n",
       "0  0.034755 -1.633352\n",
       "1  0.728487  0.528063\n",
       "2  0.905760 -2.608346\n",
       "3  0.741198  1.187009\n",
       "4  0.985139  1.914810"
      ]
     },
     "execution_count": 14,
     "metadata": {},
     "output_type": "execute_result"
    }
   ],
   "source": [
    "# Create a large fake dataset\n",
    "df = pd.DataFrame({'x': np.random.uniform(size=1000000), 'y': np.random.normal(size=1000000)})\n",
    "df.head()"
   ]
  },
  {
   "cell_type": "code",
   "execution_count": 3,
   "metadata": {},
   "outputs": [],
   "source": [
    "def collect(label, time, d):\n",
    "    # Some half-reasonable way to track execution time\n",
    "    print(label, ':', time)\n",
    "    d[label] = time\n",
    "    return d"
   ]
  },
  {
   "cell_type": "code",
   "execution_count": 4,
   "metadata": {},
   "outputs": [
    {
     "name": "stdout",
     "output_type": "stream",
     "text": [
      "Basic copying : 0.5523428916931152\n",
      "d['z'] = d.x-d.y : 1.118281602859497\n",
      "d.loc[:,'z'] = d.x-d.y : 2.752394437789917\n",
      "d = d.assign(z=d.x-d.y) : 1.254723072052002\n",
      "d.insert(2, 'z', d.x-d.y) : 0.7354273796081543\n",
      "d.eval('z=x-y', inplace=True) : 1.7870275974273682\n",
      "d = d.eval('z=x-y', inplace=False) : 2.335803270339966\n"
     ]
    }
   ],
   "source": [
    "n = 100\n",
    "rec = {}\n",
    "\n",
    "tic = time.time()\n",
    "for i in range(n):\n",
    "    d = df.copy()\n",
    "copytime = time.time()-tic\n",
    "rec = collect(\"Basic copying\", copytime, rec)\n",
    "\n",
    "tic = time.time()\n",
    "for i in range(n):\n",
    "    d = d.copy()\n",
    "    d['z'] = d.x-d.y\n",
    "rec = collect(\"d['z'] = d.x-d.y\", time.time()-tic-copytime, rec)\n",
    "\n",
    "tic = time.time()\n",
    "for i in range(n):\n",
    "    d = df.copy()\n",
    "    d.loc[:,'z'] = d.x-d.y\n",
    "rec = collect(\"d.loc[:,'z'] = d.x-d.y\", time.time()-tic-copytime, rec)\n",
    "\n",
    "\n",
    "tic = time.time()\n",
    "for i in range(n):\n",
    "    d = df.copy()\n",
    "    d = d.assign(z=d.x-d.y)\n",
    "rec = collect(\"d = d.assign(z=d.x-d.y)\", time.time()-tic-copytime, rec)\n",
    "\n",
    "tic = time.time()\n",
    "for i in range(n):\n",
    "    d = df.copy()\n",
    "    d.insert(2, 'z', d.x-d.y)\n",
    "rec = collect(\"d.insert(2, 'z', d.x-d.y)\", time.time()-tic-copytime, rec)\n",
    "\n",
    "tic = time.time()\n",
    "for i in range(n):\n",
    "    d = df.copy()\n",
    "    d.eval('z=x-y', inplace=True)\n",
    "rec = collect(\"d.eval('z=x-y', inplace=True)\", time.time()-tic-copytime, rec)\n",
    "\n",
    "tic = time.time()\n",
    "for i in range(n):\n",
    "    d = df.copy()\n",
    "    d = d.eval('z=x-y', inplace=False)\n",
    "rec = collect(\"d = d.eval('z=x-y', inplace=False)\", time.time()-tic-copytime, rec)"
   ]
  },
  {
   "cell_type": "code",
   "execution_count": 5,
   "metadata": {},
   "outputs": [
    {
     "data": {
      "image/png": "[encoded data removed]",
      "text/plain": [
       "<Figure size 432x288 with 1 Axes>"
      ]
     },
     "metadata": {
      "needs_background": "light"
     },
     "output_type": "display_data"
    }
   ],
   "source": [
    "x,y = zip(*[(key,val) for key,val in rec.items()][1:])\n",
    "_,ax = plt.subplots()\n",
    "plt.barh(x, np.array(y)*1000);\n",
    "plt.xlabel('Time, ms');\n",
    "plt.yticks(fontsize=14)\n",
    "ax.invert_yaxis();"
   ]
  },
  {
   "cell_type": "code",
   "execution_count": null,
   "metadata": {},
   "outputs": [],
   "source": []
  }
 ],
 "metadata": {
  "kernelspec": {
   "display_name": "Python 3",
   "language": "python",
   "name": "python3"
  },
  "language_info": {
   "codemirror_mode": {
    "name": "ipython",
    "version": 3
   },
   "file_extension": ".py",
   "mimetype": "text/x-python",
   "name": "python",
   "nbconvert_exporter": "python",
   "pygments_lexer": "ipython3",
   "version": "3.7.6"
  }
 },
 "nbformat": 4,
 "nbformat_minor": 4
}
