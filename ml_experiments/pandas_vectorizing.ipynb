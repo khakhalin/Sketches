{
 "cells": [
  {
   "cell_type": "markdown",
   "metadata": {},
   "source": [
    "# Vectorized operations in pandas"
   ]
  },
  {
   "cell_type": "code",
   "execution_count": 1,
   "metadata": {},
   "outputs": [],
   "source": [
    "import numpy as np\n",
    "import pandas as pd\n",
    "import time\n",
    "import matplotlib.pyplot as plt"
   ]
  },
  {
   "cell_type": "code",
   "execution_count": 10,
   "metadata": {},
   "outputs": [
    {
     "data": {
      "text/html": [
       "<div>\n",
       "<style scoped>\n",
       "    .dataframe tbody tr th:only-of-type {\n",
       "        vertical-align: middle;\n",
       "    }\n",
       "\n",
       "    .dataframe tbody tr th {\n",
       "        vertical-align: top;\n",
       "    }\n",
       "\n",
       "    .dataframe thead th {\n",
       "        text-align: right;\n",
       "    }\n",
       "</style>\n",
       "<table border=\"1\" class=\"dataframe\">\n",
       "  <thead>\n",
       "    <tr style=\"text-align: right;\">\n",
       "      <th></th>\n",
       "      <th>x</th>\n",
       "      <th>y</th>\n",
       "    </tr>\n",
       "  </thead>\n",
       "  <tbody>\n",
       "    <tr>\n",
       "      <th>0</th>\n",
       "      <td>891238.320715</td>\n",
       "      <td>0.558623</td>\n",
       "    </tr>\n",
       "    <tr>\n",
       "      <th>1</th>\n",
       "      <td>891238.320715</td>\n",
       "      <td>-0.709863</td>\n",
       "    </tr>\n",
       "    <tr>\n",
       "      <th>2</th>\n",
       "      <td>891238.320715</td>\n",
       "      <td>-0.810829</td>\n",
       "    </tr>\n",
       "    <tr>\n",
       "      <th>3</th>\n",
       "      <td>891238.320715</td>\n",
       "      <td>0.862494</td>\n",
       "    </tr>\n",
       "    <tr>\n",
       "      <th>4</th>\n",
       "      <td>891238.320715</td>\n",
       "      <td>0.787012</td>\n",
       "    </tr>\n",
       "  </tbody>\n",
       "</table>\n",
       "</div>"
      ],
      "text/plain": [
       "               x         y\n",
       "0  891238.320715  0.558623\n",
       "1  891238.320715 -0.709863\n",
       "2  891238.320715 -0.810829\n",
       "3  891238.320715  0.862494\n",
       "4  891238.320715  0.787012"
      ]
     },
     "execution_count": 10,
     "metadata": {},
     "output_type": "execute_result"
    }
   ],
   "source": [
    "# First create a fake dataset\n",
    "\n",
    "df = pd.DataFrame({'x': np.random.uniform(1000000), 'y': np.random.normal(size=1000000)})\n",
    "df.head()"
   ]
  },
  {
   "cell_type": "code",
   "execution_count": 11,
   "metadata": {},
   "outputs": [],
   "source": [
    "def collect(label, time, d):\n",
    "    print(label, ':', time)\n",
    "    d[label] = time\n",
    "    return d"
   ]
  },
  {
   "cell_type": "code",
   "execution_count": 12,
   "metadata": {},
   "outputs": [
    {
     "name": "stdout",
     "output_type": "stream",
     "text": [
      "Basic copying : 0.5645139217376709\n",
      "d['z'] = d.x-d.y : 0.9633402824401855\n",
      "d.loc[:,'z'] = d.x-d.y : 2.773918628692627\n",
      "d = d.assign(z=d.x-d.y) : 1.2119276523590088\n",
      "d.insert(2, 'z', d.x-d.y) : 0.690643310546875\n",
      "d.eval('z=x-y', inplace=True) : 1.6492609977722168\n",
      "d = d.eval('z=x-y', inplace=False) : 2.1888341903686523\n"
     ]
    }
   ],
   "source": [
    "n = 100\n",
    "rec = {}\n",
    "\n",
    "tic = time.time()\n",
    "for i in range(n):\n",
    "    d = df.copy()\n",
    "copytime = time.time()-tic\n",
    "rec = collect(\"Basic copying\", copytime, rec)\n",
    "\n",
    "tic = time.time()\n",
    "for i in range(n):\n",
    "    d = d.copy()\n",
    "    d['z'] = d.x-d.y\n",
    "rec = collect(\"d['z'] = d.x-d.y\", time.time()-tic-copytime, rec)\n",
    "\n",
    "tic = time.time()\n",
    "for i in range(n):\n",
    "    d = df.copy()\n",
    "    d.loc[:,'z'] = d.x-d.y\n",
    "rec = collect(\"d.loc[:,'z'] = d.x-d.y\", time.time()-tic-copytime, rec)\n",
    "\n",
    "\n",
    "tic = time.time()\n",
    "for i in range(n):\n",
    "    d = df.copy()\n",
    "    d = d.assign(z=d.x-d.y)\n",
    "rec = collect(\"d = d.assign(z=d.x-d.y)\", time.time()-tic-copytime, rec)\n",
    "\n",
    "tic = time.time()\n",
    "for i in range(n):\n",
    "    d = df.copy()\n",
    "    d.insert(2, 'z', d.x-d.y)\n",
    "rec = collect(\"d.insert(2, 'z', d.x-d.y)\", time.time()-tic-copytime, rec)\n",
    "\n",
    "tic = time.time()\n",
    "for i in range(n):\n",
    "    d = df.copy()\n",
    "    d.eval('z=x-y', inplace=True)\n",
    "rec = collect(\"d.eval('z=x-y', inplace=True)\", time.time()-tic-copytime, rec)\n",
    "\n",
    "tic = time.time()\n",
    "for i in range(n):\n",
    "    d = df.copy()\n",
    "    d = d.eval('z=x-y', inplace=False)\n",
    "rec = collect(\"d = d.eval('z=x-y', inplace=False)\", time.time()-tic-copytime, rec)"
   ]
  },
  {
   "cell_type": "code",
   "execution_count": 13,
   "metadata": {},
   "outputs": [
    {
     "data": {
      "image/png": "[encoded data removed]",
      "text/plain": [
       "<Figure size 432x288 with 1 Axes>"
      ]
     },
     "metadata": {
      "needs_background": "light"
     },
     "output_type": "display_data"
    }
   ],
   "source": [
    "x,y = zip(*[(key,val) for key,val in rec.items()][1:])\n",
    "_,ax = plt.subplots()\n",
    "plt.barh(x, np.array(y)*1000);\n",
    "plt.xlabel('Time, ms');\n",
    "plt.yticks(fontsize=14)\n",
    "ax.invert_yaxis();"
   ]
  }
 ],
 "metadata": {
  "kernelspec": {
   "display_name": "Python 3",
   "language": "python",
   "name": "python3"
  },
  "language_info": {
   "codemirror_mode": {
    "name": "ipython",
    "version": 3
   },
   "file_extension": ".py",
   "mimetype": "text/x-python",
   "name": "python",
   "nbconvert_exporter": "python",
   "pygments_lexer": "ipython3",
   "version": "3.7.6"
  }
 },
 "nbformat": 4,
 "nbformat_minor": 4
}
