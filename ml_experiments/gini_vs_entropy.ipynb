{
 "cells": [
  {
   "cell_type": "markdown",
   "metadata": {},
   "source": [
    "# Comparing gini impurity to entropy"
   ]
  },
  {
   "cell_type": "code",
   "execution_count": 1,
   "metadata": {},
   "outputs": [],
   "source": [
    "import numpy as np\n",
    "import matplotlib.pyplot as plt"
   ]
  },
  {
   "cell_type": "code",
   "execution_count": 32,
   "metadata": {},
   "outputs": [
    {
     "data": {
      "text/plain": [
       "0.4444444444444444"
      ]
     },
     "execution_count": 32,
     "metadata": {},
     "output_type": "execute_result"
    }
   ],
   "source": [
    "def gini(x):\n",
    "    states = list(set(x))\n",
    "    counts = [np.sum(np.array(x)==i) for i in states]\n",
    "    return 1-np.sum(np.square(counts/np.sum(counts)))\n",
    "    \n",
    "x = [1,1,2]\n",
    "gini(x)"
   ]
  },
  {
   "cell_type": "code",
   "execution_count": 37,
   "metadata": {},
   "outputs": [
    {
     "data": {
      "text/plain": [
       "0.6365141682948128"
      ]
     },
     "execution_count": 37,
     "metadata": {},
     "output_type": "execute_result"
    }
   ],
   "source": [
    "def entropy(x):\n",
    "    states = list(set(x))\n",
    "    p = [np.sum(np.array(x)==i) for i in states]\n",
    "    p = p/np.sum(p)\n",
    "    return np.sum(-p*np.log(p))\n",
    "    \n",
    "x = [1,1,2]\n",
    "entropy(x)"
   ]
  },
  {
   "cell_type": "code",
   "execution_count": 60,
   "metadata": {},
   "outputs": [
    {
     "data": {
      "image/png": "[encoded data removed]",
      "text/plain": [
       "<Figure size 432x288 with 1 Axes>"
      ]
     },
     "metadata": {
      "needs_background": "light"
     },
     "output_type": "display_data"
    }
   ],
   "source": [
    "n = 10000\n",
    "length = 10\n",
    "\n",
    "data = np.zeros((n,2))\n",
    "for i in range(n):\n",
    "    ngroups = np.random.randint(2,length)\n",
    "    x = np.random.randint(ngroups, size=length)\n",
    "    data[i,:] = [gini(x), entropy(x)]\n",
    "    \n",
    "plt.plot(data[:,0], data[:,1], 'k.');\n",
    "plt.xlabel('Gini index');\n",
    "plt.ylabel('Entropy');"
   ]
  },
  {
   "cell_type": "code",
   "execution_count": 80,
   "metadata": {},
   "outputs": [
    {
     "data": {
      "text/plain": [
       "[[0, 0, 3], [0, 1, 2], [0, 2, 1], [1, 0, 2], [1, 1, 1], [2, 0, 1]]"
      ]
     },
     "execution_count": 80,
     "metadata": {},
     "output_type": "execute_result"
    }
   ],
   "source": [
    "def allsums(n,k):\n",
    "    \"\"\"All sums of k numbers that sum to n.\"\"\"\n",
    "    if k==1: return [[n]]\n",
    "    return [[i]+j for i in range(n) for j in allsums(n-i,k-1)]\n",
    "\n",
    "allsums(3,3)"
   ]
  },
  {
   "cell_type": "code",
   "execution_count": 103,
   "metadata": {},
   "outputs": [
    {
     "data": {
      "image/png": "[encoded data removed]",
      "text/plain": [
       "<Figure size 360x360 with 1 Axes>"
      ]
     },
     "metadata": {
      "needs_background": "light"
     },
     "output_type": "display_data"
    }
   ],
   "source": [
    "length = 12\n",
    "vocab = 12\n",
    "\n",
    "plt.figure(figsize=(5,5))\n",
    "combos = set([tuple(sorted(a)) for a in allsums(length,vocab)])\n",
    "for combo in combos:\n",
    "    v = sum([[i]*combo[i] for i in range(vocab)], []) # That's how you flattan an array\n",
    "    # (See https://docs.python.org/3/library/functions.html#sum )\n",
    "    #print(combo,v)\n",
    "    plt.plot(gini(v), entropy(v), 'k.');\n",
    "\n",
    "plt.xlabel('Gini index');\n",
    "plt.ylabel('Entropy');"
   ]
  }
 ],
 "metadata": {
  "kernelspec": {
   "display_name": "Python 3",
   "language": "python",
   "name": "python3"
  },
  "language_info": {
   "codemirror_mode": {
    "name": "ipython",
    "version": 3
   },
   "file_extension": ".py",
   "mimetype": "text/x-python",
   "name": "python",
   "nbconvert_exporter": "python",
   "pygments_lexer": "ipython3",
   "version": "3.7.6"
  }
 },
 "nbformat": 4,
 "nbformat_minor": 4
}
