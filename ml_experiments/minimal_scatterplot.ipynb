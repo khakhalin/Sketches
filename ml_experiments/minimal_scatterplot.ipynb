{
 "cells": [
  {
   "cell_type": "markdown",
   "metadata": {},
   "source": [
    "Thomas J. Leeper @thosjleeper writes:\n",
    "\n",
    "> Ok seriously: Assume data frame of (x, y, group), all are integers and there are ~ 12 levels of `group`. I want a scatterplot with color by group, with a legend and sensible colors. This is like 5 lines of ggplot. What is the #pandas/#python/#matplotlib equivalent?\n",
    "\n",
    "https://twitter.com/thosjleeper/status/1287842203642073089"
   ]
  },
  {
   "cell_type": "code",
   "execution_count": 1,
   "metadata": {},
   "outputs": [],
   "source": [
    "import numpy as np\n",
    "import pandas as pd\n",
    "import matplotlib.pyplot as plt"
   ]
  },
  {
   "cell_type": "code",
   "execution_count": 8,
   "metadata": {},
   "outputs": [],
   "source": [
    "plt.style.use('default')"
   ]
  },
  {
   "cell_type": "code",
   "execution_count": 2,
   "metadata": {},
   "outputs": [
    {
     "data": {
      "image/png": "[encoded data removed]",
      "text/plain": [
       "<Figure size 432x288 with 1 Axes>"
      ]
     },
     "metadata": {
      "needs_background": "light"
     },
     "output_type": "display_data"
    }
   ],
   "source": [
    "df = pd.DataFrame({'x': [1,2,3,4,5,5,6], 'y': [3,5,2,7,5,3,3], 'g': [1,1,1,2,2,3,3]})\n",
    "\n",
    "def autoplot(df):\n",
    "    for g in np.unique(df['g']):\n",
    "        ind = (df.g==g)\n",
    "        plt.plot(df[ind].x, df[ind].y, '.', markersize=10, label=g)\n",
    "    plt.legend()\n",
    "    \n",
    "    \n",
    "autoplot(df)"
   ]
  },
  {
   "cell_type": "code",
   "execution_count": 57,
   "metadata": {},
   "outputs": [
    {
     "data": {
      "image/png": "[encoded data removed]",
      "text/plain": [
       "<Figure size 432x288 with 1 Axes>"
      ]
     },
     "metadata": {},
     "output_type": "display_data"
    }
   ],
   "source": [
    "df = pd.DataFrame({'x': [1,2,3,4,5,5,6], 'y': [3,5,2,7,5,3,3], 'g': [1,1,1,2,2,3,3]})\n",
    "\n",
    "def autoplot(df):\n",
    "    plt.style.use('ggplot')\n",
    "    plt.rcParams['axes.facecolor']='white'\n",
    "    plt.rcParams['axes.edgecolor']='black'\n",
    "    plt.rcParams['grid.color']='lightgray'\n",
    "    for g in np.unique(df['g']):\n",
    "        ind = (df.g==g)\n",
    "        plt.plot(df[ind].x, df[ind].y, '.', markersize=10, label=g)\n",
    "    plt.legend()\n",
    "    \n",
    "    \n",
    "autoplot(df)"
   ]
  }
 ],
 "metadata": {
  "kernelspec": {
   "display_name": "Python 3",
   "language": "python",
   "name": "python3"
  },
  "language_info": {
   "codemirror_mode": {
    "name": "ipython",
    "version": 3
   },
   "file_extension": ".py",
   "mimetype": "text/x-python",
   "name": "python",
   "nbconvert_exporter": "python",
   "pygments_lexer": "ipython3",
   "version": "3.7.6"
  }
 },
 "nbformat": 4,
 "nbformat_minor": 4
}
