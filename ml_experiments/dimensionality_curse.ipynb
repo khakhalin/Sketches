{
 "cells": [
  {
   "cell_type": "markdown",
   "metadata": {},
   "source": [
    "# Curse of dimensionality\n",
    "\n",
    "A slightly modified exercise from ESLII, around page 26. The idea is to create a non-linear function in really high-D, and then try to fit it, using either 1NN (one nearest neighbor), or linear regression. The prediction is that in very-high-D, your nearest neighbor would actually be quite far."
   ]
  },
  {
   "cell_type": "code",
   "execution_count": 1,
   "metadata": {},
   "outputs": [],
   "source": [
    "import numpy as np\n",
    "import pandas as pd\n",
    "import matplotlib.pyplot as plt\n",
    "\n",
    "from sklearn.linear_model import LinearRegression\n",
    "from sklearn.neighbors import KNeighborsRegressor\n",
    "from sklearn import metrics"
   ]
  },
  {
   "cell_type": "code",
   "execution_count": 42,
   "metadata": {},
   "outputs": [],
   "source": [
    "class const():\n",
    "    max_dim = 100\n",
    "    npoints = 200 # To avoid degenerate cases at the end, npoints should be >> max_dim\n",
    "    epsilon = 0.01\n",
    "    n_experiments = 100"
   ]
  },
  {
   "cell_type": "markdown",
   "metadata": {},
   "source": [
    "### First let's try it manually for 2D"
   ]
  },
  {
   "cell_type": "code",
   "execution_count": 38,
   "metadata": {},
   "outputs": [
    {
     "data": {
      "image/png": "[encoded data removed]",
      "text/plain": [
       "<Figure size 432x288 with 1 Axes>"
      ]
     },
     "metadata": {
      "needs_background": "light"
     },
     "output_type": "display_data"
    }
   ],
   "source": [
    "# Create a slightly noisy y(x)\n",
    "dim = 2\n",
    "x = np.random.uniform(size=(const.npoints,dim))\n",
    "y = x[:,0]**3 + np.random.normal(size=(const.npoints))*const.epsilon # Only depends on one coordinate, but prob doesn't matter\n",
    "plt.plot(x[:,0],y,'.');"
   ]
  },
  {
   "cell_type": "code",
   "execution_count": 39,
   "metadata": {},
   "outputs": [
    {
     "data": {
      "text/plain": [
       "array([-0.16777912])"
      ]
     },
     "execution_count": 39,
     "metadata": {},
     "output_type": "execute_result"
    }
   ],
   "source": [
    "model = LinearRegression()\n",
    "model.fit(x , y)\n",
    "x0 = np.zeros(shape=(1,2))\n",
    "model.predict(x0)"
   ]
  },
  {
   "cell_type": "code",
   "execution_count": 40,
   "metadata": {},
   "outputs": [
    {
     "data": {
      "text/plain": [
       "array([-0.00852773])"
      ]
     },
     "execution_count": 40,
     "metadata": {},
     "output_type": "execute_result"
    }
   ],
   "source": [
    "# Try KNN (for k=1, so 1NN):\n",
    "model = KNeighborsRegressor(n_neighbors = 1)\n",
    "model.fit(x , y)\n",
    "model.predict(x0)"
   ]
  },
  {
   "cell_type": "markdown",
   "metadata": {},
   "source": [
    "### Now combining it all together"
   ]
  },
  {
   "cell_type": "code",
   "execution_count": 43,
   "metadata": {},
   "outputs": [
    {
     "data": {
      "image/png": "[encoded data removed]",
      "text/plain": [
       "<Figure size 432x288 with 1 Axes>"
      ]
     },
     "metadata": {
      "needs_background": "light"
     },
     "output_type": "display_data"
    }
   ],
   "source": [
    "models = [LinearRegression() , KNeighborsRegressor(n_neighbors = 1)]\n",
    "model_names = ['Linear', '1NN']\n",
    "\n",
    "dim_list = np.arange(1,np.ceil(np.sqrt(const.max_dim))+1)**2 # Nice fast-growing list to go from 1 to const.max_dim\n",
    "dim_list = dim_list.astype(int).tolist()                     # Cast to integer list\n",
    "ndim = len(dim_list)\n",
    "result = np.zeros(shape=(ndim , const.n_experiments))\n",
    "dim_history = np.zeros(ndim)\n",
    "ax = plt.axes();\n",
    "for imodel in range(len(models)):\n",
    "    model = models[imodel]\n",
    "    for idim in range(ndim):\n",
    "        dim = dim_list[idim]\n",
    "        x0 = np.zeros(shape=(1,dim))\n",
    "        for i_exp in range(const.n_experiments):\n",
    "            x = np.random.uniform(low=-1, high=1, size=(const.npoints , dim))\n",
    "            y = (1+x[:,0])**3 + np.random.normal(size=(const.npoints))*const.epsilon\n",
    "            model.fit(x , y)        \n",
    "            result[idim,i_exp] = model.predict(x0)**2\n",
    "\n",
    "    ax.plot(dim_list , np.mean(result,axis=1) , '-o' , label=model_names[imodel]);\n",
    "    #plt.show()\n",
    "    \n",
    "ax.legend();"
   ]
  },
  {
   "cell_type": "markdown",
   "metadata": {},
   "source": [
    "The higher the dimensionality, the more weird 1NN is, as nearest neighbors are increasily \"shifted\" from the innards of a sphere towards its shell."
   ]
  }
 ],
 "metadata": {
  "kernelspec": {
   "display_name": "Python 3",
   "language": "python",
   "name": "python3"
  },
  "language_info": {
   "codemirror_mode": {
    "name": "ipython",
    "version": 3
   },
   "file_extension": ".py",
   "mimetype": "text/x-python",
   "name": "python",
   "nbconvert_exporter": "python",
   "pygments_lexer": "ipython3",
   "version": "3.7.0"
  }
 },
 "nbformat": 4,
 "nbformat_minor": 2
}
