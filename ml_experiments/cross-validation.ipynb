{
 "cells": [
  {
   "cell_type": "markdown",
   "metadata": {},
   "source": [
    "# Very basics of linear modeling"
   ]
  },
  {
   "cell_type": "code",
   "execution_count": 44,
   "metadata": {},
   "outputs": [],
   "source": [
    "import numpy as np\n",
    "import matplotlib.pyplot as plt\n",
    "import pandas as pd\n",
    "\n",
    "from sklearn.linear_model import LinearRegression\n",
    "from sklearn import metrics\n",
    "from sklearn.model_selection import train_test_split\n",
    "from sklearn.model_selection import cross_val_score"
   ]
  },
  {
   "cell_type": "code",
   "execution_count": 2,
   "metadata": {},
   "outputs": [
    {
     "data": {
      "text/html": [
       "<div>\n",
       "<style scoped>\n",
       "    .dataframe tbody tr th:only-of-type {\n",
       "        vertical-align: middle;\n",
       "    }\n",
       "\n",
       "    .dataframe tbody tr th {\n",
       "        vertical-align: top;\n",
       "    }\n",
       "\n",
       "    .dataframe thead th {\n",
       "        text-align: right;\n",
       "    }\n",
       "</style>\n",
       "<table border=\"1\" class=\"dataframe\">\n",
       "  <thead>\n",
       "    <tr style=\"text-align: right;\">\n",
       "      <th></th>\n",
       "      <th>id</th>\n",
       "      <th>work</th>\n",
       "      <th>gender</th>\n",
       "      <th>age</th>\n",
       "      <th>treatment</th>\n",
       "      <th>before</th>\n",
       "      <th>after</th>\n",
       "    </tr>\n",
       "  </thead>\n",
       "  <tbody>\n",
       "    <tr>\n",
       "      <th>0</th>\n",
       "      <td>1</td>\n",
       "      <td>Stables</td>\n",
       "      <td>Male</td>\n",
       "      <td>16</td>\n",
       "      <td>garlic</td>\n",
       "      <td>113</td>\n",
       "      <td>58</td>\n",
       "    </tr>\n",
       "    <tr>\n",
       "      <th>1</th>\n",
       "      <td>2</td>\n",
       "      <td>Barracks</td>\n",
       "      <td>Male</td>\n",
       "      <td>28</td>\n",
       "      <td>garlic</td>\n",
       "      <td>137</td>\n",
       "      <td>83</td>\n",
       "    </tr>\n",
       "    <tr>\n",
       "      <th>2</th>\n",
       "      <td>3</td>\n",
       "      <td>Kitchen</td>\n",
       "      <td>Female</td>\n",
       "      <td>30</td>\n",
       "      <td>garlic</td>\n",
       "      <td>73</td>\n",
       "      <td>39</td>\n",
       "    </tr>\n",
       "    <tr>\n",
       "      <th>3</th>\n",
       "      <td>4</td>\n",
       "      <td>Stables</td>\n",
       "      <td>Male</td>\n",
       "      <td>27</td>\n",
       "      <td>garlic</td>\n",
       "      <td>156</td>\n",
       "      <td>90</td>\n",
       "    </tr>\n",
       "    <tr>\n",
       "      <th>4</th>\n",
       "      <td>5</td>\n",
       "      <td>Barracks</td>\n",
       "      <td>Male</td>\n",
       "      <td>10</td>\n",
       "      <td>garlic</td>\n",
       "      <td>70</td>\n",
       "      <td>22</td>\n",
       "    </tr>\n",
       "  </tbody>\n",
       "</table>\n",
       "</div>"
      ],
      "text/plain": [
       "   id      work  gender  age treatment  before  after\n",
       "0   1   Stables    Male   16    garlic     113     58\n",
       "1   2  Barracks    Male   28    garlic     137     83\n",
       "2   3   Kitchen  Female   30    garlic      73     39\n",
       "3   4   Stables    Male   27    garlic     156     90\n",
       "4   5  Barracks    Male   10    garlic      70     22"
      ]
     },
     "execution_count": 2,
     "metadata": {},
     "output_type": "execute_result"
    }
   ],
   "source": [
    "# Read data\n",
    "d = pd.read_csv('rh_data.csv')\n",
    "d.head(5)"
   ]
  },
  {
   "cell_type": "code",
   "execution_count": 3,
   "metadata": {},
   "outputs": [
    {
     "data": {
      "image/png": "[encoded data removed]",
      "text/plain": [
       "<Figure size 432x288 with 1 Axes>"
      ]
     },
     "metadata": {
      "needs_background": "light"
     },
     "output_type": "display_data"
    }
   ],
   "source": [
    "ax = plt.axes()\n",
    "for w in d.work.unique():\n",
    "    ax = plt.scatter(d[d.work==w].age, d[d.work==w].before, label=w)\n",
    "plt.legend(bbox_to_anchor=(1.02,1), loc='upper left'); # First set a box, then position the legend within this box"
   ]
  },
  {
   "cell_type": "code",
   "execution_count": 4,
   "metadata": {},
   "outputs": [
    {
     "data": {
      "text/html": [
       "<div>\n",
       "<style scoped>\n",
       "    .dataframe tbody tr th:only-of-type {\n",
       "        vertical-align: middle;\n",
       "    }\n",
       "\n",
       "    .dataframe tbody tr th {\n",
       "        vertical-align: top;\n",
       "    }\n",
       "\n",
       "    .dataframe thead th {\n",
       "        text-align: right;\n",
       "    }\n",
       "</style>\n",
       "<table border=\"1\" class=\"dataframe\">\n",
       "  <thead>\n",
       "    <tr style=\"text-align: right;\">\n",
       "      <th></th>\n",
       "      <th>id</th>\n",
       "      <th>age</th>\n",
       "      <th>before</th>\n",
       "      <th>after</th>\n",
       "      <th>work_Barracks</th>\n",
       "      <th>work_Castle</th>\n",
       "      <th>work_Kitchen</th>\n",
       "      <th>work_Stables</th>\n",
       "      <th>gender_Female</th>\n",
       "      <th>gender_Male</th>\n",
       "      <th>treatment_garlic</th>\n",
       "      <th>treatment_silver</th>\n",
       "    </tr>\n",
       "  </thead>\n",
       "  <tbody>\n",
       "    <tr>\n",
       "      <th>0</th>\n",
       "      <td>1</td>\n",
       "      <td>16</td>\n",
       "      <td>113</td>\n",
       "      <td>58</td>\n",
       "      <td>0</td>\n",
       "      <td>0</td>\n",
       "      <td>0</td>\n",
       "      <td>1</td>\n",
       "      <td>0</td>\n",
       "      <td>1</td>\n",
       "      <td>1</td>\n",
       "      <td>0</td>\n",
       "    </tr>\n",
       "    <tr>\n",
       "      <th>1</th>\n",
       "      <td>2</td>\n",
       "      <td>28</td>\n",
       "      <td>137</td>\n",
       "      <td>83</td>\n",
       "      <td>1</td>\n",
       "      <td>0</td>\n",
       "      <td>0</td>\n",
       "      <td>0</td>\n",
       "      <td>0</td>\n",
       "      <td>1</td>\n",
       "      <td>1</td>\n",
       "      <td>0</td>\n",
       "    </tr>\n",
       "    <tr>\n",
       "      <th>2</th>\n",
       "      <td>3</td>\n",
       "      <td>30</td>\n",
       "      <td>73</td>\n",
       "      <td>39</td>\n",
       "      <td>0</td>\n",
       "      <td>0</td>\n",
       "      <td>1</td>\n",
       "      <td>0</td>\n",
       "      <td>1</td>\n",
       "      <td>0</td>\n",
       "      <td>1</td>\n",
       "      <td>0</td>\n",
       "    </tr>\n",
       "    <tr>\n",
       "      <th>3</th>\n",
       "      <td>4</td>\n",
       "      <td>27</td>\n",
       "      <td>156</td>\n",
       "      <td>90</td>\n",
       "      <td>0</td>\n",
       "      <td>0</td>\n",
       "      <td>0</td>\n",
       "      <td>1</td>\n",
       "      <td>0</td>\n",
       "      <td>1</td>\n",
       "      <td>1</td>\n",
       "      <td>0</td>\n",
       "    </tr>\n",
       "  </tbody>\n",
       "</table>\n",
       "</div>"
      ],
      "text/plain": [
       "   id  age  before  after  work_Barracks  work_Castle  work_Kitchen  \\\n",
       "0   1   16     113     58              0            0             0   \n",
       "1   2   28     137     83              1            0             0   \n",
       "2   3   30      73     39              0            0             1   \n",
       "3   4   27     156     90              0            0             0   \n",
       "\n",
       "   work_Stables  gender_Female  gender_Male  treatment_garlic  \\\n",
       "0             1              0            1                 1   \n",
       "1             0              0            1                 1   \n",
       "2             0              1            0                 1   \n",
       "3             1              0            1                 1   \n",
       "\n",
       "   treatment_silver  \n",
       "0                 0  \n",
       "1                 0  \n",
       "2                 0  \n",
       "3                 0  "
      ]
     },
     "execution_count": 4,
     "metadata": {},
     "output_type": "execute_result"
    }
   ],
   "source": [
    "pd.get_dummies(d).head(4)\n",
    "# drop_first=True is an option, but makes interpretation harder, right?"
   ]
  },
  {
   "cell_type": "code",
   "execution_count": 5,
   "metadata": {},
   "outputs": [],
   "source": [
    "dd = pd.get_dummies(d)\n",
    "col_names  = list(dd.columns)\n",
    "rm_names = ['id','before','after']\n",
    "col_names = [a for a in dd if a not in rm_names] # Filter using list comprehension?"
   ]
  },
  {
   "cell_type": "code",
   "execution_count": 6,
   "metadata": {},
   "outputs": [
    {
     "data": {
      "text/plain": [
       "LinearRegression(copy_X=True, fit_intercept=True, n_jobs=None, normalize=False)"
      ]
     },
     "execution_count": 6,
     "metadata": {},
     "output_type": "execute_result"
    }
   ],
   "source": [
    "model = LinearRegression()\n",
    "model.fit(dd[col_names].values , dd[['before']].values)"
   ]
  },
  {
   "cell_type": "code",
   "execution_count": 7,
   "metadata": {},
   "outputs": [
    {
     "data": {
      "text/plain": [
       "array([8.6326095])"
      ]
     },
     "execution_count": 7,
     "metadata": {},
     "output_type": "execute_result"
    }
   ],
   "source": [
    "model.intercept_"
   ]
  },
  {
   "cell_type": "code",
   "execution_count": 13,
   "metadata": {},
   "outputs": [
    {
     "data": {
      "text/html": [
       "<div>\n",
       "<style scoped>\n",
       "    .dataframe tbody tr th:only-of-type {\n",
       "        vertical-align: middle;\n",
       "    }\n",
       "\n",
       "    .dataframe tbody tr th {\n",
       "        vertical-align: top;\n",
       "    }\n",
       "\n",
       "    .dataframe thead th {\n",
       "        text-align: right;\n",
       "    }\n",
       "</style>\n",
       "<table border=\"1\" class=\"dataframe\">\n",
       "  <thead>\n",
       "    <tr style=\"text-align: right;\">\n",
       "      <th></th>\n",
       "      <th>0</th>\n",
       "    </tr>\n",
       "  </thead>\n",
       "  <tbody>\n",
       "    <tr>\n",
       "      <th>age</th>\n",
       "      <td>4.289491</td>\n",
       "    </tr>\n",
       "    <tr>\n",
       "      <th>work_Barracks</th>\n",
       "      <td>65.892921</td>\n",
       "    </tr>\n",
       "    <tr>\n",
       "      <th>work_Castle</th>\n",
       "      <td>-21.428896</td>\n",
       "    </tr>\n",
       "    <tr>\n",
       "      <th>work_Kitchen</th>\n",
       "      <td>-81.464821</td>\n",
       "    </tr>\n",
       "    <tr>\n",
       "      <th>work_Stables</th>\n",
       "      <td>37.000797</td>\n",
       "    </tr>\n",
       "    <tr>\n",
       "      <th>gender_Female</th>\n",
       "      <td>13.220276</td>\n",
       "    </tr>\n",
       "    <tr>\n",
       "      <th>gender_Male</th>\n",
       "      <td>-13.220276</td>\n",
       "    </tr>\n",
       "    <tr>\n",
       "      <th>treatment_garlic</th>\n",
       "      <td>8.225804</td>\n",
       "    </tr>\n",
       "    <tr>\n",
       "      <th>treatment_silver</th>\n",
       "      <td>-8.225804</td>\n",
       "    </tr>\n",
       "  </tbody>\n",
       "</table>\n",
       "</div>"
      ],
      "text/plain": [
       "                          0\n",
       "age                4.289491\n",
       "work_Barracks     65.892921\n",
       "work_Castle      -21.428896\n",
       "work_Kitchen     -81.464821\n",
       "work_Stables      37.000797\n",
       "gender_Female     13.220276\n",
       "gender_Male      -13.220276\n",
       "treatment_garlic   8.225804\n",
       "treatment_silver  -8.225804"
      ]
     },
     "execution_count": 13,
     "metadata": {},
     "output_type": "execute_result"
    }
   ],
   "source": [
    "# Fit coefficicents:\n",
    "pd.DataFrame(model.coef_.transpose() , col_names)"
   ]
  },
  {
   "cell_type": "code",
   "execution_count": 9,
   "metadata": {},
   "outputs": [],
   "source": [
    "guess = model.predict(dd[col_names].values)"
   ]
  },
  {
   "cell_type": "code",
   "execution_count": 10,
   "metadata": {},
   "outputs": [
    {
     "data": {
      "image/png": "[encoded data removed]",
      "text/plain": [
       "<Figure size 432x288 with 1 Axes>"
      ]
     },
     "metadata": {
      "needs_background": "light"
     },
     "output_type": "display_data"
    }
   ],
   "source": [
    "plt.plot(guess,d[['before']],'.')\n",
    "plt.xlabel('Prediction')\n",
    "plt.ylabel('Actuals');"
   ]
  },
  {
   "cell_type": "code",
   "execution_count": 11,
   "metadata": {},
   "outputs": [
    {
     "name": "stdout",
     "output_type": "stream",
     "text": [
      "RMS:  46.64837239652504\n"
     ]
    }
   ],
   "source": [
    "# RMS on the full set:\n",
    "print('RMS: ',np.sqrt(metrics.mean_squared_error(guess, d[['before']].values)))"
   ]
  },
  {
   "cell_type": "code",
   "execution_count": 59,
   "metadata": {},
   "outputs": [
    {
     "name": "stdout",
     "output_type": "stream",
     "text": [
      "43.65 pm 4.45\n"
     ]
    }
   ],
   "source": [
    "# Manual cross-validation with random splitting\n",
    "\n",
    "scores = []\n",
    "for i in range(10):\n",
    "    # The way train_test_split works is that first few params don't have to named; it will just split all of them.\n",
    "    (xtrain,xtest,ytrain,ytest) = train_test_split(dd[col_names].values , dd[['before']].values,\n",
    "                                              test_size=0.2)\n",
    "    model = LinearRegression()\n",
    "    model.fit(xtrain,ytrain)\n",
    "    guess = model.predict(xtest)\n",
    "    scores.append(np.sqrt(metrics.mean_squared_error(guess, ytest)))\n",
    "    \n",
    "#plt.scatter([1]*len(bag),bag);\n",
    "print(f'{np.mean(scores):.2f} pm {np.std(scores):.2f}')"
   ]
  },
  {
   "cell_type": "code",
   "execution_count": 63,
   "metadata": {},
   "outputs": [
    {
     "name": "stdout",
     "output_type": "stream",
     "text": [
      "K-fold: 50.48 pm 9.47\n",
      "Leave-one-out: 39.42 pm 30.26\n"
     ]
    }
   ],
   "source": [
    "# Proper cross-validation\n",
    "model = LinearRegression()\n",
    "\n",
    "# k-fold:\n",
    "scores = cross_val_score(model, dd[col_names].values, dd[['before']].values, cv=10, scoring='neg_mean_squared_error')\n",
    "scores = np.sqrt(-scores) # Because now MSE is returned as a negative value\n",
    "print(f'K-fold: {np.mean(scores):.2f} pm {np.std(scores):.2f}')\n",
    "\n",
    "# Leave one out:\n",
    "# (obviously STD doesn't make any sense in this case, as with only 1 testing point it is astronomical)\n",
    "scores = cross_val_score(model, dd[col_names].values, dd[['before']].values, cv=len(dd), scoring='neg_mean_squared_error')\n",
    "scores = np.sqrt(-scores) # Because now MSE is returned as a negative value\n",
    "print(f'Leave-one-out: {np.mean(scores):.2f} pm {np.std(scores):.2f}')"
   ]
  }
 ],
 "metadata": {
  "kernelspec": {
   "display_name": "Python 3",
   "language": "python",
   "name": "python3"
  },
  "language_info": {
   "codemirror_mode": {
    "name": "ipython",
    "version": 3
   },
   "file_extension": ".py",
   "mimetype": "text/x-python",
   "name": "python",
   "nbconvert_exporter": "python",
   "pygments_lexer": "ipython3",
   "version": "3.7.3"
  }
 },
 "nbformat": 4,
 "nbformat_minor": 2
}
