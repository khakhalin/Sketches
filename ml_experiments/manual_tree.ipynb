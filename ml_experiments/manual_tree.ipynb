{
 "cells": [
  {
   "cell_type": "markdown",
   "metadata": {},
   "source": [
    "# Manual decision tree"
   ]
  },
  {
   "cell_type": "code",
   "execution_count": 1,
   "metadata": {},
   "outputs": [],
   "source": [
    "import numpy as np\n",
    "import matplotlib.pyplot as plt"
   ]
  },
  {
   "cell_type": "code",
   "execution_count": 2,
   "metadata": {},
   "outputs": [
    {
     "data": {
      "image/png": "[encoded data removed]",
      "text/plain": [
       "<Figure size 432x288 with 1 Axes>"
      ]
     },
     "metadata": {
      "needs_background": "light"
     },
     "output_type": "display_data"
    }
   ],
   "source": [
    "# Generate data\n",
    "n = 20\n",
    "sigma = 0.5\n",
    "\n",
    "np.random.seed(1)\n",
    "mu = np.random.uniform(size=(2,2))\n",
    "x = np.empty\n",
    "y = np.empty\n",
    "for i in range(mu.shape[0]):\n",
    "    n1 = round(n/2)\n",
    "    xn = mu[i,:]+np.random.normal(size=(n1,2))*sigma\n",
    "    if i==0:\n",
    "        x = xn\n",
    "        y = np.ones(shape=(n1,1))*i\n",
    "    else:\n",
    "        x = np.append(x, xn, axis=0)\n",
    "        y = np.append(y, np.ones(shape=(n1,1))*i)\n",
    "\n",
    "def mydraw(x,y):\n",
    "    for i in np.unique(y):\n",
    "        g = (y==i)\n",
    "        plt.plot(x[g,0],x[g,1],'.');\n",
    "        \n",
    "        \n",
    "ax = plt.axes\n",
    "mydraw(x,y)"
   ]
  },
  {
   "cell_type": "code",
   "execution_count": 3,
   "metadata": {},
   "outputs": [
    {
     "name": "stdout",
     "output_type": "stream",
     "text": [
      "(6, 0.17142857142857143)\n"
     ]
    }
   ],
   "source": [
    "# Gini impurity\n",
    "def gini(a):\n",
    "    #quadratify = lambda z: 1-z**2 - (1-z)**2\n",
    "    quadratify = lambda z: z - z**2\n",
    "    zl = np.cumsum(1-a)/(1+np.arange(len(a)))\n",
    "    zl = quadratify(zl) # Impurity of the left half\n",
    "    zr = np.cumsum(a)\n",
    "    zr = (zr[-1]-zr)/np.arange(len(a),0,-1)\n",
    "    zr = quadratify(zr)\n",
    "    g = (zl*np.arange(1,1+len(a)) + zr*np.arange(len(a),0,-1))/len(a) # Weighted impurity\n",
    "    i = np.argmin(g)\n",
    "    return  (i, g[i])\n",
    "\n",
    "a = [1,0,0,0,1,1,1,0,0,0]\n",
    "a = np.array(a)\n",
    "print(gini(a))"
   ]
  },
  {
   "cell_type": "code",
   "execution_count": 4,
   "metadata": {},
   "outputs": [
    {
     "data": {
      "image/png": "[encoded data removed]",
      "text/plain": [
       "<Figure size 432x432 with 1 Axes>"
      ]
     },
     "metadata": {
      "needs_background": "light"
     },
     "output_type": "display_data"
    }
   ],
   "source": [
    "def split(x,y,dim=0):\n",
    "    i = np.argsort(x[:,dim])\n",
    "    n = y.shape[0]\n",
    "    (im,e) = gini(y[i]) # Point of split and impurity value\n",
    "    if im<n-1: im += 1  # Make the left section include the breeak point\n",
    "    m = np.mean(x[i[[im-1,im]],:],axis=0) # Decision value for this split\n",
    "    if dim==0:\n",
    "        l = (m[0]*np.array([1,1]) , np.array([np.min(x[:,1]),np.max(x[:,1])])) # To plot a line later\n",
    "    else:\n",
    "        l = (np.array([np.min(x[:,0]),np.max(x[:,0])]) , m[1]*np.array([1,1]))\n",
    "    return (i[0:im],i[im:],e,l)\n",
    "\n",
    "def divide(x,y):\n",
    "    if len(np.unique(y))<=1: # If uniform, you're done, eject\n",
    "        return\n",
    "    (a0,b0,e0,l0) = split(x,y,0)\n",
    "    (a1,b1,e1,l1) = split(x,y,1)\n",
    "    if e0<e1: # Split 0 is better\n",
    "        plt.plot(l0[0],l0[1],'g-')\n",
    "        divide(x[a0],y[a0]) # Recurrent part\n",
    "        divide(x[b0],y[b0])\n",
    "    else:\n",
    "        plt.plot(l1[0],l1[1],'g-')\n",
    "        divide(x[a1],y[a1])\n",
    "        divide(x[b1],y[b1])\n",
    "\n",
    "# fig\n",
    "plt.figure(figsize=(6,6))\n",
    "ax = plt.axes\n",
    "mydraw(x,y)\n",
    "divide(x,y)"
   ]
  },
  {
   "cell_type": "code",
   "execution_count": null,
   "metadata": {},
   "outputs": [],
   "source": []
  }
 ],
 "metadata": {
  "kernelspec": {
   "display_name": "Python 3",
   "language": "python",
   "name": "python3"
  },
  "language_info": {
   "codemirror_mode": {
    "name": "ipython",
    "version": 3
   },
   "file_extension": ".py",
   "mimetype": "text/x-python",
   "name": "python",
   "nbconvert_exporter": "python",
   "pygments_lexer": "ipython3",
   "version": "3.7.0"
  }
 },
 "nbformat": 4,
 "nbformat_minor": 2
}
