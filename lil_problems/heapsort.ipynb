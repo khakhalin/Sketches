{
 "cells": [
  {
   "cell_type": "markdown",
   "metadata": {},
   "source": [
    "# Heapsort\n",
    "\n",
    "More like, rewriting a queue from scratch"
   ]
  },
  {
   "cell_type": "code",
   "execution_count": 14,
   "metadata": {},
   "outputs": [
    {
     "name": "stdout",
     "output_type": "stream",
     "text": [
      "[0, 1, 2, 3, 4, 4, 7, 3, 5]\n",
      "[0, 2, 4, 3, 4, 5, 7, 3]\n",
      "[0, 3, 4, 3, 4, 5, 7]\n",
      "[0, 3, 4, 7, 4, 5]\n",
      "[0, 4, 4, 7, 5]\n",
      "[0, 4, 5, 7]\n",
      "[0, 5, 7]\n",
      "[0, 7]\n"
     ]
    },
    {
     "data": {
      "text/plain": [
       "[1, 2, 3, 3, 4, 4, 5, 7]"
      ]
     },
     "execution_count": 14,
     "metadata": {},
     "output_type": "execute_result"
    }
   ],
   "source": [
    "def heapsort(x):\n",
    "    heap = [0]\n",
    "    \n",
    "    def sink(a,i):\n",
    "        if 2*i >= len(a): return a\n",
    "        if 2*i+1 >= len(a) or a[2*i+1]>a[2*i] and a[2*i] < a[i]:\n",
    "            a[2*i],a[i] = a[i],a[2*i]\n",
    "            return sink(a,2*i)\n",
    "        if a[2*i+1] < a[i]:\n",
    "            a[2*i+1],a[i] = a[i],a[2*i+1]\n",
    "            return sink(a,2*i+1)\n",
    "        return a\n",
    "        \n",
    "    def up(a,i):\n",
    "        if i==1: return a\n",
    "        if a[i//2]>a[i]:\n",
    "            a[i//2],a[i] = a[i],a[i//2]\n",
    "            return up(a,i//2)\n",
    "        return a\n",
    "    \n",
    "    for val in x:\n",
    "        heap.append(val)\n",
    "        up(heap,len(heap)-1)\n",
    "        #print(heap)\n",
    "        \n",
    "    out = []\n",
    "    while len(heap)>1:\n",
    "        print(heap)\n",
    "        out.append(heap[1])\n",
    "        heap[1],heap[-1] = heap[-1],heap[1]\n",
    "        heap.pop(-1)\n",
    "        sink(heap,1)\n",
    "    \n",
    "    return out\n",
    "\n",
    "heapsort([1,5,3,4,2,7,3,4])"
   ]
  }
 ],
 "metadata": {
  "kernelspec": {
   "display_name": "Python 3",
   "language": "python",
   "name": "python3"
  },
  "language_info": {
   "codemirror_mode": {
    "name": "ipython",
    "version": 3
   },
   "file_extension": ".py",
   "mimetype": "text/x-python",
   "name": "python",
   "nbconvert_exporter": "python",
   "pygments_lexer": "ipython3",
   "version": "3.7.6"
  }
 },
 "nbformat": 4,
 "nbformat_minor": 4
}
