{
 "cells": [
  {
   "cell_type": "markdown",
   "metadata": {},
   "source": [
    "# H-index problem\n",
    "\n",
    "(Given a list of citations for every paper, that is set once once the paper is published and never changes (unlike IRL), calcualate a list of h-indices after each paper is published.)\n",
    "\n",
    "Works well on all my test cases, but somehow fails the hidden test. Not sure why."
   ]
  },
  {
   "cell_type": "code",
   "execution_count": 1,
   "metadata": {},
   "outputs": [],
   "source": [
    "import os\n",
    "import io"
   ]
  },
  {
   "cell_type": "code",
   "execution_count": 2,
   "metadata": {},
   "outputs": [],
   "source": [
    "def read_text():\n",
    "    f = open(\"input_h_index.txt\",\"r\",encoding='utf-8');\n",
    "    mytext = f.readlines()\n",
    "    return mytext\n",
    "\n",
    "def input():\n",
    "    return mytext.pop(0)"
   ]
  },
  {
   "cell_type": "code",
   "execution_count": 4,
   "metadata": {},
   "outputs": [
    {
     "name": "stdout",
     "output_type": "stream",
     "text": [
      "Case #0: 1 2 2\n",
      "Case #1: 1 2 3 3 3 4\n",
      "Case #2: 1 2\n",
      "Case #3: 1\n",
      "Case #4: 1 2 3 4 5\n",
      "Case #5: 1 2 3 4\n",
      "Case #6: 1 2 3\n"
     ]
    }
   ],
   "source": [
    "mytext = read_text() # The only line not to be copied\n",
    "\n",
    "class PQ():\n",
    "    \"\"\"Min Priority queue.\"\"\"\n",
    "    def __init__(self):\n",
    "        self.x = [0]\n",
    "    \n",
    "    def add(self, val):\n",
    "        self.x.append(val)\n",
    "        self._swim(len(self.x)-1)\n",
    "        \n",
    "    def pop(self):\n",
    "        if len(self.x)==1: return None\n",
    "        out = self.x[1]\n",
    "        self.x[1] = self.x[-1]\n",
    "        self.x.pop(-1)\n",
    "        self._sink(1)\n",
    "        return out\n",
    "    \n",
    "    def peek(self):\n",
    "        if len(self.x)==1: return None\n",
    "        return self.x[1]\n",
    "    \n",
    "    def len(self):\n",
    "        return len(self.x)-1\n",
    "    \n",
    "    def swap(self,i,j):\n",
    "        self.x[i],self.x[j] = self.x[j],self.x[i]\n",
    "    \n",
    "    def _sink(self, i):\n",
    "        while i<len(self.x):\n",
    "            child = 2*i\n",
    "            if child>=len(self.x): break\n",
    "            if child+1 < len(self.x) and self.x[child+1]<self.x[child]:\n",
    "                child += 1\n",
    "            if self.x[child]<self.x[i]:\n",
    "                self.swap(child,i)\n",
    "                i = child\n",
    "            else:\n",
    "                break\n",
    "                \n",
    "    def _swim(self, i):\n",
    "        while i>1:\n",
    "            parent = i // 2\n",
    "            if self.x[parent]>self.x[i]:\n",
    "                self.swap(parent,i)\n",
    "                i = parent\n",
    "            else:\n",
    "                break\n",
    "            \n",
    "    def __str__(self):\n",
    "        return str(self.x)\n",
    "    \n",
    "    \n",
    "\n",
    "n_cases = int(input())\n",
    "q = PQ()\n",
    "for i_case in range(n_cases):\n",
    "    np = int(input())\n",
    "    cit = [int(i) for i in input().split(' ')]\n",
    "    #print(cit)\n",
    "    out = []\n",
    "    h = 0\n",
    "    for x in cit:\n",
    "        q.add(x)\n",
    "        while q.peek()<h:\n",
    "            q.pop()\n",
    "        if q.len()>h:\n",
    "            h += 1\n",
    "        out.append(h)        \n",
    "    print(\"Case #\" + str(i_case) + \": \" + \n",
    "          \" \".join([str(a) for a in out]))"
   ]
  }
 ],
 "metadata": {
  "kernelspec": {
   "display_name": "Python 3",
   "language": "python",
   "name": "python3"
  },
  "language_info": {
   "codemirror_mode": {
    "name": "ipython",
    "version": 3
   },
   "file_extension": ".py",
   "mimetype": "text/x-python",
   "name": "python",
   "nbconvert_exporter": "python",
   "pygments_lexer": "ipython3",
   "version": "3.7.6"
  }
 },
 "nbformat": 4,
 "nbformat_minor": 4
}
