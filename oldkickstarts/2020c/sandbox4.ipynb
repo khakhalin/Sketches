{
 "cells": [
  {
   "cell_type": "markdown",
   "metadata": {},
   "source": [
    "# Candy"
   ]
  },
  {
   "cell_type": "code",
   "execution_count": 1,
   "metadata": {},
   "outputs": [],
   "source": [
    "import os\n",
    "import io"
   ]
  },
  {
   "cell_type": "code",
   "execution_count": 7,
   "metadata": {},
   "outputs": [],
   "source": [
    "def read_text():\n",
    "    f = open(\"input4.txt\",\"r\",encoding='utf-8');\n",
    "    mytext = f.readlines()\n",
    "    return mytext\n",
    "\n",
    "def input():\n",
    "    return mytext.pop(0)"
   ]
  },
  {
   "cell_type": "markdown",
   "metadata": {},
   "source": [
    "    Case #1: -8\n",
    "    Case #2: -3"
   ]
  },
  {
   "cell_type": "code",
   "execution_count": 26,
   "metadata": {},
   "outputs": [
    {
     "name": "stdout",
     "output_type": "stream",
     "text": [
      "Case #1: -8\n",
      "Case #2: -3\n"
     ]
    }
   ],
   "source": [
    "mytext = read_text() # The only line not to be copied\n",
    "# --------------------\n",
    "\n",
    "def query(nums, l, r):\n",
    "    out = 0\n",
    "    for i in range(l,r+1): # Index 1 -ed\n",
    "        out += ((-1)**(i-l))*(i-l+1)*nums[i-1]\n",
    "    return out\n",
    "\n",
    "def brute_force():\n",
    "    n_cases = int(input())\n",
    "    for i_case in range(n_cases):\n",
    "        out = 0\n",
    "        n,q = (int(s) for s in input().strip().split(' '))\n",
    "        nums = [int(s) for s in input().strip().split(' ')]\n",
    "        #print(nums)\n",
    "        for irow in range(q):\n",
    "            command = input().strip().split(' ')\n",
    "            if command[0]=='U':\n",
    "                nums[int(command[1])-1] = int(command[2])\n",
    "            else:\n",
    "                out += query(nums, int(command[1]), int(command[2]))\n",
    "            #print(command)\n",
    "\n",
    "        print('Case #'+str(i_case+1)+': ' + str(out))\n",
    "        \n",
    "brute_force()"
   ]
  },
  {
   "cell_type": "code",
   "execution_count": null,
   "metadata": {},
   "outputs": [],
   "source": []
  }
 ],
 "metadata": {
  "kernelspec": {
   "display_name": "Python 3",
   "language": "python",
   "name": "python3"
  },
  "language_info": {
   "codemirror_mode": {
    "name": "ipython",
    "version": 3
   },
   "file_extension": ".py",
   "mimetype": "text/x-python",
   "name": "python",
   "nbconvert_exporter": "python",
   "pygments_lexer": "ipython3",
   "version": "3.7.6"
  }
 },
 "nbformat": 4,
 "nbformat_minor": 4
}
