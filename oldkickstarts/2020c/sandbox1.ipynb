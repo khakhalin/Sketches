{
 "cells": [
  {
   "cell_type": "markdown",
   "metadata": {},
   "source": [
    "# Countdowns"
   ]
  },
  {
   "cell_type": "code",
   "execution_count": 1,
   "metadata": {},
   "outputs": [],
   "source": [
    "import os\n",
    "import io"
   ]
  },
  {
   "cell_type": "code",
   "execution_count": 10,
   "metadata": {},
   "outputs": [],
   "source": [
    "def read_text():\n",
    "    f = open(\"input1.txt\",\"r\",encoding='utf-8');\n",
    "    mytext = f.readlines()\n",
    "    return mytext\n",
    "\n",
    "def input():\n",
    "    return mytext.pop(0)"
   ]
  },
  {
   "cell_type": "markdown",
   "metadata": {},
   "source": [
    "    Case #1: 2\n",
    "    Case #2: 0\n",
    "    Case #3: 1"
   ]
  },
  {
   "cell_type": "code",
   "execution_count": 40,
   "metadata": {},
   "outputs": [
    {
     "name": "stdout",
     "output_type": "stream",
     "text": [
      "Case #1: 2\n",
      "Case #2: 0\n",
      "Case #3: 1\n",
      "Case #4: 2\n",
      "Case #5: 0\n",
      "Case #6: 1\n",
      "Case #7: 2\n"
     ]
    }
   ],
   "source": [
    "mytext = read_text() # The only line not to be copied\n",
    "# --------------------\n",
    "\n",
    "n_cases = int(input())\n",
    "for i_case in range(n_cases):\n",
    "    n,k = (int(s) for s in input().split(' '))\n",
    "    nums = [int(s) for s in input().strip().split(' ')]\n",
    "    ans=0\n",
    "    expected = k\n",
    "    for num in nums:\n",
    "        if num==k:\n",
    "            expected = k-1\n",
    "        elif num==expected:\n",
    "            expected -= 1\n",
    "        else:\n",
    "            expected = k\n",
    "        if expected==0:\n",
    "            ans += 1\n",
    "            expected = k\n",
    "    print('Case #'+str(i_case+1)+': '+str(ans))"
   ]
  },
  {
   "cell_type": "code",
   "execution_count": null,
   "metadata": {},
   "outputs": [],
   "source": []
  }
 ],
 "metadata": {
  "kernelspec": {
   "display_name": "Python 3",
   "language": "python",
   "name": "python3"
  },
  "language_info": {
   "codemirror_mode": {
    "name": "ipython",
    "version": 3
   },
   "file_extension": ".py",
   "mimetype": "text/x-python",
   "name": "python",
   "nbconvert_exporter": "python",
   "pygments_lexer": "ipython3",
   "version": "3.7.6"
  }
 },
 "nbformat": 4,
 "nbformat_minor": 4
}
