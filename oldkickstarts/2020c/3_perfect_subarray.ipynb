{
 "cells": [
  {
   "cell_type": "markdown",
   "metadata": {},
   "source": [
    "# Perfect subarray\n",
    "\n",
    "Find all subarrays of an array that sum to a perfect square (an integer-based square, or k^2 for some k that is integer)."
   ]
  },
  {
   "cell_type": "code",
   "execution_count": 1,
   "metadata": {},
   "outputs": [],
   "source": [
    "import os\n",
    "import io\n",
    "import numpy as np\n",
    "import matplotlib.pyplot as plt\n",
    "import time"
   ]
  },
  {
   "cell_type": "markdown",
   "metadata": {},
   "source": [
    "Here are several solutions, from the most stupid and slow, to the most fast and complex."
   ]
  },
  {
   "cell_type": "markdown",
   "metadata": {},
   "source": [
    "**Option 1: Brute-force.** A true brute-forth solution. Considers all sums, calculates the sqrt(), checks if it's an integer. As stupid as it can get."
   ]
  },
  {
   "cell_type": "code",
   "execution_count": 22,
   "metadata": {},
   "outputs": [
    {
     "data": {
      "text/plain": [
       "9"
      ]
     },
     "execution_count": 22,
     "metadata": {},
     "output_type": "execute_result"
    }
   ],
   "source": [
    "def solution_bf(nums):\n",
    "    \"\"\"Brute-force.\"\"\"\n",
    "    n = len(nums)\n",
    "    out = 0\n",
    "    for j in range(1,n+1):\n",
    "        for i in range(j):\n",
    "            s = sum(nums[i:j])\n",
    "            if s>=0:\n",
    "                s = np.sqrt(s)\n",
    "                if s-int(s)==0:\n",
    "                    out += 1\n",
    "    return out\n",
    "\n",
    "solution_bf([4,0,0,16])"
   ]
  },
  {
   "cell_type": "markdown",
   "metadata": {},
   "source": [
    "**Option 2: Precalculate squares.**: Still brute-force sums, but pre-calculates and hashes squares. The magic number for how many squares to calcualte is based on the rules that all numbers are <100, but one could use other adaptive approaches here (like, extending the set on demand for example...)"
   ]
  },
  {
   "cell_type": "code",
   "execution_count": 10,
   "metadata": {},
   "outputs": [
    {
     "data": {
      "text/plain": [
       "9"
      ]
     },
     "execution_count": 10,
     "metadata": {},
     "output_type": "execute_result"
    }
   ],
   "source": [
    "def solution_bf1(nums):\n",
    "    \"\"\"Brute-force with pre-calculated and hashed squares.\"\"\"\n",
    "    squares = set([i**2 for i in range(int(np.sqrt(len(nums)*100))+1)])\n",
    "    n = len(nums)\n",
    "    out = 0\n",
    "    for j in range(1,n+1):\n",
    "        for i in range(j):\n",
    "            if sum(nums[i:j]) in squares:\n",
    "                out += 1\n",
    "    return out\n",
    "\n",
    "solution_bf1([4,0,0,16])"
   ]
  },
  {
   "cell_type": "markdown",
   "metadata": {},
   "source": [
    "**Option 3: Use sliding window for sums.** Instead of calculating all possible sums from scratch (which means an $O(n^3)$ complexity), calculate sums using a sliding window, and just subtracting items from one end, and adding them at another (should move us to $O(n^2)$ complexity). Squares are still pre-calculated."
   ]
  },
  {
   "cell_type": "code",
   "execution_count": 9,
   "metadata": {},
   "outputs": [
    {
     "data": {
      "text/plain": [
       "9"
      ]
     },
     "execution_count": 9,
     "metadata": {},
     "output_type": "execute_result"
    }
   ],
   "source": [
    "def solution_bfo(nums):\n",
    "    \"\"\"Optimization of summing (sliding windows to get from O(n3) to O(n2).\"\"\"\n",
    "    squares = set([i**2 for i in range(int(np.sqrt(len(nums)*100))+1)])  # Pre-calc and hash squares\n",
    "    out = 0\n",
    "    n = len(nums)\n",
    "    first_sum = 0                           # to avoid re-running sum(nums[:m])\n",
    "    for m in range(1,n+1):\n",
    "        for i in range(n-m+1):\n",
    "            if i==0:\n",
    "                s = first_sum + nums[i+m-1]\n",
    "                first_sum = s\n",
    "            else:\n",
    "                s += nums[i+m-1]-nums[i-1]\n",
    "            if s in squares:\n",
    "                out += 1\n",
    "    return out\n",
    "\n",
    "solution_bfo([4,0,0,16])"
   ]
  },
  {
   "cell_type": "markdown",
   "metadata": {},
   "source": [
    "**Option 4: Hash-table for previous observed sums.** This is a standard solution for problems like \"For a given array, find all pairs of numbers that sum to a given number\". The idea here is to shave one more degree from $O(n^p)$ by storing in a hash table all \"suitable\" values that can \"complete\" a given sum to the target. It is totally counter-intuitive (or at least it was for me), but the trick is that checking whether an element is in a hash table is almost instantaneous, while going through all possible pairs takes time. Same here: instead of considering all possible sums, let's look at previously observed sums, and check whether we can use the current sums and some of the previously observed sums to cook a full square.\n",
    "\n",
    "Here's how it works in practice. A sum of elements from $L$ to $R$ is a sum of elements from $0$ to $R$ minus the sum of elements from $0$ to $L$ (in the notation where the left border is included in the sum, but the right border doesn't). Which means that instead of checking all possible subarrays $LR$ that finish at $R$, we can consider one large subarray $0R$ that goes from $0$ to $R$, and then carefully compare this sum with all sums that go from $0$ to all possible $L$, $L<R$. If $0L$ sum is what makes $0R$ sum miss a perfect square $Q$, let's just drop the $0L$, and the remaining $LR$ sum will qualify.\n",
    "\n",
    "But as we don't actually want to loop through all $0L$ sums, but want to look up in a hash table \"a value that would work\", it means that we kinda need to know the square ($Q$). Then we can just check whether $0R-Q$ is in the hash table of all previously observed $0L$ sums, for $L<R$.\n",
    "\n",
    "But that means that we need to loop through all possible perfect squares $Q$. Which is totally counterinuitive, as in the previous solution we have just pre-calculated them, in order not to calculate them every time, and now we are perfectly willing to loop through them for every element $R$ in the array. But that's the trade-off. We need to cycle through something, so that we could look up the last missing piece up in the table. And in this case cycling through squares is cheaper. (Especially if we give up early on, and don't go to ridiculously high values of $k^2$, the moment we realize that they are unachievable with current values of $R$. Which we can do, if bounds on the number of elements in the array, and the value of these elements, are given)."
   ]
  },
  {
   "cell_type": "code",
   "execution_count": 14,
   "metadata": {},
   "outputs": [
    {
     "data": {
      "text/plain": [
       "9"
      ]
     },
     "execution_count": 14,
     "metadata": {},
     "output_type": "execute_result"
    }
   ],
   "source": [
    "def solution_hash(nums):\n",
    "    squares = [i**2 for i in range(int(np.sqrt(len(nums)*100))+1)]\n",
    "    out = 0\n",
    "    n = len(nums)\n",
    "    hm = {}\n",
    "    s = 0                   # Current sum\n",
    "    smallest_ever = 0       # Smallest partial sum ever observed, to guess the top limit on subarray sum.\n",
    "    for i in range(n):      # For each element\n",
    "        s += nums[i]        # Calculate current sum\n",
    "        for sq in squares:  # Go through all squares\n",
    "            if sq>s-smallest_ever: # If there's no hope to exceed this square..\n",
    "                break              # ...halt these attempts.\n",
    "            if sq==s:              # If this sum works as is, be happy\n",
    "                out += 1\n",
    "            if s-sq in hm:         # If any former sum, if excluded, can bring us to a square\n",
    "                out += hm[s-sq]    # ..count how many former sums fit the bill.\n",
    "        if s < smallest_ever:      # If current sum is unusually small (negative numbers),\n",
    "            smallest_ever = s      # ..remember it.\n",
    "        hm[s] = hm.get(s, 0)+1     # Remember that current sum was achieved.\n",
    "    return out\n",
    "\n",
    "solution_hash([4,0,0,16])"
   ]
  },
  {
   "cell_type": "markdown",
   "metadata": {},
   "source": [
    "**Option 5: Same as above, but with an array for previously observed sums instead of a hash-table.** The benefit that it is faster. The draw-back is that if negative elements are allowed (and they are allowed), then indexing based on the sum $0L$ is a bit tricky, as it can be negative, so we first need to figure out to transform all negative numbers into positives by correctly offsetting them."
   ]
  },
  {
   "cell_type": "code",
   "execution_count": 18,
   "metadata": {},
   "outputs": [
    {
     "data": {
      "text/plain": [
       "9"
      ]
     },
     "execution_count": 18,
     "metadata": {},
     "output_type": "execute_result"
    }
   ],
   "source": [
    "def solution_arr(nums):\n",
    "    squares = [i**2 for i in range(int(np.sqrt(len(nums)*100))+1)]\n",
    "    out = 0\n",
    "    t = len(nums)\n",
    "    mn = mx = 0             # Minimal and maximal sums of 0L arrays \n",
    "    s = 0                   # running sum\n",
    "    for i in range(t):\n",
    "        s += nums[i]\n",
    "        if s<mn: mn = s\n",
    "        if s>mx: mx = s\n",
    "            \n",
    "    hm = [0]*(mx-mn+1)      # Former hashmap, but now just an indexed array\n",
    "    s = 0                   # Current sum\n",
    "    for i in range(t):      # For each element\n",
    "        s += nums[i]        # Calculate current sum\n",
    "        for sq in squares:  # Go through all squares\n",
    "            if sq>s-mn:     # If there's no hope to exceed this square..\n",
    "                break              # ...halt these attempts.\n",
    "            if sq==s:              # If this sum works as is, be happy\n",
    "                out += 1\n",
    "            out += hm[s-sq-mn]     # mn is negative, so subtracting it makes index positive\n",
    "        hm[s-mn] += 1       # Remember that current sum was achieved.\n",
    "    return out\n",
    "\n",
    "solution_arr([4,0,0,16])"
   ]
  },
  {
   "cell_type": "code",
   "execution_count": 12,
   "metadata": {},
   "outputs": [
    {
     "name": "stdout",
     "output_type": "stream",
     "text": [
      "34 2 34 -51 75 23 -16 -84 -42 16 57 -6 99 42 -88 3 -88 -99 -39 43 86 -56 -16 -72 -51 -60 -62 11 78 68 59 -1 25 -49 17 -46 -11 -39 -67 50 35 -21 43 37 -12 84 -58 18 93 47 29 11 93 23 -81 42 57 79 -41 35 -55 25 -2 10 -23 -68 13 -65 67 -61 1 84 -40 43 -56 71 -100 -63 0 -70 3 36 31 33 23 65 18 -24 0 -75 25 80 -16 -32 -44 -38 -30 -58 -42 29\n"
     ]
    }
   ],
   "source": [
    "def make_input(n=10):\n",
    "    return np.random.choice(range(-100,100), n)\n",
    "    \n",
    "a = make_input(100)\n",
    "print(' '.join([str(i) for i in a]))"
   ]
  },
  {
   "cell_type": "code",
   "execution_count": 50,
   "metadata": {},
   "outputs": [],
   "source": [
    "# Some randomized testing of different solutions (just a sanity check)\n",
    "for i in range(1000):\n",
    "    l = i % 100\n",
    "    a = make_input(l)\n",
    "    answer1 = solution_bfo(a)\n",
    "    answer2 = solution_arr(a)\n",
    "    if answer1 != answer2:\n",
    "        print(a)\n",
    "    # With random inputs, both methods seem to produce identical answers..."
   ]
  },
  {
   "cell_type": "code",
   "execution_count": 19,
   "metadata": {},
   "outputs": [
    {
     "name": "stdout",
     "output_type": "stream",
     "text": [
      "Brute-force:\n",
      "1000\n",
      "Wall time: 23.3 s\n",
      "Brute-force with hashing squares:\n",
      "Wall time: 23.9 s\n",
      "Smart summing + hashing squares:\n",
      "Wall time: 337 ms\n",
      "Dynamic programming solution:\n",
      "Wall time: 19 ms\n",
      "Dynamic programming, and no hashmap:\n",
      "Wall time: 32.9 ms\n"
     ]
    },
    {
     "data": {
      "text/plain": [
       "5807"
      ]
     },
     "execution_count": 19,
     "metadata": {},
     "output_type": "execute_result"
    }
   ],
   "source": [
    "a = make_input(1000)\n",
    "print('Brute-force:')\n",
    "%time solution_bf(a)\n",
    "print('Brute-force with hashing squares:')\n",
    "%time solution_bf1(a)\n",
    "print('Smart summing + hashing squares:')\n",
    "%time solution_bfo(a)\n",
    "print('Dynamic programming solution:')\n",
    "%time solution_hash(a)\n",
    "print('Dynamic programming, and no hashmap:')\n",
    "%time solution_arr(a)"
   ]
  },
  {
   "cell_type": "code",
   "execution_count": 81,
   "metadata": {},
   "outputs": [],
   "source": [
    "a = make_input(1000)"
   ]
  },
  {
   "cell_type": "code",
   "execution_count": 23,
   "metadata": {},
   "outputs": [
    {
     "name": "stdout",
     "output_type": "stream",
     "text": [
      "5 200\n",
      "10 100\n",
      "20 50\n",
      "50 20\n",
      "100 10\n",
      "200 5\n",
      "300 3\n",
      "400 2\n",
      "500 2\n"
     ]
    }
   ],
   "source": [
    "funs = [solution_bf, solution_bf1, solution_bfo, solution_hash, solution_arr]\n",
    "labels = ['Brute-Force', 'pre-caled squares', 'windowed sum', 'hash-table', 'array']\n",
    "ns = [5, 10, 20, 50, 100, 200, 300, 400, 500]\n",
    "total_n = 1000\n",
    "\n",
    "results = np.zeros((len(ns), len(funs)))\n",
    "for i_n in range(len(ns)):\n",
    "    n = ns[i_n]\n",
    "    ntrials = total_n // n\n",
    "    print(n, ntrials)\n",
    "    for itrial in range(ntrials):\n",
    "        a = make_input(n)\n",
    "        for i_f in range(len(funs)):\n",
    "            tic = time.time()\n",
    "            _ = funs[i_f](a)\n",
    "            results[i_n, i_f] += time.time()-tic\n",
    "    results[i_n, :] /= ntrials"
   ]
  },
  {
   "cell_type": "code",
   "execution_count": 25,
   "metadata": {},
   "outputs": [
    {
     "data": {
      "image/png": "[encoded data removed]",
      "text/plain": [
       "<Figure size 432x288 with 1 Axes>"
      ]
     },
     "metadata": {
      "needs_background": "light"
     },
     "output_type": "display_data"
    }
   ],
   "source": [
    "plt.plot(ns, results, '.-',);\n",
    "plt.legend(labels=labels);\n",
    "plt.xlabel('Input length');\n",
    "plt.ylabel('Time, s');"
   ]
  },
  {
   "cell_type": "code",
   "execution_count": 26,
   "metadata": {},
   "outputs": [
    {
     "data": {
      "image/png": "[encoded data removed]",
      "text/plain": [
       "<Figure size 432x288 with 1 Axes>"
      ]
     },
     "metadata": {
      "needs_background": "light"
     },
     "output_type": "display_data"
    }
   ],
   "source": [
    "plt.plot(ns, results, '.-',);\n",
    "plt.xscale('log')\n",
    "plt.yscale('log')\n",
    "plt.legend(labels=labels);\n",
    "plt.xlabel('Input length');\n",
    "plt.ylabel('Time, s');"
   ]
  },
  {
   "cell_type": "markdown",
   "metadata": {},
   "source": [
    "## Original submissions"
   ]
  },
  {
   "cell_type": "code",
   "execution_count": 8,
   "metadata": {},
   "outputs": [],
   "source": [
    "def read_text():\n",
    "    f = open(\"input3.txt\",\"r\",encoding='utf-8');\n",
    "    mytext = f.readlines()\n",
    "    return mytext\n",
    "\n",
    "def input():\n",
    "    return mytext.pop(0)"
   ]
  },
  {
   "cell_type": "markdown",
   "metadata": {},
   "source": [
    "    Case #1: 1\n",
    "    Case #2: 3\n",
    "    Case #3: 9"
   ]
  },
  {
   "cell_type": "code",
   "execution_count": 10,
   "metadata": {},
   "outputs": [
    {
     "name": "stdout",
     "output_type": "stream",
     "text": [
      "50 33 50 45 27 56 40 76 31 83 8 70 31 36 26 86 47 54 69 30\n"
     ]
    }
   ],
   "source": [
    "def make_input(n=10):\n",
    "    return np.random.choice(range(100), n)\n",
    "    \n",
    "print(' '.join([str(i) for i in make_input(20)]))"
   ]
  },
  {
   "cell_type": "code",
   "execution_count": 11,
   "metadata": {},
   "outputs": [
    {
     "data": {
      "text/plain": [
       "316.22776601683796"
      ]
     },
     "execution_count": 11,
     "metadata": {},
     "output_type": "execute_result"
    }
   ],
   "source": [
    "np.sqrt(1000*100)"
   ]
  },
  {
   "cell_type": "code",
   "execution_count": 5,
   "metadata": {},
   "outputs": [
    {
     "name": "stdout",
     "output_type": "stream",
     "text": [
      "Case #1: 1\n",
      "Case #2: 3\n",
      "Case #3: 9\n",
      "Case #4: 2929\n",
      "Wall time: 151 ms\n"
     ]
    }
   ],
   "source": [
    "mytext = read_text() # The only line not to be copied\n",
    "\n",
    "def option1():\n",
    "    \"\"\"Find all subarrays that sum to a perfect square (k^2 where k is integer)\"\"\"\n",
    "    n_cases = int(input())                      # IO interface\n",
    "    squares = set([i**2 for i in range(3163)])  # Pre-calc and hash squares\n",
    "    for i_case in range(n_cases):\n",
    "        out = 0\n",
    "        t = int(input())                        # IO interface: Array length\n",
    "        nums = [int(s) for s in input().strip().split(' ')] # IO interface\n",
    "\n",
    "        first_sum = 0                           # to avoid re-running sum(nums[:m])\n",
    "        for m in range(1,t+1):\n",
    "            for i in range(t-m+1):\n",
    "                if i==0:\n",
    "                    s = first_sum + nums[i+m-1]\n",
    "                    first_sum = s\n",
    "                else:\n",
    "                    s += nums[i+m-1]-nums[i-1]\n",
    "                if s in squares:\n",
    "                    out += 1\n",
    "        print('Case #'+str(i_case+1)+': ' + str(out))\n",
    "        \n",
    "%time option1()"
   ]
  },
  {
   "cell_type": "markdown",
   "metadata": {},
   "source": [
    "Attempt #2, inspired by this: https://www.geeksforgeeks.org/find-subarray-with-given-sum-in-array-of-integers/"
   ]
  },
  {
   "cell_type": "code",
   "execution_count": 98,
   "metadata": {
    "scrolled": true
   },
   "outputs": [
    {
     "name": "stdout",
     "output_type": "stream",
     "text": [
      "Case #1: 1\n",
      "Case #2: 3\n",
      "Case #3: 9\n",
      "Case #4: 2929\n",
      "Wall time: 25 ms\n"
     ]
    }
   ],
   "source": [
    "mytext = read_text() # The only line not to be copied\n",
    "# --------------------\n",
    "\n",
    "def option2():\n",
    "    n_cases = int(input())\n",
    "    squares = [i**2 for i in range(3163)]\n",
    "    for i_case in range(n_cases):\n",
    "        out = 0\n",
    "        t = int(input())\n",
    "        nums = [int(s) for s in input().strip().split(' ')]\n",
    "\n",
    "        #print(nums)\n",
    "        hm = {}\n",
    "        s = 0\n",
    "        smallest_ever = 0\n",
    "        for i in range(t):      # For each element\n",
    "            s += nums[i]        # Calculate current sum\n",
    "            for sq in squares:  # Go through all squares\n",
    "                if sq>s-smallest_ever: # If there's no hope to exceed this square..\n",
    "                    break              # ...halt these attempts.\n",
    "                if sq==s:              # If this sum works as is, be happy\n",
    "                    out += 1\n",
    "                if s-sq in hm:         # If any former sum, if excluded, can bring us to a square\n",
    "                    out += hm[s-sq]    # ..count how many former sums fit the bill.\n",
    "            if s < smallest_ever:      # If current sum is unusually small (negative numbers),\n",
    "                smallest_ever = s      # ..remember it.\n",
    "            hm[s] = hm.get(s, 0)+1     # Remember current sum was achieved.\n",
    "        print('Case #'+str(i_case+1)+': ' + str(out))\n",
    "        \n",
    "%time option2()"
   ]
  }
 ],
 "metadata": {
  "kernelspec": {
   "display_name": "Python 3",
   "language": "python",
   "name": "python3"
  },
  "language_info": {
   "codemirror_mode": {
    "name": "ipython",
    "version": 3
   },
   "file_extension": ".py",
   "mimetype": "text/x-python",
   "name": "python",
   "nbconvert_exporter": "python",
   "pygments_lexer": "ipython3",
   "version": "3.7.6"
  }
 },
 "nbformat": 4,
 "nbformat_minor": 4
}
