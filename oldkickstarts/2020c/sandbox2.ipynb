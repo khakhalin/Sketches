{
 "cells": [
  {
   "cell_type": "markdown",
   "metadata": {},
   "source": [
    "# Stable Wall"
   ]
  },
  {
   "cell_type": "code",
   "execution_count": 1,
   "metadata": {},
   "outputs": [],
   "source": [
    "import os\n",
    "import io"
   ]
  },
  {
   "cell_type": "code",
   "execution_count": 44,
   "metadata": {},
   "outputs": [],
   "source": [
    "def read_text():\n",
    "    f = open(\"input2.txt\",\"r\",encoding='utf-8');\n",
    "    mytext = f.readlines()\n",
    "    return mytext\n",
    "\n",
    "def input():\n",
    "    return mytext.pop(0)"
   ]
  },
  {
   "cell_type": "markdown",
   "metadata": {},
   "source": [
    "    Case #1: ZOAM\n",
    "    Case #2: -1\n",
    "    Case #3: -1\n",
    "    Case #4: EDCBA"
   ]
  },
  {
   "cell_type": "code",
   "execution_count": 77,
   "metadata": {},
   "outputs": [
    {
     "name": "stdout",
     "output_type": "stream",
     "text": [
      "Case #1: ZOAM\n",
      "Case #2: -1\n",
      "Case #3: -1\n",
      "Case #4: EDCBA\n",
      "Case #5: AB\n",
      "Case #6: A\n",
      "Case #7: BA\n",
      "Case #8: -1\n"
     ]
    }
   ],
   "source": [
    "mytext = read_text() # The only line not to be copied\n",
    "# --------------------\n",
    "\n",
    "def under(wall,kind):\n",
    "    out = set([])\n",
    "    for i in range(len(wall)-1):\n",
    "        for j in range(len(wall[i])):\n",
    "            if wall[i][j]==kind:\n",
    "                out |= set(wall[i+1][j])\n",
    "    return list(out - set(kind))\n",
    "\n",
    "n_cases = int(input())\n",
    "for i_case in range(n_cases):\n",
    "    r,c = (int(s) for s in input().split(' '))\n",
    "    wall = []\n",
    "    for ir in range(r):\n",
    "        wall.append([s for s in input().strip()])\n",
    "    #for w in wall:\n",
    "    #    print(w)\n",
    "    #print()\n",
    "    kinds = []\n",
    "    for row in wall:\n",
    "        for s in row:\n",
    "            if s not in kinds:\n",
    "                kinds.append(s)\n",
    "    g = {}\n",
    "    for kind in kinds:\n",
    "        g[kind] = under(wall, kind)\n",
    "    #print(g)\n",
    "\n",
    "    done = []\n",
    "    flag = True\n",
    "    while flag:\n",
    "        flag = False\n",
    "        for kind,needed in g.items():\n",
    "            if kind not in done:\n",
    "                if not set(needed)-set(done):\n",
    "                    flag = True\n",
    "                    done.append(kind)\n",
    "    if len(done)==len(kinds):\n",
    "        print('Case #'+str(i_case+1)+': '+''.join(done))\n",
    "    else:\n",
    "        print('Case #'+str(i_case+1)+': -1')"
   ]
  },
  {
   "cell_type": "code",
   "execution_count": null,
   "metadata": {},
   "outputs": [],
   "source": []
  }
 ],
 "metadata": {
  "kernelspec": {
   "display_name": "Python 3",
   "language": "python",
   "name": "python3"
  },
  "language_info": {
   "codemirror_mode": {
    "name": "ipython",
    "version": 3
   },
   "file_extension": ".py",
   "mimetype": "text/x-python",
   "name": "python",
   "nbconvert_exporter": "python",
   "pygments_lexer": "ipython3",
   "version": "3.7.6"
  }
 },
 "nbformat": 4,
 "nbformat_minor": 4
}
