{
 "cells": [
  {
   "cell_type": "markdown",
   "metadata": {},
   "source": [
    "# General-form sandbox"
   ]
  },
  {
   "cell_type": "code",
   "execution_count": 1,
   "metadata": {},
   "outputs": [],
   "source": [
    "import os\n",
    "import io"
   ]
  },
  {
   "cell_type": "code",
   "execution_count": 6,
   "metadata": {},
   "outputs": [],
   "source": [
    "def read_text():\n",
    "    f = open(\"input2.txt\",\"r\",encoding='utf-8');\n",
    "    mytext = f.readlines()\n",
    "    return mytext\n",
    "\n",
    "def input():\n",
    "    return mytext.pop(0)"
   ]
  },
  {
   "cell_type": "code",
   "execution_count": 3,
   "metadata": {},
   "outputs": [
    {
     "data": {
      "text/plain": [
       "'\\nCase #1: 6\\nCase #2: 99\\nCase #3: 1\\n'"
      ]
     },
     "execution_count": 3,
     "metadata": {},
     "output_type": "execute_result"
    }
   ],
   "source": [
    "\"\"\"\n",
    "3\n",
    "3 10\n",
    "3 7 2\n",
    "4 100\n",
    "11 10 5 50\n",
    "1 1\n",
    "1\n",
    "\n",
    "\n",
    "Case #1: 6\n",
    "Case #2: 99\n",
    "Case #3: 1\n",
    "\"\"\""
   ]
  },
  {
   "cell_type": "code",
   "execution_count": 14,
   "metadata": {},
   "outputs": [
    {
     "name": "stdout",
     "output_type": "stream",
     "text": [
      "[2, 7, 3]\n",
      "Case #1: 2 3 10\n",
      "[50, 5, 10, 11]\n",
      "Case #2: 2 4 100\n",
      "[1]\n",
      "Case #3: 2 1 1\n"
     ]
    }
   ],
   "source": [
    "mytext = read_text() # The only line not to be copied\n",
    "\n",
    "n_cases = int(input())\n",
    "for i_case in range(n_cases):\n",
    "    n,d = (int(i) for i in input().strip().split(\" \"))\n",
    "    b = [int(i) for i in input().strip().split(\" \")]\n",
    "    day = d\n",
    "    for bus in b[::-1]:\n",
    "        latest = d - (d )\n",
    "    print(\"Case #\" + str(i_case+1) + \": \" + str(out),n,d)"
   ]
  }
 ],
 "metadata": {
  "kernelspec": {
   "display_name": "Python 3",
   "language": "python",
   "name": "python3"
  },
  "language_info": {
   "codemirror_mode": {
    "name": "ipython",
    "version": 3
   },
   "file_extension": ".py",
   "mimetype": "text/x-python",
   "name": "python",
   "nbconvert_exporter": "python",
   "pygments_lexer": "ipython3",
   "version": "3.7.6"
  }
 },
 "nbformat": 4,
 "nbformat_minor": 4
}
