{
 "cells": [
  {
   "cell_type": "markdown",
   "metadata": {},
   "source": [
    "# General-form sandbox"
   ]
  },
  {
   "cell_type": "code",
   "execution_count": 1,
   "metadata": {},
   "outputs": [],
   "source": [
    "import os\n",
    "import io"
   ]
  },
  {
   "cell_type": "code",
   "execution_count": 2,
   "metadata": {},
   "outputs": [],
   "source": [
    "def read_text():\n",
    "    f = open(\"input1.txt\",\"r\",encoding='utf-8');\n",
    "    mytext = f.readlines()\n",
    "    return mytext\n",
    "\n",
    "def input():\n",
    "    return mytext.pop(0)"
   ]
  },
  {
   "cell_type": "code",
   "execution_count": null,
   "metadata": {},
   "outputs": [],
   "source": [
    "Input\n",
    " \t\n",
    "Output\n",
    " \n",
    "4\n",
    "3\n",
    "10 20 14\n",
    "4\n",
    "7 7 7 7\n",
    "5\n",
    "10 90 20 90 10\n",
    "3\n",
    "10 3 10\n",
    "\n",
    "  \n",
    "Case #1: 1\n",
    "Case #2: 0\n",
    "Case #3: 2\n",
    "Case #4: 0\n",
    "\n",
    "  \n"
   ]
  },
  {
   "cell_type": "code",
   "execution_count": 26,
   "metadata": {},
   "outputs": [
    {
     "name": "stdout",
     "output_type": "stream",
     "text": [
      "Case #1: 1\n",
      "Case #2: 0\n",
      "Case #3: 2\n",
      "Case #4: 0\n",
      "Case #5: 0\n",
      "Case #6: 0\n",
      "Case #7: 0\n",
      "Case #8: 2\n",
      "Case #9: 1\n"
     ]
    }
   ],
   "source": [
    "mytext = read_text() # The only line not to be copied\n",
    "\n",
    "n_cases = int(input())\n",
    "for i_case in range(n_cases):\n",
    "    n = int(input())\n",
    "    h = [float(i) for i in input().strip().split(\" \")]\n",
    "    if len(h)<=2:\n",
    "        out = 0\n",
    "    else:\n",
    "        out = 0\n",
    "        for i in range(1,n-1):\n",
    "            if h[i]>h[i-1] and h[i]>h[i+1]:\n",
    "                out += 1\n",
    "    print(\"Case #\" + str(i_case+1) + \": \" + str(out))"
   ]
  }
 ],
 "metadata": {
  "kernelspec": {
   "display_name": "Python 3",
   "language": "python",
   "name": "python3"
  },
  "language_info": {
   "codemirror_mode": {
    "name": "ipython",
    "version": 3
   },
   "file_extension": ".py",
   "mimetype": "text/x-python",
   "name": "python",
   "nbconvert_exporter": "python",
   "pygments_lexer": "ipython3",
   "version": "3.7.6"
  }
 },
 "nbformat": 4,
 "nbformat_minor": 4
}
