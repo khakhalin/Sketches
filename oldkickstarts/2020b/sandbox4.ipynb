{
 "cells": [
  {
   "cell_type": "markdown",
   "metadata": {},
   "source": [
    "# General-form sandbox"
   ]
  },
  {
   "cell_type": "code",
   "execution_count": 2,
   "metadata": {},
   "outputs": [],
   "source": [
    "import os\n",
    "import io"
   ]
  },
  {
   "cell_type": "code",
   "execution_count": 4,
   "metadata": {},
   "outputs": [],
   "source": [
    "def read_text():\n",
    "    f = open(\"input4.txt\",\"r\",encoding='utf-8');\n",
    "    mytext = f.readlines()\n",
    "    return mytext\n",
    "\n",
    "def input():\n",
    "    return mytext.pop(0)"
   ]
  },
  {
   "cell_type": "code",
   "execution_count": 64,
   "metadata": {},
   "outputs": [
    {
     "name": "stdout",
     "output_type": "stream",
     "text": [
      "Case #1:  0.5\n",
      "Case #2:  0.0625\n",
      "Case #3:  0\n",
      "Case #4:  0.3125\n",
      "Case #5:  0\n",
      "Case #6:  0.5\n",
      "Case #7:  0.5\n",
      "Case #8:  0.5\n",
      "Case #9:  0.5\n"
     ]
    }
   ],
   "source": [
    "mytext = read_text() # The only line not to be copied\n",
    "\n",
    "def trace(xy,c,mem):\n",
    "    if xy in mem:\n",
    "        return mem[xy]\n",
    "    (w,h,l,u,r,d) = c\n",
    "    x = xy[0]\n",
    "    y = xy[1]\n",
    "    if x==w and y==h: return 1\n",
    "    if x>=l and x<=r and y>=u and y<=d: return 0\n",
    "    if x==w: return trace((x,y+1),c,mem)\n",
    "    if y==h: return trace((x+1,y),c,mem)\n",
    "    out = 0.5*trace((x,y+1),c,mem) + 0.5*trace((x+1,y),c,mem)\n",
    "    mem[xy] = out\n",
    "    return out\n",
    "\n",
    "n_cases = int(input())\n",
    "for i_case in range(n_cases):\n",
    "    mem = {}\n",
    "    c = [int(s) for s in input().strip().split(\" \")] # (w,h,l,u,r,d)\n",
    "    p = trace((1,1),c,mem)\n",
    "    print(\"Case #\" + str(i_case+1) + \": \",p)"
   ]
  },
  {
   "cell_type": "code",
   "execution_count": 80,
   "metadata": {},
   "outputs": [
    {
     "name": "stdout",
     "output_type": "stream",
     "text": [
      "Case #1:  0.5\n",
      "Case #2:  0.0625\n",
      "Case #3:  0\n",
      "Case #4:  0.3125\n",
      "Case #5:  0\n",
      "Case #6:  0.5\n",
      "Case #7:  0.5\n",
      "Case #8:  0.5\n",
      "Case #9:  0.5\n"
     ]
    }
   ],
   "source": [
    "mytext = read_text() # The only line not to be copied\n",
    "\n",
    "def show(p,w,h):\n",
    "    for j in range(1,h+1):\n",
    "        for i in range(1,w+1):\n",
    "            print(f\"{p.get(i,j):5f}\",end=' ')\n",
    "        print()\n",
    "\n",
    "\n",
    "class P():\n",
    "    def __init__(self):\n",
    "        self.x = {}\n",
    "    \n",
    "    def get(self,i,j):\n",
    "        return self.x.get((i,j),0)\n",
    "\n",
    "    def add(self,i,j,val):\n",
    "        self.x[(i,j)] = self.x.get((i,j),0)+val\n",
    "        \n",
    "    def fix(self,i,j,val):\n",
    "        self.x[(i,j)] = val\n",
    "\n",
    "    def free(self,i,j):\n",
    "        if (i,j) in self.x:\n",
    "            del self.x[(i,j)]\n",
    "\n",
    "n_cases = int(input())\n",
    "for i_case in range(n_cases):\n",
    "    c = [int(s) for s in input().strip().split(\" \")] # (w,h,l,u,r,d)\n",
    "    (w,h,l,u,r,d) = c\n",
    "    p = P()\n",
    "    p.add(w,h,1)\n",
    "    for i in range(w,0,-1):\n",
    "        for j in range(h,0,-1):\n",
    "            if p.get(i,j)==0:\n",
    "                continue\n",
    "            if i>=l and i<=r and j>=u and j<=d:\n",
    "                p.free(i,j)\n",
    "                continue\n",
    "            if i==1 and j==1:\n",
    "                break # Done\n",
    "            if j==1:\n",
    "                p.add(i-1,j, 0.5*p.get(i,j))\n",
    "                continue\n",
    "            elif i==1:\n",
    "                p.add(i,j-1, 0.5*p.get(i,j))\n",
    "                continue\n",
    "            if i==w:\n",
    "                p.add(i,j-1, p.get(i,j))\n",
    "            else:\n",
    "                p.add(i,j-1, 0.5*p.get(i,j))\n",
    "            if j==h:\n",
    "                p.add(i-1,j, p.get(i,j))\n",
    "            else:\n",
    "                p.add(i-1,j, 0.5*p.get(i,j))\n",
    "            p.free(i,j)\n",
    "    #show(p,w,h)\n",
    "                \n",
    "    print(\"Case #\" + str(i_case+1) + \": \", p.get(1,1))"
   ]
  },
  {
   "cell_type": "code",
   "execution_count": 91,
   "metadata": {},
   "outputs": [
    {
     "name": "stdout",
     "output_type": "stream",
     "text": [
      "Case #1:  0.5\n",
      "Case #2:  0.0625\n",
      "Case #3:  0.0\n",
      "Case #4:  0.3125\n",
      "Case #5:  0.0\n",
      "Case #6:  0.5\n",
      "Case #7:  0.5\n",
      "Case #8:  0.5\n",
      "Case #9:  0.5\n"
     ]
    }
   ],
   "source": [
    "mytext = read_text() # The only line not to be copied\n",
    "\n",
    "\n",
    "n_cases = int(input())\n",
    "for i_case in range(n_cases):\n",
    "    c = [int(s) for s in input().strip().split(\" \")] # (w,h,l,u,r,d)\n",
    "    (w,h,l,u,r,d) = c\n",
    "    this = [0]*h\n",
    "    that = [0]*h\n",
    "    this[-1] = 1\n",
    "    for i in range(w,0,-1):\n",
    "        for j in range(h,0,-1):\n",
    "            if i>=l and i<=r and j>=u and j<=d:\n",
    "                continue\n",
    "            if i==1 and j==1:\n",
    "                break # Done\n",
    "            if j==1:\n",
    "                #p.add(i-1,j, 0.5*p.get(i,j))\n",
    "                that[j-1] += 0.5*this[j-1]\n",
    "                continue\n",
    "            elif i==1:\n",
    "                #p.add(i,j-1, 0.5*p.get(i,j))\n",
    "                this[j-2] += 0.5*this[j-1]\n",
    "                continue\n",
    "            if i==w:\n",
    "                #p.add(i,j-1, p.get(i,j))\n",
    "                this[j-2] += this[j-1]\n",
    "            else:\n",
    "                #p.add(i,j-1, 0.5*p.get(i,j))\n",
    "                this[j-2] += 0.5*this[j-1]\n",
    "            if j==h:\n",
    "                #p.add(i-1,j, p.get(i,j))\n",
    "                that[j-1] += this[j-1]\n",
    "            else:\n",
    "                #p.add(i-1,j, 0.5*p.get(i,j))\n",
    "                that[j-1] += 0.5*this[j-1]\n",
    "        if i>1:\n",
    "            this = that\n",
    "            that = [0]*h\n",
    "    #show(p,w,h)\n",
    "                \n",
    "    print(\"Case #\" + str(i_case+1) + \": \", this[0])"
   ]
  },
  {
   "cell_type": "code",
   "execution_count": 39,
   "metadata": {},
   "outputs": [
    {
     "data": {
      "text/plain": [
       "'\\nCase #1: 4 4\\nCase #2: 1 1000000000\\nCase #3: 3 1\\nCase #4: 3 999999995\\n'"
      ]
     },
     "execution_count": 39,
     "metadata": {},
     "output_type": "execute_result"
    }
   ],
   "source": [
    "\"\"\"\n",
    "4\n",
    "3 3 2 2 2 2\n",
    "5 3 1 2 4 2\n",
    "1 10 1 3 1 5\n",
    "6 4 1 3 3 4\n",
    "\n",
    "Case #1: 0.5\n",
    "Case #2: 0.0625\n",
    "Case #3: 0.0\n",
    "Case #4: 0.3125\n",
    "\"\"\""
   ]
  }
 ],
 "metadata": {
  "kernelspec": {
   "display_name": "Python 3",
   "language": "python",
   "name": "python3"
  },
  "language_info": {
   "codemirror_mode": {
    "name": "ipython",
    "version": 3
   },
   "file_extension": ".py",
   "mimetype": "text/x-python",
   "name": "python",
   "nbconvert_exporter": "python",
   "pygments_lexer": "ipython3",
   "version": "3.7.6"
  }
 },
 "nbformat": 4,
 "nbformat_minor": 4
}
