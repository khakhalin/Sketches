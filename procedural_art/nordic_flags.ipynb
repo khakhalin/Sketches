{
 "cells": [
  {
   "cell_type": "markdown",
   "metadata": {},
   "source": [
    "# Silly project about real and fake Nordic flags"
   ]
  },
  {
   "cell_type": "code",
   "execution_count": 1,
   "metadata": {},
   "outputs": [],
   "source": [
    "import numpy as np\n",
    "import matplotlib.pyplot as plt"
   ]
  },
  {
   "cell_type": "code",
   "execution_count": 19,
   "metadata": {},
   "outputs": [],
   "source": [
    "names = ['Denmark', 'Finland', 'Iceland', 'Norway', 'Sweden']\n",
    "dims = [[28,34], [11,18], [18, 25], [8, 11], [5, 8]]\n",
    "ch = [[3,1,4.5], [5,3,10], [7,1,2,1,14], [6,1,2,1,12], [5,2,9]]\n",
    "cv = [[3,1,3], [4,3,4], [7,1,2,1,7], [6,1,2,1,6], [4,2,4]]\n",
    "colors = np.array([ [(198, 12, 48), (255, 255, 255)], \n",
    "           [(255, 255, 255), (0, 47, 108)], \n",
    "           [(2, 82, 156),  (220, 30, 53)], \n",
    "           [(200, 16, 46),  (0, 48, 135)] , \n",
    "           [(0, 75, 135), (255, 205, 0)]])"
   ]
  },
  {
   "cell_type": "code",
   "execution_count": 42,
   "metadata": {},
   "outputs": [
    {
     "data": {
      "image/png": "[encoded data removed]",
      "text/plain": [
       "<Figure size 720x720 with 25 Axes>"
      ]
     },
     "metadata": {},
     "output_type": "display_data"
    }
   ],
   "source": [
    "plt.figure(figsize=(10,10), facecolor='white')\n",
    "for i in range(5):\n",
    "    for j in range(5):\n",
    "        ax = plt.subplot(5, 5, j*5+i+1)        \n",
    "        h = 1/dims[i][0]*dims[i][1]\n",
    "        ax.add_patch(plt.Rectangle((0, 0), h, 1, facecolor=colors[j,0]/255))\n",
    "        if len(ch[j])==5: # Need to draw white background cross\n",
    "            if len(ch[i])==5: # And proportions are also white-background, use them\n",
    "                k = i\n",
    "            else: # Force yours\n",
    "                k = j\n",
    "            ax.add_patch(plt.Rectangle((0, cv[k][0]/np.sum(cv[k])), \n",
    "                                       h, np.sum(cv[k][1:4])/np.sum(cv[k]), facecolor='white'))\n",
    "            ax.add_patch(plt.Rectangle((ch[k][0]/np.sum(cv[k]), 0), \n",
    "                                       np.sum(ch[k][1:4])/np.sum(ch[k])*h, 1, facecolor='white'))\n",
    "            ax.add_patch(plt.Rectangle((0, np.sum(cv[k][0:2])/np.sum(cv[k])), \n",
    "                                           h, cv[k][2]/np.sum(cv[k]), facecolor=colors[j,1]/255))\n",
    "            ax.add_patch(plt.Rectangle((np.sum(ch[k][0:2])/np.sum(cv[k]), 0), \n",
    "                                       cv[k][2]/np.sum(ch[k])*h, 1, facecolor=colors[j,1]/255))\n",
    "        else: # No need to draw a white cross\n",
    "            if len(ch[i])!=5: # If proportions match, use them\n",
    "                ax.add_patch(plt.Rectangle((0, cv[i][0]/np.sum(cv[i])), \n",
    "                                           h, cv[i][1]/np.sum(cv[i]), facecolor=colors[j,1]/255))\n",
    "                ax.add_patch(plt.Rectangle((ch[i][0]/np.sum(cv[i]), 0), \n",
    "                                           cv[i][1]/np.sum(ch[i])*h, 1, facecolor=colors[j,1]/255))\n",
    "            else: # Improvise\n",
    "                ax.add_patch(plt.Rectangle((0, cv[i][0]/np.sum(cv[i])), \n",
    "                                           h, np.sum(cv[i][1:4])/np.sum(cv[i]), facecolor=colors[j,1]/255))\n",
    "                ax.add_patch(plt.Rectangle((ch[i][0]/np.sum(cv[i]), 0), \n",
    "                                           np.sum(cv[i][1:4])/np.sum(ch[i])*h, 1, facecolor=colors[j,1]/255))\n",
    "        ax.add_patch(plt.Rectangle((0, 0), h, 1, edgecolor='black', facecolor='none'))\n",
    "        plt.xlim(-0.1, 1.7);\n",
    "        plt.ylim(-0.1, 1.1);\n",
    "        ax.set_aspect('equal')\n",
    "        if i==j:\n",
    "            plt.title('  '+names[i], loc='left')\n",
    "        plt.axis('off')\n",
    "        "
   ]
  },
  {
   "cell_type": "markdown",
   "metadata": {},
   "source": [
    "Sources:\n",
    "\n",
    "* https://www.reddit.com/r/vexillology/comments/htgmmo/despite_their_similar_appearances_the_nordic/\n",
    "* https://www.schemecolor.com/norway-flag-colors.php"
   ]
  }
 ],
 "metadata": {
  "kernelspec": {
   "display_name": "Python 3",
   "language": "python",
   "name": "python3"
  },
  "language_info": {
   "codemirror_mode": {
    "name": "ipython",
    "version": 3
   },
   "file_extension": ".py",
   "mimetype": "text/x-python",
   "name": "python",
   "nbconvert_exporter": "python",
   "pygments_lexer": "ipython3",
   "version": "3.7.6"
  }
 },
 "nbformat": 4,
 "nbformat_minor": 4
}
