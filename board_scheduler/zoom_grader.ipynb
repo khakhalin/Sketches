{
 "cells": [
  {
   "cell_type": "markdown",
   "metadata": {},
   "source": [
    "# Zoom grader\n",
    "\n",
    "Loads zoom reports from a pre-defined folder, and calculates attendance."
   ]
  },
  {
   "cell_type": "code",
   "execution_count": 36,
   "metadata": {},
   "outputs": [],
   "source": [
    "import numpy as np\n",
    "import pandas as pd\n",
    "import matplotlib.pyplot as plt\n",
    "import os\n",
    "import time"
   ]
  },
  {
   "cell_type": "code",
   "execution_count": 147,
   "metadata": {},
   "outputs": [],
   "source": [
    "folder_name = '../../data/attendance/'"
   ]
  },
  {
   "cell_type": "code",
   "execution_count": 187,
   "metadata": {},
   "outputs": [
    {
     "name": "stdout",
     "output_type": "stream",
     "text": [
      "Total files:  48\n"
     ]
    }
   ],
   "source": [
    "# Read all attendance data\n",
    "\n",
    "df = pd.DataFrame()\n",
    "\n",
    "file_list = os.listdir(folder_name)\n",
    "print(\"Total files: \",len(file_list))\n",
    "\n",
    "for fname in file_list:\n",
    "    # print(fname)\n",
    "    if fname[:11]!='participant':\n",
    "        continue # Ignore everything that is not a zoom log\n",
    "    fullname = folder_name + fname\n",
    "    header = pd.read_csv(fullname, header=0, nrows=1)\n",
    "    name = header['Topic'][0]\n",
    "    datestring = header['Start Time'][0][:10]\n",
    "    #print(name, datestring)\n",
    "    \n",
    "    data = pd.read_csv(fullname, header=2)\n",
    "    data['Date'] = datestring\n",
    "    data['Meeting'] = name\n",
    "    data['User Email'] = data['User Email'].fillna('none') # NaNs are ignored by aggregation below\n",
    "    \n",
    "    df = df.append(data, ignore_index=True)"
   ]
  },
  {
   "cell_type": "code",
   "execution_count": 188,
   "metadata": {},
   "outputs": [
    {
     "data": {
      "text/plain": [
       "Index(['name', 'email', 'minutes', 'Date', 'Meeting'], dtype='object')"
      ]
     },
     "execution_count": 188,
     "metadata": {},
     "output_type": "execute_result"
    }
   ],
   "source": [
    "df= df.rename({'User Email': 'email', 'Total Duration (Minutes)': 'minutes', 'Name (Original Name)': 'name'}, axis=1)\n",
    "df.columns"
   ]
  },
  {
   "cell_type": "code",
   "execution_count": 148,
   "metadata": {},
   "outputs": [],
   "source": [
    "# Read the list of students\n",
    "people = pd.read_csv(folder_name + 'people.txt', header=0, sep='\\t')\n",
    "people['name'] = people['first'] + ' ' + people['last']"
   ]
  },
  {
   "cell_type": "code",
   "execution_count": 228,
   "metadata": {},
   "outputs": [],
   "source": [
    "# Iteratively building summaries\n",
    "\n",
    "dfs = df.groupby(['Date', 'Meeting', 'email', 'name']).agg({'minutes' : sum})\n",
    "dfs = dfs.reset_index()\n",
    "dfs.minutes = 1*(dfs.minutes>30)\n",
    "meeting_dict = {'Neuro Lab - Sep 10': 'Neuro', \"Arseny Khakhalin's Zoom Meeting\": 'Neuro', \n",
    "                \"Intro Neuro\": 'Neuro',\n",
    "                'Biosem 00': 'Biosem', 'Bard Biosem': 'Biosem'}\n",
    "dfs['Meeting'] = dfs['Meeting'].replace(meeting_dict)\n",
    "\n",
    "dfs = dfs.groupby(['email','name','Meeting']).agg({'minutes': sum})\n",
    "\n",
    "with pd.option_context('display.max_rows', 1400):\n",
    "    #print(dfs)\n",
    "    pass"
   ]
  }
 ],
 "metadata": {
  "kernelspec": {
   "display_name": "Python 3",
   "language": "python",
   "name": "python3"
  },
  "language_info": {
   "codemirror_mode": {
    "name": "ipython",
    "version": 3
   },
   "file_extension": ".py",
   "mimetype": "text/x-python",
   "name": "python",
   "nbconvert_exporter": "python",
   "pygments_lexer": "ipython3",
   "version": "3.7.6"
  }
 },
 "nbformat": 4,
 "nbformat_minor": 4
}
