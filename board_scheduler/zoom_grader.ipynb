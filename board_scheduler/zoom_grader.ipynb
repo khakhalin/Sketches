{
 "cells": [
  {
   "cell_type": "markdown",
   "metadata": {},
   "source": [
    "# Zoom grader\n",
    "\n",
    "Loads zoom reports from a pre-defined folder, and calculates attendance."
   ]
  },
  {
   "cell_type": "markdown",
   "metadata": {},
   "source": [
    "Plan:\n",
    "\n",
    "1. Load data from BIP\n",
    "1. Process Zoom logs, ignore repetitions, summarize\n",
    "1. Filter only one class\n",
    "1. Read the actual list of students (separate for every class)\n",
    "1. Use a substitutition table \"name --> email\" (separate file, one for all classes) to either substitute entries, or disable entries (special \"command\" for making it ignore an entry)\n",
    "1. Using email as id, connect two databases. Output summary, as well as a list of failed entries (present on Zoom, but absent on BIP).\n",
    "\n",
    "Piazza grader:\n",
    "\n",
    "1. Load a list of Piazza people\n",
    "2. Go through saved Piazza contributions, tabulate participation\n",
    "3. Read attendance summary from part 1 (above)\n",
    "4. Output a full table (screen & csv)"
   ]
  },
  {
   "cell_type": "code",
   "execution_count": 1,
   "metadata": {},
   "outputs": [],
   "source": [
    "import numpy as np\n",
    "import pandas as pd\n",
    "import matplotlib.pyplot as plt\n",
    "import os\n",
    "import time"
   ]
  },
  {
   "cell_type": "code",
   "execution_count": 2,
   "metadata": {},
   "outputs": [],
   "source": [
    "folder_name = '../../data/attendance/'"
   ]
  },
  {
   "cell_type": "code",
   "execution_count": 3,
   "metadata": {},
   "outputs": [
    {
     "name": "stdout",
     "output_type": "stream",
     "text": [
      "Total files:  26\n",
      "Meeting files: 17\n"
     ]
    }
   ],
   "source": [
    "# Read attendance data\n",
    "\n",
    "df = pd.DataFrame()\n",
    "file_list = os.listdir(folder_name)\n",
    "print(\"Total files: \",len(file_list))\n",
    "\n",
    "processed_list = set()\n",
    "for fname in file_list:\n",
    "    if fname[-3:]!='csv':\n",
    "        continue # Ignore everything that is not a zoom log\n",
    "    fullname = folder_name + fname\n",
    "    header = pd.read_csv(fullname, header=0, nrows=1) # Attempt to read the header\n",
    "    if 'Topic' not in header.columns: # Not a zoom log, skip this one\n",
    "        continue\n",
    "    name = header['Topic'][0]    \n",
    "    datestring = header['Start Time'][0][:10]\n",
    "    # print(name, datestring)\n",
    "    if name+datestring in processed_list:\n",
    "        print('Duplicated meeting:', name+datestring, fname)\n",
    "        continue  # This meeting\n",
    "    processed_list.add(name+datestring)\n",
    "    \n",
    "    data = pd.read_csv(fullname, header=2)\n",
    "    data['Date'] = datestring\n",
    "    data['Meeting'] = name\n",
    "    data['User Email'] = data['User Email'].fillna('none') # NaNs are ignored by aggregation below\n",
    "    \n",
    "    df = df.append(data, ignore_index=True)\n",
    "\n",
    "print('Meeting files:', len(processed_list))"
   ]
  },
  {
   "cell_type": "code",
   "execution_count": 4,
   "metadata": {},
   "outputs": [],
   "source": [
    "# Rename fields, standardize meetings that had synonyms\n",
    "\n",
    "df= df.rename({'User Email': 'email', \n",
    "               'Total Duration (Minutes)': 'minutes', \n",
    "               'Name (Original Name)': 'name',\n",
    "               'Meeting':'meeting',\n",
    "               'Date':'date'}, axis=1)\n",
    "meeting_dict = {'Biosem Zoom': 'Biosem', \n",
    "                'Biosem_spring_2021': 'Biosem',\n",
    "                'Neuroscience': 'Neuro'}\n",
    "df['meeting'] = df['meeting'].replace(meeting_dict)\n",
    "df.name = df.name.str.title()  # Capitalize names (for consistency)"
   ]
  },
  {
   "cell_type": "code",
   "execution_count": 5,
   "metadata": {},
   "outputs": [],
   "source": [
    "# Inexplicably, some total participation counts are stored as strings, not numbers\n",
    "\n",
    "df.loc[df.minutes=='Yes'] = 0 # No idea what it means, but Zoom outputed it!!!\n",
    "ind = [type(a)!=int for a in df.minutes.values]\n",
    "df.loc[ind, 'minutes'] = [int(a) for a in df.loc[ind].minutes.values]\n",
    "df = df[df.minutes>0]  # Remove weird empty entries\n",
    "\n",
    "# df['check'] = 1*(df.minutes>40) # Simple attendance\n",
    "df['check'] = 0.3*(df.minutes>30) + 0.7*(df.minutes>50) # Full attendance and late classes"
   ]
  },
  {
   "cell_type": "code",
   "execution_count": 6,
   "metadata": {},
   "outputs": [
    {
     "data": {
      "text/plain": [
       "{'Biosem', 'Computational Neuro', 'Neuro'}"
      ]
     },
     "execution_count": 6,
     "metadata": {},
     "output_type": "execute_result"
    }
   ],
   "source": [
    "# What meetings are even there?\n",
    "set(df.meeting)"
   ]
  },
  {
   "cell_type": "code",
   "execution_count": 7,
   "metadata": {},
   "outputs": [
    {
     "data": {
      "image/png": "[encoded data removed]",
      "text/plain": [
       "<Figure size 720x216 with 2 Axes>"
      ]
     },
     "metadata": {
      "needs_background": "light"
     },
     "output_type": "display_data"
    }
   ],
   "source": [
    "plt.figure(figsize=(10,3))\n",
    "plt.subplot(121)\n",
    "plt.hist(df.loc[df.meeting=='Biosem'].minutes.values, bins=50);\n",
    "plt.title('Biosem');\n",
    "plt.subplot(122)\n",
    "plt.hist(df.loc[df.meeting=='Neuro'].minutes.values, bins=50);\n",
    "plt.title('Neuro');"
   ]
  },
  {
   "cell_type": "code",
   "execution_count": 8,
   "metadata": {},
   "outputs": [],
   "source": [
    "# Only analyze one meeting starting from here\n",
    "\n",
    "target_meeting = 'Neuro'\n",
    "\n",
    "df = df[df.meeting=='Neuro']"
   ]
  },
  {
   "cell_type": "code",
   "execution_count": 9,
   "metadata": {},
   "outputs": [
    {
     "data": {
      "text/html": [
       "<div>\n",
       "<style scoped>\n",
       "    .dataframe tbody tr th:only-of-type {\n",
       "        vertical-align: middle;\n",
       "    }\n",
       "\n",
       "    .dataframe tbody tr th {\n",
       "        vertical-align: top;\n",
       "    }\n",
       "\n",
       "    .dataframe thead th {\n",
       "        text-align: right;\n",
       "    }\n",
       "</style>\n",
       "<table border=\"1\" class=\"dataframe\">\n",
       "  <thead>\n",
       "    <tr style=\"text-align: right;\">\n",
       "      <th></th>\n",
       "      <th>name</th>\n",
       "      <th>email</th>\n",
       "      <th>minutes</th>\n",
       "      <th>Guest</th>\n",
       "      <th>date</th>\n",
       "      <th>meeting</th>\n",
       "      <th>check</th>\n",
       "    </tr>\n",
       "  </thead>\n",
       "  <tbody>\n",
       "  </tbody>\n",
       "</table>\n",
       "</div>"
      ],
      "text/plain": [
       "Empty DataFrame\n",
       "Columns: [name, email, minutes, Guest, date, meeting, check]\n",
       "Index: []"
      ]
     },
     "execution_count": 9,
     "metadata": {},
     "output_type": "execute_result"
    }
   ],
   "source": [
    "# Check individual records of needed\n",
    "df.loc[df.name.str.match('John')]"
   ]
  },
  {
   "cell_type": "code",
   "execution_count": 10,
   "metadata": {},
   "outputs": [
    {
     "name": "stdout",
     "output_type": "stream",
     "text": [
      "Index(['id', 'email', 'name'], dtype='object')\n"
     ]
    }
   ],
   "source": [
    "# Read the actual list of students. Note that the file name needs to match the meeting name.\n",
    "\n",
    "people = pd.read_csv(folder_name + target_meeting + '.csv', header=0, sep=',')\n",
    "people.columns = [' '.join(s.split()) for s in people.columns] # Remove repeating spaces, just in case\n",
    "# print(people.columns)\n",
    "people['name'] = people['FIRST NAME'] + ' ' + people['LAST NAME']\n",
    "people = (people\n",
    "          .drop_duplicates() # A left-over from the \"All meetings at once\" pipeline, but let's keep for a while\n",
    "          .reset_index()\n",
    "          .rename({'ID#':'id', 'Email': 'email'}, axis=1)\n",
    "          .loc[:,['id', 'email', 'name']]\n",
    "         )\n",
    "print(people.columns)\n",
    "# people.head()"
   ]
  },
  {
   "cell_type": "code",
   "execution_count": 11,
   "metadata": {},
   "outputs": [
    {
     "data": {
      "image/png": "[encoded data removed]",
      "text/plain": [
       "<Figure size 648x144 with 1 Axes>"
      ]
     },
     "metadata": {
      "needs_background": "light"
     },
     "output_type": "display_data"
    }
   ],
   "source": [
    "# Troubleshooting: A full list of meetings with their attendance.\n",
    "# Check if the plot makes sense.\n",
    "\n",
    "dfm = df.groupby(['date','meeting','name']).agg({'minutes': sum})\n",
    "dfm.minutes = 1*(dfm.minutes>10)\n",
    "dfm = dfm.groupby(['date', 'meeting']).agg({'minutes': sum}).reset_index()\n",
    "dfm = dfm.rename({'minutes':'people'}, axis=1)\n",
    "dfm.date = pd.to_datetime(dfm.date)\n",
    "\n",
    "plt.figure(figsize=(9,2))\n",
    "plt.plot(dfm.date.dt.dayofyear, dfm.people, '.');\n",
    "plt.xlabel('Meeting');\n",
    "plt.ylabel('People');\n",
    "\n",
    "# print(dfm)"
   ]
  },
  {
   "cell_type": "code",
   "execution_count": 12,
   "metadata": {},
   "outputs": [],
   "source": [
    "# Check if there are any entries without email at all\n",
    "# df[[len(a)<10 for a in df.email]]"
   ]
  },
  {
   "cell_type": "code",
   "execution_count": 13,
   "metadata": {},
   "outputs": [
    {
     "name": "stdout",
     "output_type": "stream",
     "text": [
      "Rows found: 22\n"
     ]
    }
   ],
   "source": [
    "# Find people with emails that aren't on the official list\n",
    "# Output them, to manually create a list of alt-emails.\n",
    "\n",
    "df_lost = (df           \n",
    "           .groupby(['name','email'])\n",
    "           .agg({'minutes': sum})\n",
    "           .reset_index()\n",
    "           .merge(people, on='email', how='left', suffixes=['', '_r']) # Ignore official name (_r)\n",
    "           .drop(columns='name_r')           \n",
    "           .query('id.isna()', engine='python') # Only keep unrecognized users\n",
    "          )\n",
    "print('Rows found:', len(df_lost.id))\n",
    "#print('\\n'.join([a for a in df_lost['name'] + ',' + df_lost['email']])) # Output csv\n",
    "# df_lost # Output nice human-readable form"
   ]
  },
  {
   "cell_type": "code",
   "execution_count": 14,
   "metadata": {},
   "outputs": [],
   "source": [
    "# Read and process known alts\n",
    "\n",
    "df_alts = pd.read_csv(folder_name + 'alts.csv', header=0, sep=',')\n",
    "\n",
    "# First find official emails where available, and drop some users manually (e.g. the instructor)\n",
    "df_fixed = (df\n",
    "            .merge(df_alts, on='email', how='left', suffixes=['', '_r'])\n",
    "            .drop(columns=['name_r'])\n",
    "            .query(\"real_email != 'none'\")\n",
    "           )\n",
    "\n",
    "# Substitute 'wrong' emails with 'official' emails where available\n",
    "ind = (df_fixed.real_email.notna())\n",
    "df_fixed.loc[ind, 'email'] = df_fixed.loc[ind, 'real_email']\n",
    "df_fixed = df_fixed.drop(columns='real_email')\n",
    "\n",
    "# Lookup correct names, and drop all users who are not on bip\n",
    "df_fixed = (df_fixed\n",
    "            .merge(people, on='email', how='left', suffixes=['_l', '']) # This time keep official names only\n",
    "            .drop(columns=['name_l', 'id', 'Guest'])\n",
    "            .query('name.notna()', engine='python') # Drop people who are not on bip\n",
    "           )\n",
    "\n",
    "# df_fixed"
   ]
  },
  {
   "cell_type": "code",
   "execution_count": 15,
   "metadata": {},
   "outputs": [],
   "source": [
    "# Build a summary\n",
    "\n",
    "dfs = (df_fixed\n",
    "       .groupby(['name','email'])\n",
    "       .agg({'check': sum})\n",
    "       .reset_index()\n",
    "      )\n",
    "\n",
    "# dfs.sort_values(by='check')\n",
    "# dfs"
   ]
  },
  {
   "cell_type": "code",
   "execution_count": 16,
   "metadata": {},
   "outputs": [],
   "source": [
    "# **Troubleshooter**: for a given student, find all meetings they did and did not attend.\n",
    "\n",
    "df_meetings = pd.DataFrame({'date': [a for a in set(df_fixed['date'].values)]})\n",
    "token = 'yyy'\n",
    "out = (df_meetings\n",
    "       .merge(df_fixed.loc[df_fixed.name.str[:len(token)] == token], on='date', how='left')\n",
    "       .sort_values(by='date'))\n",
    "# out"
   ]
  },
  {
   "cell_type": "markdown",
   "metadata": {},
   "source": [
    "# Part 2: Piazza grader"
   ]
  },
  {
   "cell_type": "code",
   "execution_count": 17,
   "metadata": {},
   "outputs": [],
   "source": [
    "# Read all students enrolled on Piazza, with their Piazza names\n",
    "# Here make sure the list has only 1 email, and this email is correct. Some people like to include\n",
    "# more than one email for some reason...\n",
    "\n",
    "people_piazza = pd.DataFrame(columns=['name', 'email'])\n",
    "lines = open(folder_name + 'Piazza.list', 'r', encoding='utf-8').readlines()\n",
    "for line in lines:\n",
    "    l = line.strip().split(' ')\n",
    "    email = l[-1]\n",
    "    name = ' '.join(l[:-1])\n",
    "    if name != '': # Ignore unregistered users\n",
    "        people_piazza = people_piazza.append({'name': name, 'email': email}, ignore_index=True)\n",
    "        \n",
    "# people_piazza"
   ]
  },
  {
   "cell_type": "code",
   "execution_count": 18,
   "metadata": {},
   "outputs": [
    {
     "name": "stdout",
     "output_type": "stream",
     "text": [
      "1.txt : Week 1: Intro & Resting membrane potential\n",
      "2.txt : Week 2: action potential\n",
      "3.txt : Week 3: Synapses, Connectomics, some Free Will\n",
      "4.txt : Week 4: Ethology, Inhibition, Integration\n",
      "5.txt : Week 5: Simple networks, CPGs, M-cell\n",
      "lab2.txt : Lab 2: Eyewire\n"
     ]
    }
   ],
   "source": [
    "# Read all piazza pages. All of them should be saved as txt files.\n",
    "# NOTE: There's no safety check on the content of TXT files, so no other TXT files are allowed in this folder!\n",
    "# In each page, identify responses, and count special marks.\n",
    "\n",
    "df_piazza = pd.DataFrame(columns=['name', 'work', 'grade', 'message'])\n",
    "cool = '🔥💡💎'\n",
    "rejected = '🛑'\n",
    "splitter = 'Resolved Unresolved'\n",
    "\n",
    "file_list = os.listdir(folder_name)\n",
    "for fname in file_list:\n",
    "    if fname[-3:]!='txt':\n",
    "        continue # Ignore everything that is not a zoom log    \n",
    "    s = open(folder_name + fname, 'r', encoding='utf-8').read()\n",
    "    title = s[:s.find('\\n')]\n",
    "    print(fname, ':', title)\n",
    "    \n",
    "    messages = s.split(splitter)[1:]  # Skip the homework itself (number 0)\n",
    "    for message in messages:\n",
    "        first = max(0, message.find('days ago')+9)\n",
    "        last  = message.find('\\nhelpful! ')        \n",
    "        \n",
    "        grade = ''\n",
    "        for emoji in cool:\n",
    "            if emoji in message:\n",
    "                grade = 'good'\n",
    "        for emoji in rejected:\n",
    "            if emoji in message:\n",
    "                grade = 'bad'\n",
    "        for name in people_piazza.name:        \n",
    "            if name in message:\n",
    "                df_piazza = df_piazza.append({'name': name, 'work':title, 'grade':grade,\n",
    "                                              'message':message[first:last]}, ignore_index=True)"
   ]
  },
  {
   "cell_type": "code",
   "execution_count": 28,
   "metadata": {},
   "outputs": [
    {
     "data": {
      "text/html": [
       "<div>\n",
       "<style scoped>\n",
       "    .dataframe tbody tr th:only-of-type {\n",
       "        vertical-align: middle;\n",
       "    }\n",
       "\n",
       "    .dataframe tbody tr th {\n",
       "        vertical-align: top;\n",
       "    }\n",
       "\n",
       "    .dataframe thead th {\n",
       "        text-align: right;\n",
       "    }\n",
       "</style>\n",
       "<table border=\"1\" class=\"dataframe\">\n",
       "  <thead>\n",
       "    <tr style=\"text-align: right;\">\n",
       "      <th></th>\n",
       "      <th>name</th>\n",
       "      <th>work</th>\n",
       "      <th>grade</th>\n",
       "      <th>message</th>\n",
       "      <th>good</th>\n",
       "      <th>bad</th>\n",
       "    </tr>\n",
       "  </thead>\n",
       "  <tbody>\n",
       "  </tbody>\n",
       "</table>\n",
       "</div>"
      ],
      "text/plain": [
       "Empty DataFrame\n",
       "Columns: [name, work, grade, message, good, bad]\n",
       "Index: []"
      ]
     },
     "execution_count": 28,
     "metadata": {},
     "output_type": "execute_result"
    }
   ],
   "source": [
    "# Look at one student\n",
    "\n",
    "q = df_piazza[df_piazza.name.str.match('John')]\n",
    "q\n",
    "\n",
    "#for i in range(q.shape[0]):\n",
    "#    print(q.message.iloc[i], end='\\n---------\\n')"
   ]
  },
  {
   "cell_type": "code",
   "execution_count": 20,
   "metadata": {},
   "outputs": [],
   "source": [
    "# Now summarize, then merge left on the full list of people\n",
    "\n",
    "df_piazza['good'] = df_piazza.grade.str.match('good')\n",
    "df_piazza['bad']  = df_piazza.grade.str.match('bad')\n",
    "\n",
    "dfsp = (df_piazza        \n",
    "        .groupby(['name'])\n",
    "        .agg({'work':'count', 'good':'sum', 'bad':'sum'})\n",
    "        .reset_index()\n",
    "        .rename({'work':'total'}, axis=1)\n",
    "       )\n",
    "dfsp = (people_piazza\n",
    "        .merge(dfsp, on='name', how='left')\n",
    "       )\n",
    "\n",
    "dfsp.loc[dfsp.total.isna(), ['total', 'good', 'bad']] = 0\n",
    "dfsp.total = dfsp.total.astype(int)\n",
    "dfsp.good  = dfsp.good.astype(int)\n",
    "dfsp.bad   = dfsp.bad.astype(int)\n",
    "\n",
    "#dfsp"
   ]
  },
  {
   "cell_type": "code",
   "execution_count": 22,
   "metadata": {},
   "outputs": [
    {
     "data": {
      "text/html": [
       "<div>\n",
       "<style scoped>\n",
       "    .dataframe tbody tr th:only-of-type {\n",
       "        vertical-align: middle;\n",
       "    }\n",
       "\n",
       "    .dataframe tbody tr th {\n",
       "        vertical-align: top;\n",
       "    }\n",
       "\n",
       "    .dataframe thead th {\n",
       "        text-align: right;\n",
       "    }\n",
       "</style>\n",
       "<table border=\"1\" class=\"dataframe\">\n",
       "  <thead>\n",
       "    <tr style=\"text-align: right;\">\n",
       "      <th></th>\n",
       "      <th>name</th>\n",
       "      <th>email</th>\n",
       "      <th>total</th>\n",
       "      <th>good</th>\n",
       "      <th>bad</th>\n",
       "    </tr>\n",
       "  </thead>\n",
       "  <tbody>\n",
       "  </tbody>\n",
       "</table>\n",
       "</div>"
      ],
      "text/plain": [
       "Empty DataFrame\n",
       "Columns: [name, email, total, good, bad]\n",
       "Index: []"
      ]
     },
     "execution_count": 22,
     "metadata": {},
     "output_type": "execute_result"
    }
   ],
   "source": [
    "# One student\n",
    "dfsp[dfsp.name.str.match('John')]"
   ]
  },
  {
   "cell_type": "code",
   "execution_count": 23,
   "metadata": {
    "scrolled": false
   },
   "outputs": [],
   "source": [
    "# Full output\n",
    "\n",
    "df_full = dfsp.merge(dfs, on='email', suffixes=['_piazza','_zoom'])\n",
    "with pd.option_context('display.max_rows', 14000, 'display.width', 1000):\n",
    "    # print(df_full)\n",
    "    pass"
   ]
  },
  {
   "cell_type": "code",
   "execution_count": 24,
   "metadata": {},
   "outputs": [
    {
     "name": "stdout",
     "output_type": "stream",
     "text": [
      "Can miss classes, and still pass: 6.800000000000001\n",
      "Can miss classes, and still get a B: 3.4000000000000004\n",
      "Can miss homeworks, and still pass: 4.2\n",
      "Can miss homeworks, and still get a B: 2.1\n"
     ]
    }
   ],
   "source": [
    "# How many missed assignments are problematic?\n",
    "\n",
    "print('Can miss classes, and still pass:', 0.2*34)\n",
    "print('Can miss classes, and still get a B:', 0.1*34)\n",
    "print('Can miss homeworks, and still pass:', 0.2*21)\n",
    "print('Can miss homeworks, and still get a B:', 0.1*21)"
   ]
  },
  {
   "cell_type": "code",
   "execution_count": 27,
   "metadata": {},
   "outputs": [],
   "source": [
    "# At-risk students\n",
    "\n",
    "classes_so_far = 9\n",
    "works_so_far = 6\n",
    "df_at_risk = df_full.query('total-bad < @works_so_far-1 | check < @classes_so_far-3')\n",
    "\n",
    "# print(','.join([e for e in df_at_risk.email]))\n",
    "# df_at_risk"
   ]
  },
  {
   "cell_type": "code",
   "execution_count": null,
   "metadata": {},
   "outputs": [],
   "source": [
    "# Ouput the summary csv\n",
    "#recognized.to_csv(folder_name + '../attendance_summary.csv', index=False)"
   ]
  },
  {
   "cell_type": "code",
   "execution_count": null,
   "metadata": {},
   "outputs": [],
   "source": [
    "# print('\\n'.join(df2.loc[df2.meeting==\"Neuro\"].sort_values(by='name').name.tolist()))"
   ]
  },
  {
   "cell_type": "code",
   "execution_count": null,
   "metadata": {
    "scrolled": true
   },
   "outputs": [],
   "source": [
    "# df2.loc[df2.meeting=='Neuro'].sort_values(by='name').drop(columns=['meeting', 'email'])"
   ]
  }
 ],
 "metadata": {
  "kernelspec": {
   "display_name": "Python 3",
   "language": "python",
   "name": "python3"
  },
  "language_info": {
   "codemirror_mode": {
    "name": "ipython",
    "version": 3
   },
   "file_extension": ".py",
   "mimetype": "text/x-python",
   "name": "python",
   "nbconvert_exporter": "python",
   "pygments_lexer": "ipython3",
   "version": "3.7.6"
  }
 },
 "nbformat": 4,
 "nbformat_minor": 4
}
