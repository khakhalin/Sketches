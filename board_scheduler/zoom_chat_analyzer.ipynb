{
 "cells": [
  {
   "cell_type": "markdown",
   "metadata": {},
   "source": [
    "# Auto-analyze Zoom chats\n",
    "\n",
    "Find who was most active on Zoom"
   ]
  },
  {
   "cell_type": "code",
   "execution_count": null,
   "metadata": {},
   "outputs": [],
   "source": [
    "import numpy as np\n",
    "import pandas as pd\n",
    "import matplotlib.pyplot as plt\n",
    "import os\n",
    "import time\n",
    "import re"
   ]
  },
  {
   "cell_type": "code",
   "execution_count": null,
   "metadata": {},
   "outputs": [],
   "source": [
    "folder_name = '../../data/attendance/chats'"
   ]
  },
  {
   "cell_type": "code",
   "execution_count": null,
   "metadata": {},
   "outputs": [],
   "source": [
    "# Create a list of folders to analyze\n",
    "\n",
    "token = 'Neuroscience'\n",
    "\n",
    "file_list = os.listdir(folder_name)\n",
    "file_list = [s for s in file_list if token in s]\n",
    "# file_list"
   ]
  },
  {
   "cell_type": "code",
   "execution_count": null,
   "metadata": {},
   "outputs": [],
   "source": [
    "# Populate the dataframe\n",
    "\n",
    "df = pd.DataFrame(columns=['date','name'])\n",
    "\n",
    "for dirname in file_list:\n",
    "    fname = folder_name + '/' + dirname + '/meeting_saved_chat.txt'\n",
    "    date = dirname.split(' ')[0]\n",
    "    with open(fname, 'r', encoding='Utf8') as f:\n",
    "        already_included = set()\n",
    "        for l in f: # Every row\n",
    "            #print(l.split(' : ')[0].split('From ')[1])            \n",
    "            name = re.findall(r\"From .+ : \", l)\n",
    "            if name:               \n",
    "                name = name[0][5:-3].strip()\n",
    "                if 'Privately' in name:\n",
    "                    name = name.split(' to ')[0].strip()            \n",
    "                if name not in already_included:\n",
    "                    #print(name)\n",
    "                    already_included |= {name}\n",
    "                    df = df.append({'date':date, 'name':name}, ignore_index=True)"
   ]
  },
  {
   "cell_type": "code",
   "execution_count": null,
   "metadata": {},
   "outputs": [],
   "source": [
    "print('Total different names:', len(df.name.unique()))\n",
    "print(f\"Total different meetings: {len(df.date.unique())}\")"
   ]
  },
  {
   "cell_type": "code",
   "execution_count": null,
   "metadata": {},
   "outputs": [],
   "source": [
    "# sorted(df.name.unique())"
   ]
  },
  {
   "cell_type": "code",
   "execution_count": null,
   "metadata": {},
   "outputs": [],
   "source": [
    "# df.query(\"name=='Arseny Khakhalin'\")"
   ]
  },
  {
   "cell_type": "code",
   "execution_count": null,
   "metadata": {},
   "outputs": [],
   "source": [
    "df2 = (df\n",
    "       .groupby(['date','name']) # Some days have more than one log\n",
    "       .agg('first')\n",
    "       .reset_index()\n",
    "       .groupby('name')\n",
    "       .agg({'date': 'count'})\n",
    "       .reset_index()\n",
    "       .rename({'date':'number'}, axis=1)\n",
    "       .sort_values(by='number', ascending=False)\n",
    ")\n",
    "\n",
    "df3 = (df2\n",
    "       .groupby('number')\n",
    "       .agg({'name': lambda x: ', '.join(x)}) \n",
    "       .sort_values('number', ascending=False)\n",
    "       .reset_index()\n",
    "      )\n",
    "\n",
    "for i in range(df3.shape[0]):\n",
    "    print(df3.loc[i, 'number'], ':', df3.loc[i, 'name'])"
   ]
  },
  {
   "cell_type": "code",
   "execution_count": null,
   "metadata": {},
   "outputs": [],
   "source": [
    "# Save data\n",
    "df2.to_csv('../../data/attendance/zoom_chats.csv', index=False)"
   ]
  }
 ],
 "metadata": {
  "kernelspec": {
   "display_name": "Python 3",
   "language": "python",
   "name": "python3"
  },
  "language_info": {
   "codemirror_mode": {
    "name": "ipython",
    "version": 3
   },
   "file_extension": ".py",
   "mimetype": "text/x-python",
   "name": "python",
   "nbconvert_exporter": "python",
   "pygments_lexer": "ipython3",
   "version": "3.7.6"
  }
 },
 "nbformat": 4,
 "nbformat_minor": 4
}
