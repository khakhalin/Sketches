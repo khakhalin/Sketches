{
 "cells": [
  {
   "cell_type": "markdown",
   "metadata": {},
   "source": [
    "## Sproj Board Scheduler, Spring 2021\n",
    "\n",
    "New version, Pandas-based\n",
    "\n",
    "A script that to read faculty and students availability for the boards week, and schedule all boards, accounting for their target composition, and student availability.\n",
    "\n",
    "All of the data used by this script is sensitive, and so has to be stored outside of git.\n",
    "\n",
    "Data sources:\n",
    "* Student availability comes from BIP (schedules for all majors, downloaded as one report, saved to pdf by Craig, then from pdf to txt by me)\n",
    "* Faculty availability comes from an csv file, indicating times when their availability switches"
   ]
  },
  {
   "cell_type": "markdown",
   "metadata": {},
   "source": [
    "### TODOs\n",
    "\n",
    "* Make sure sprojes are only starting Friday"
   ]
  },
  {
   "cell_type": "code",
   "execution_count": null,
   "metadata": {},
   "outputs": [],
   "source": [
    "import pandas as pd\n",
    "import numpy as np\n",
    "import matplotlib.pyplot as plt\n",
    "\n",
    "import random\n",
    "from IPython.display import HTML, display"
   ]
  },
  {
   "cell_type": "markdown",
   "metadata": {},
   "source": [
    "# Set constants and prepare time slots"
   ]
  },
  {
   "cell_type": "code",
   "execution_count": null,
   "metadata": {},
   "outputs": [],
   "source": [
    "hideNames = 0 # set 0 for troubleshooting, set 1 before githubbing\n",
    "\n",
    "folder_name = '../../data/boards2021s/' # Update as necessary\n",
    "days = ['May-5-2021', 'May-6-2021', 'May-7-2021', 'May-10-2021', 'May-11-2021']"
   ]
  },
  {
   "cell_type": "code",
   "execution_count": null,
   "metadata": {},
   "outputs": [],
   "source": [
    "# Prepare time axis for the availability matrix\n",
    "temp = []\n",
    "for day in days:\n",
    "    for hour in range(8,19):\n",
    "        stamp = day + ' ' + str(hour) + ':00'\n",
    "        temp.append(pd.to_datetime(stamp))\n",
    "df_avail = pd.DataFrame({'slot':temp})\n",
    "#df_avail.head(20)"
   ]
  },
  {
   "cell_type": "markdown",
   "metadata": {},
   "source": [
    "# Load data"
   ]
  },
  {
   "cell_type": "code",
   "execution_count": null,
   "metadata": {},
   "outputs": [],
   "source": [
    "# Senior boards composition\n",
    "composition = pd.read_csv(folder_name + 'senior_boards.csv') # Board composition\n",
    "composition['kind'] = 'sproj'\n",
    "\n",
    "faculty_names = (composition['advisor']\n",
    "                 .append(composition['member2'])\n",
    "                 .append(composition['member3'])                                  \n",
    "                 .dropna()\n",
    "                 .unique()\n",
    "                 .tolist()\n",
    "                )\n",
    "\n",
    "for i in range(composition.shape[0]):    \n",
    "    # Remove comma and put first name first, and last name - last\n",
    "    composition.loc[i,'student'] = ' '.join(composition.loc[i,'student'].split(', ')[::-1])\n",
    "    \n",
    "# print(' '.join(faculty_names))\n",
    "\n",
    "# Moderation boards composition\n",
    "moderations = pd.read_csv(folder_name + 'moderation_boards.csv') # Board composition\n",
    "moderations = moderations.drop(['advisors', 'paper'], axis=1)\n",
    "moderations['kind'] = 'moderation'\n",
    "\n",
    "composition = pd.concat((composition,moderations), axis=0).reset_index()\n",
    "(composition.advisor\n",
    " .append(composition.member2)\n",
    " .append(composition.member3)\n",
    " .value_counts()\n",
    ")"
   ]
  },
  {
   "cell_type": "code",
   "execution_count": null,
   "metadata": {},
   "outputs": [],
   "source": [
    "# Read the official faculty list and create columns, marking off universal times\n",
    "\n",
    "# Times to be blocked for everyone:\n",
    "block_times = np.array([['May-05-2021 12p', 'May-05-2021 2p'],\n",
    "                        ['May-06-2021 12p', 'May-06-2021 1p'],\n",
    "                        ['May-07-2021 12p', 'May-07-2021 1p'],\n",
    "                        ['May-10-2021 12p', 'May-10-2021 1p'],\n",
    "                        ['May-11-2021 12p', 'May-11-2021 1p']\n",
    "                       ])\n",
    "# Don't plan sprojes before this date:\n",
    "first_day_of_sprojes = 'May-07-2021'\n",
    "\n",
    "df_fac = pd.read_csv(folder_name + 'faculty.csv')\n",
    "for i in range(df_fac.shape[0]):\n",
    "    ser = df_fac.iloc[i]\n",
    "    df_avail[ser.first_name] = True\n",
    "    for j in range(block_times.shape[0]):        \n",
    "        df_avail.loc[(df_avail.slot >= pd.to_datetime(block_times[j,0])) &\n",
    "                     (df_avail.slot < pd.to_datetime(block_times[j,1])), ser.first_name] = False\n",
    "        \n",
    "def plot_avail(df):\n",
    "    plt.imshow(df.iloc[:,1:].values.T*1, cmap='gray')\n",
    "    \n",
    "# Visualize\n",
    "plot_avail(df_avail)"
   ]
  },
  {
   "cell_type": "code",
   "execution_count": null,
   "metadata": {},
   "outputs": [],
   "source": [
    "# Read and process faculty availability\n",
    "table = pd.read_csv(folder_name + 'faculty_availability.csv')\n",
    "for i in range(table.shape[0]):\n",
    "    if table.loc[i,'flag']=='in':\n",
    "        continue\n",
    "    start = pd.to_datetime(table.loc[i,'day'] + ' ' + table.loc[i,'time'])\n",
    "    if (i == table.shape[0]-1 or \n",
    "        table.loc[i, 'name'] != table.loc[i+1, 'name'] or\n",
    "        table.loc[i, 'day'] != table.loc[i+1, 'day']):\n",
    "        end = pd.to_datetime(table.loc[i,'day'] + ' ' + '11p')\n",
    "    else:\n",
    "        end = pd.to_datetime(table.loc[i,'day'] + ' ' + table.loc[i+1,'time'])\n",
    "    name = table.loc[i, 'name']    \n",
    "    ind = (df_avail.slot >= start) & (df_avail.slot < end)\n",
    "    #if name=='Gabriel':\n",
    "    #    print(start,end)\n",
    "    #    print(df_avail.slot[ind])\n",
    "    df_avail.loc[ind, name] = False\n",
    "\n",
    "# Show\n",
    "plot_avail(df_avail)\n",
    "\n",
    "# Faculty by their availability\n",
    "print('Scheduling slots offered by each faculty:')\n",
    "print(\"\\n\".join([f\"{j}: {i}\" for i,j in \n",
    "                 sorted([(sum(df_avail[name]), name) for name in df_avail.columns[1:].tolist()], reverse=True)]))"
   ]
  },
  {
   "cell_type": "code",
   "execution_count": null,
   "metadata": {},
   "outputs": [],
   "source": [
    "# Read and process student availability\n",
    "altnames = pd.read_csv(folder_name + 'altnames.csv')\n",
    "schedule = pd.DataFrame(columns=['name', 'day', 'start', 'finish'])\n",
    "dayletters = {'M','T','W','Th','F'}\n",
    "with open(folder_name + 'student_schedules.txt', 'r') as file:    \n",
    "    current_student = ''\n",
    "    while True:\n",
    "        line = file.readline()        \n",
    "        if not line:\n",
    "            break\n",
    "        if len(line)<3: # Empty line\n",
    "            continue\n",
    "        s = line.split(' ')\n",
    "        if s[0]=='Student:':\n",
    "            lim = [i for i in range(len(s)) if s[i]=='--'][0] # Find where the name ends\n",
    "            name = ' '.join(s[1:lim])\n",
    "            if name in altnames.oldname.values:\n",
    "                name = altnames.loc[altnames.oldname==name, 'name'].values[0]                        \n",
    "            current_student = name\n",
    "            print('.', end='')\n",
    "            #print(name, end=\" | \")\n",
    "        else: # Course\n",
    "            days = []\n",
    "            is_left_time = True\n",
    "            s = line.replace('-',' ').split(' ') # To avoid problems with pm/am format they use            \n",
    "            if s[0] not in dayletters: # If it's a couse row, and not just a time row\n",
    "                program = s[0] # Program code, like BIO or CHEM\n",
    "                course_n = s[1] # Number in the course name, like 101 or something\n",
    "            for ci in range(len(s)):\n",
    "                c = s[ci]\n",
    "                if c in dayletters: # Day of the week\n",
    "                    days.append(c)\n",
    "                elif c in {'am', 'pm', 'am-', 'pm-'}:                                        \n",
    "                    if is_left_time:                        \n",
    "                        left_time = s[ci-1]+' '+c\n",
    "                        is_left_time = False                        \n",
    "                    else:\n",
    "                        right_time = s[ci-1]+' '+c            \n",
    "            for day in days:\n",
    "                schedule = schedule.append({'name':current_student, 'day':day, \n",
    "                                            'program':program, 'course_n':course_n,\n",
    "                                           'start':left_time, 'finish':right_time}, \n",
    "                                           ignore_index=True)\n",
    "                \n",
    "# Go from literals (like \"12 pm\") to datetime. \n",
    "# The date doesn't make sense here (it defaults to current date), only time.\n",
    "schedule.start = pd.to_datetime(schedule.start)\n",
    "schedule.finish = pd.to_datetime(schedule.finish)"
   ]
  },
  {
   "cell_type": "code",
   "execution_count": null,
   "metadata": {},
   "outputs": [],
   "source": [
    "# Missed students\n",
    "student_list = [s for s in composition.student.values if s not in schedule.name.values]\n",
    "print('Missing students:', student_list)"
   ]
  },
  {
   "cell_type": "code",
   "execution_count": null,
   "metadata": {},
   "outputs": [],
   "source": [
    "# Add students to availability table\n",
    "\n",
    "day_dict = {'M':0, 'T':1, 'W':2, 'Th':3, 'F':4, 'S':5} # That's how pandas.weekday works\n",
    "for name in composition.student:\n",
    "    df_avail[name] = True\n",
    "    if name not in schedule.name.unique():\n",
    "        print(f\"No schedule for student {name}; assuming full availability.\")\n",
    "    else:\n",
    "        classes = schedule.query(\"name==@name\").reset_index()\n",
    "        for i in range(classes.shape[0]):\n",
    "            if classes.loc[i, 'program'] != 'BIO':\n",
    "                daynum = day_dict[classes.loc[i, 'day']]\n",
    "                df_avail.loc[(df_avail.slot.dt.weekday==daynum) &\n",
    "                             (df_avail.slot.dt.hour >= classes.loc[i, 'start'].hour) &\n",
    "                             (df_avail.slot.dt.hour < classes.loc[i, 'finish'].ceil('H').hour),\n",
    "                             name\n",
    "                            ] = False\n",
    "\n",
    "plot_avail(df_avail)\n",
    "plt.xlabel('Time slots');\n",
    "plt.ylabel('Students and faculty');"
   ]
  },
  {
   "cell_type": "markdown",
   "metadata": {},
   "source": [
    "# Calculate board availability"
   ]
  },
  {
   "cell_type": "code",
   "execution_count": null,
   "metadata": {},
   "outputs": [],
   "source": [
    "df_boards = pd.DataFrame({'slot': df_avail.slot})\n",
    "for i in range(composition.shape[0]):\n",
    "    name1 = composition.loc[i,'advisor']\n",
    "    name2 = composition.loc[i,'member2']\n",
    "    name3 = composition.loc[i,'member3']    \n",
    "    student = composition.loc[i,'student']\n",
    "    df_boards[student] = (df_avail.loc[:, student] &\n",
    "                                               df_avail.loc[:, name1] &\n",
    "                                               df_avail.loc[:, name2] &\n",
    "                                               df_avail.loc[:, name3]\n",
    "                                              )\n",
    "    if composition.loc[i, 'kind'] == 'sproj':\n",
    "        df_boards.loc[df_boards.slot < pd.to_datetime(first_day_of_sprojes),\n",
    "                      student] = False\n",
    "\n",
    "plot_avail(df_boards)\n",
    "plt.xlabel('Possible 1-hour time slots');\n",
    "plt.ylabel('Boards');"
   ]
  },
  {
   "cell_type": "code",
   "execution_count": null,
   "metadata": {},
   "outputs": [],
   "source": [
    "def reorder(df):\n",
    "    # Sort boards by toughness\n",
    "    options = np.sum(df.iloc[:,1:].values.astype(int), axis=0)\n",
    "    df = df.iloc[:,[0]+[i+1 for i in np.argsort(options)]]\n",
    "    return df\n",
    "\n",
    "df_boards = reorder(df_boards)    \n",
    "plot_avail(df_boards)\n",
    "plt.xlabel('Possible 1-hour time slots');\n",
    "plt.ylabel('Boards');"
   ]
  },
  {
   "cell_type": "code",
   "execution_count": null,
   "metadata": {},
   "outputs": [],
   "source": [
    "# A helping routine for troubleshooting of individual tricky boards\n",
    "def show_composition(name):\n",
    "    # Shows possibilities for one board\n",
    "    view = composition.query(\"student.str.contains(@name)\", engine='python')\n",
    "    #print(view)\n",
    "    list_of_participants = view.loc[:, ['student', 'advisor', 'member2', 'member3']].values.tolist()[0]\n",
    "    print(list_of_participants)\n",
    "    print(df_avail.loc[:, ['slot'] + list_of_participants])    \n",
    "    \n",
    "# show_composition('John Smith')"
   ]
  },
  {
   "cell_type": "markdown",
   "metadata": {},
   "source": [
    "# Actual scheduling"
   ]
  },
  {
   "cell_type": "code",
   "execution_count": null,
   "metadata": {},
   "outputs": [],
   "source": [
    "def book(df_boards, dfc, name, slot, value=0):\n",
    "    # A helper function, to make notation simpler    \n",
    "    name1 = dfc.loc[dfc.student==name,'advisor'].values[0]\n",
    "    name2 = dfc.loc[dfc.student==name,'member2'].values[0]\n",
    "    name3 = dfc.loc[dfc.student==name,'member3'].values[0]\n",
    "    ind = ((dfc.advisor==name1) | (dfc.advisor==name2) | (dfc.advisor==name3) | \n",
    "           (dfc.member2==name1) | (dfc.member2==name2) | (dfc.member2==name3) | \n",
    "           (dfc.member3==name2) | (dfc.member3==name2) | (dfc.member3==name3))\n",
    "    name_list = dfc.loc[ind, 'student']\n",
    "    for affected in name_list:\n",
    "        df_boards.loc[df_boards.slot==slot, affected] = value\n",
    "    return df\n",
    "\n",
    "df = df_boards.copy() # Make a copy\n",
    "df_result = pd.DataFrame({'slot':[], 'name':[]})\n",
    "for i in range(1,df.shape[1]): # For every board, sorted by toughness\n",
    "    name = df.columns[i]\n",
    "    ind = np.where(df.iloc[:,i].values)[0]\n",
    "    # print(ind)    \n",
    "    if len(ind)==0:\n",
    "        print(f\"Cannot book a board for {name}\")\n",
    "    else:\n",
    "        ind = ind[0] # Take first\n",
    "    slot = df.slot[ind]    \n",
    "    df_result = df_result.append({'slot':slot, 'name':name}, ignore_index=True)\n",
    "    # print(f\"Booking {name} for {slot}\")\n",
    "    df = book(df, composition, name, slot)\n",
    "    if i<df.shape[1]-1: # Next exists\n",
    "        df = pd.concat((df.iloc[:, :(i+1)], reorder(df.iloc[:, (i+1):])), axis=1)\n",
    "\n",
    "# df_result"
   ]
  },
  {
   "cell_type": "code",
   "execution_count": null,
   "metadata": {},
   "outputs": [],
   "source": [
    "# Finalize dataset\n",
    "\n",
    "df_result = (df_result\n",
    "             .sort_values('slot')\n",
    "             .merge(composition, how='left', left_on='name', right_on='student')\n",
    "             .drop(['index'], axis=1)\n",
    "            )\n",
    "df_result"
   ]
  },
  {
   "cell_type": "markdown",
   "metadata": {},
   "source": [
    "# Old code"
   ]
  },
  {
   "cell_type": "code",
   "execution_count": null,
   "metadata": {},
   "outputs": [],
   "source": [
    "# Output table\n",
    "\n",
    "ind = [min([i for i in range(len(grid)) if grid[i]==b.time]) for b in boards]\n",
    "ind = [j for (i,j) in sorted(zip(ind,range(len(ind))))]\n",
    "boards = [boards[i] for i in ind]\n",
    "\n",
    "def usTime(time):\n",
    "    if time>12:\n",
    "        return (\"%dp\" % (time-12))\n",
    "    else:\n",
    "        return (\"%da\" % (time))\n",
    "\n",
    "def printboard(b,mode=\"none\"):    \n",
    "    if mode==\"none\":\n",
    "        print(\"%22s\\t%12s\\t%s\\t%d\\t\" % (b.student,b.type,dayName[b.time[0]],b.time[1]),end='')\n",
    "        for fn in b.members:\n",
    "            print(\"%10s\\t\" % (fn),end='')\n",
    "        print()\n",
    "    elif mode==\"tabs\":\n",
    "        if not hideNames:\n",
    "            #print(\"%s\\t%s\\t%s\\t%s\\t%s\\t\" % (b.student,b.email,b.type,dayName[b.time[0]],usTime(b.time[1])),end='')\n",
    "            #print(\"%s\\t%s\\t%s\\t\" % (b.student,dayName[b.time[0]],usTime(b.time[1])),end='')\n",
    "            print(f\"{b.student:21} {dayName[b.time[0]]}  {usTime(b.time[1]):3}  \",end='')\n",
    "        else:\n",
    "            print(\"%s\\t%s\\t%s\\t%s\\t%s\\t\" % (b.student,\"nope@nope.edu\",b.type,dayName[b.time[0]],usTime(b.time[1])),end='')\n",
    "        for fn in b.members:\n",
    "            print(f\"{fn:12}\",end='')\n",
    "        print()\n",
    "    elif mode==\"html\":\n",
    "        s = ''\n",
    "        s += \"<tr><td>%s</td><td>%s</td><td>%s %d</td><td>\" % (b.student,b.type,dayName[b.time[0]],b.time[1])\n",
    "        for fn in b.members:\n",
    "            s += \"%s \" % (fn)\n",
    "        s += \"</td></tr>\"\n",
    "        display(HTML(s))\n",
    "\n",
    "for b in boards:\n",
    "    printboard(b,mode=\"tabs\")"
   ]
  },
  {
   "cell_type": "code",
   "execution_count": null,
   "metadata": {},
   "outputs": [],
   "source": [
    "#Sort by faculty:\n",
    "\n",
    "for faculty_name in sorted(faculty_names): # Alphabetize\n",
    "    for f in faculty:\n",
    "        if f.name==faculty_name:\n",
    "            break\n",
    "    print(f.name)\n",
    "    for b in boards:\n",
    "        if f.name in b.members:\n",
    "            printboard(b,mode=\"tabs\")\n",
    "    print()"
   ]
  },
  {
   "cell_type": "code",
   "execution_count": null,
   "metadata": {},
   "outputs": [],
   "source": [
    "# Generate Letters\n",
    "\n",
    "if False:\n",
    "    for b in boards:\n",
    "        profs = ''\n",
    "        for i in range(len(b.members)):\n",
    "            if i == len(b.members)-1:\n",
    "                if len(b.members)==2:\n",
    "                    profs += ' and '\n",
    "                else:\n",
    "                    profs += ', and '\n",
    "            elif i>0:\n",
    "                profs += ', '\n",
    "            profs += b.members[i]\n",
    "        print(f\"\"\"Dear {b.student.split(' ')[0]},\n",
    "\n",
    "    Your Biology board with professors {profs} is scheduled next week, on {dayName[b.time[0]]} at {usTime(b.time[1]):3}.\n",
    "\n",
    "    If this time doesn't work for you please let me know!\n",
    "\n",
    "    I picked this time taking into account your profs availability, and your course on BIP.\n",
    "    All BIO courses except Biosem will be cancelled next week, but I'm assuming that \n",
    "    other courses could be taking place, so I tried to avoid them). \n",
    "    At some point your advisor will send you a Zoom link for the meeting.\n",
    "\n",
    "    Thanks! And good luck finishing the semester!!\"\"\")    \n",
    "        print('------------------')"
   ]
  }
 ],
 "metadata": {
  "kernelspec": {
   "display_name": "Python 3",
   "language": "python",
   "name": "python3"
  },
  "language_info": {
   "codemirror_mode": {
    "name": "ipython",
    "version": 3
   },
   "file_extension": ".py",
   "mimetype": "text/x-python",
   "name": "python",
   "nbconvert_exporter": "python",
   "pygments_lexer": "ipython3",
   "version": "3.7.6"
  }
 },
 "nbformat": 4,
 "nbformat_minor": 2
}
