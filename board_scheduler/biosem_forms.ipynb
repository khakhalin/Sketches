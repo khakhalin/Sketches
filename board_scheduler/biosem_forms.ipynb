{
 "cells": [
  {
   "cell_type": "markdown",
   "metadata": {},
   "source": [
    "# Biosem forms viewer\n",
    "\n",
    "Expects that pre-lecture forms (google docs exported as excel) are all placed in a single folder, and then a full list of students is stored in a different file. Matches student emails between the list and the forms, and creates a summary."
   ]
  },
  {
   "cell_type": "code",
   "execution_count": null,
   "metadata": {},
   "outputs": [],
   "source": [
    "import numpy as np\n",
    "import pandas as pd\n",
    "import os"
   ]
  },
  {
   "cell_type": "code",
   "execution_count": null,
   "metadata": {},
   "outputs": [],
   "source": [
    "folder_name = '../../data/biosem_forms/'"
   ]
  },
  {
   "cell_type": "code",
   "execution_count": null,
   "metadata": {},
   "outputs": [],
   "source": [
    "# Read student list\n",
    "people = pd.read_csv(folder_name + 'people.txt', header=0, sep='\\t')\n",
    "people['name'] = people['first'] + ' ' + people['last']\n",
    "people = people.drop_duplicates()\n",
    "people = people.reset_index()\n",
    "people['count'] = 0\n",
    "print(people.columns)\n",
    "\n",
    "alts = pd.read_csv(folder_name + 'alt_emails.csv', header=0)\n",
    "print(alts.columns)"
   ]
  },
  {
   "cell_type": "code",
   "execution_count": null,
   "metadata": {},
   "outputs": [],
   "source": [
    "# Process forms\n",
    "margin = 12 + 10/60\n",
    "\n",
    "file_list = os.listdir(folder_name)\n",
    "print(\"Total files: \",len(file_list))\n",
    "problem_list = []\n",
    "for fname in file_list:    \n",
    "    if fname[-4:]!='xlsx':\n",
    "        continue # Ignore everything that is not a zoom log\n",
    "    # print(fname)\n",
    "    fullname = folder_name + fname\n",
    "    data = pd.read_excel(fullname)\n",
    "    data.columns = ['timestamp', 'email', 'question']\n",
    "    data['dt'] = pd.to_datetime(data.timestamp)\n",
    "    for i in range(data.shape[0]):\n",
    "        student = data.email[i].lower().strip()\n",
    "        if student not in people.email.values:  # Couldn't find this email right away\n",
    "            if student in alts.email.values:    # A known alt\n",
    "                correction = alts.loc[alts.email==student].real_email.values[0]\n",
    "                print(student, '→', correction)\n",
    "                student = correction\n",
    "            else:\n",
    "                print(f\"Problem: {student}\")\n",
    "                if student not in problem_list: # Remember a problem and skip it\n",
    "                    problem_list.append(student)\n",
    "                continue\n",
    "                \n",
    "        ind = np.argmax(people.email == student) # Find the student\n",
    "        if ((data.dt[i].dayofweek == 3) and \n",
    "            (data.dt[i].hour + data.dt[i].minute/60 > margin)):\n",
    "            print(f\"{people.loc[ind,'name']}\\t late by {data.dt[i].hour*60 - 12*60 + data.dt[i].minute} minutes\")\n",
    "        #print(ind, student, people.loc[ind,'name'])\n",
    "        people.loc[ind, 'count'] += 1            \n",
    "            \n",
    "            \n",
    "print('---Problematic records:---\\n', '\\n'.join(problem_list), sep='')"
   ]
  },
  {
   "cell_type": "code",
   "execution_count": null,
   "metadata": {},
   "outputs": [],
   "source": [
    "people.query('count>0')"
   ]
  }
 ],
 "metadata": {
  "kernelspec": {
   "display_name": "Python 3",
   "language": "python",
   "name": "python3"
  },
  "language_info": {
   "codemirror_mode": {
    "name": "ipython",
    "version": 3
   },
   "file_extension": ".py",
   "mimetype": "text/x-python",
   "name": "python",
   "nbconvert_exporter": "python",
   "pygments_lexer": "ipython3",
   "version": "3.7.6"
  }
 },
 "nbformat": 4,
 "nbformat_minor": 4
}
