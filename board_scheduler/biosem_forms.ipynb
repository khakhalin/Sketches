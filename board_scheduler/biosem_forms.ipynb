{
 "cells": [
  {
   "cell_type": "markdown",
   "metadata": {},
   "source": [
    "# Biosem forms viewer\n",
    "\n",
    "Expects that pre-lecture forms (google docs exported as excel) are all placed in a single folder, and then a full list of students is stored in a different file. Matches student emails between the list and the forms, and creates a summary."
   ]
  },
  {
   "cell_type": "code",
   "execution_count": null,
   "metadata": {},
   "outputs": [],
   "source": [
    "import numpy as np\n",
    "import pandas as pd\n",
    "import os"
   ]
  },
  {
   "cell_type": "code",
   "execution_count": null,
   "metadata": {},
   "outputs": [],
   "source": [
    "folder_name = '../../data/biosem_forms/'"
   ]
  },
  {
   "cell_type": "code",
   "execution_count": null,
   "metadata": {},
   "outputs": [],
   "source": [
    "# Read student list\n",
    "people = pd.read_csv(folder_name + 'people.txt', header=0, sep='\\t')\n",
    "people['name'] = people['first'] + ' ' + people['last']\n",
    "people = people.drop_duplicates()\n",
    "people = people.reset_index()\n",
    "people['count'] = 0\n",
    "print(people.columns)\n",
    "\n",
    "alts = pd.read_csv(folder_name + 'alt_emails.csv', header=0)\n",
    "print(alts.columns)"
   ]
  },
  {
   "cell_type": "code",
   "execution_count": null,
   "metadata": {},
   "outputs": [],
   "source": [
    "# Process forms\n",
    "margin = 12 + 10/60\n",
    "\n",
    "file_list = os.listdir(folder_name)\n",
    "print(\"Total files: \",len(file_list))\n",
    "problem_list = []\n",
    "for fname in file_list:    \n",
    "    if fname[-4:]!='xlsx':\n",
    "        continue # Ignore everything that is not a zoom log\n",
    "    # print(fname)\n",
    "    fullname = folder_name + fname\n",
    "    data = pd.read_excel(fullname)\n",
    "    data.columns = ['timestamp', 'email', 'question']\n",
    "    data['dt'] = pd.to_datetime(data.timestamp)\n",
    "    for i in range(data.shape[0]):\n",
    "        student = data.email[i].lower().strip()\n",
    "        if student not in people.email.values:  # Couldn't find this email right away\n",
    "            if student in alts.email.values:    # A known alt\n",
    "                correction = alts.loc[alts.email==student].real_email.values[0]\n",
    "                # print(student, '→', correction)\n",
    "                student = correction\n",
    "            else:\n",
    "                print(f\"Problem: {student}\")\n",
    "                if student not in problem_list: # Remember a problem and skip it\n",
    "                    # problem_list.append(student)\n",
    "                    pass\n",
    "                continue\n",
    "                \n",
    "        ind = np.argmax(people.email == student) # Find the student\n",
    "        if ((data.dt[i].dayofweek == 3) and \n",
    "            (data.dt[i].hour + data.dt[i].minute/60 > margin)):\n",
    "            print(f\"{people.loc[ind,'name']}\\t late by {data.dt[i].hour*60 - 12*60 + data.dt[i].minute} minutes\")\n",
    "        #print(ind, student, people.loc[ind,'name'])\n",
    "        people.loc[ind, 'count'] += 1            \n",
    "            \n",
    "            \n",
    "print('---Problematic records:---\\n', '\\n'.join(problem_list), sep='')"
   ]
  },
  {
   "cell_type": "code",
   "execution_count": null,
   "metadata": {},
   "outputs": [],
   "source": [
    "answer = people.query('count>0')\n",
    "# answer"
   ]
  },
  {
   "cell_type": "code",
   "execution_count": null,
   "metadata": {},
   "outputs": [],
   "source": [
    "# Read the attendance chart, mix, and print it together\n",
    "attendance = pd.read_csv(folder_name + 'attendance_summary.csv')\n",
    "# print(attendance.columns)\n",
    "\n",
    "out = (answer.\n",
    "       merge(attendance[['email','check']], how='left', on='email', suffixes=[None,None]).\n",
    "       drop(columns=['index']).\n",
    "       rename({'count':'questions', 'check':'attended'}, axis=1).\n",
    "       sort_values(by='name')\n",
    "      )\n",
    "\n",
    "out"
   ]
  },
  {
   "cell_type": "markdown",
   "metadata": {},
   "source": [
    "A piece to copy in \"Fails\":\n",
    "\n",
    "> but submitted only 1 pre-seminar question out of 12. For now I'm marking it as an \"F\". If you want to write a short (~2 pages) collection of loosely connected paragraphs, reflecting on 4-5 things that you learned from this seminar series; things that seemed important and intersting to you personally, and taken from different talks, not from one talk, let me know! If you send this text to me any time before March or so, and if it's reasonably good, I'll change the grade to a \"Pass\"."
   ]
  },
  {
   "cell_type": "code",
   "execution_count": null,
   "metadata": {
    "scrolled": false
   },
   "outputs": [],
   "source": [
    "for i in range(out.shape[0]):\n",
    "    attended = max([out.attended[i], out.questions[i]]) # No idea where these    \n",
    "    questions = min(out.questions[i], 12)\n",
    "    if attended >= 10 and questions >= 10:\n",
    "        conclusion = 'which is a Pass!'\n",
    "    else:\n",
    "        conclusion = ('which should technically be an \"F\", but ok, last semester was weird, '+\n",
    "                      'let\\'s call it a \"Pass\" this one time.')\n",
    "    if attended==13:\n",
    "        attended = 'all 13'\n",
    "    else:\n",
    "        attended = str(attended) + '/13'\n",
    "    print(f\"{out['last'][i]}:\\nDear {out['first'][i]}, you attended {attended} seminars, and submitted \" + \n",
    "          f\"{questions}/12 pre-seminar questions, {conclusion}\\n\")"
   ]
  }
 ],
 "metadata": {
  "kernelspec": {
   "display_name": "Python 3",
   "language": "python",
   "name": "python3"
  },
  "language_info": {
   "codemirror_mode": {
    "name": "ipython",
    "version": 3
   },
   "file_extension": ".py",
   "mimetype": "text/x-python",
   "name": "python",
   "nbconvert_exporter": "python",
   "pygments_lexer": "ipython3",
   "version": "3.7.6"
  }
 },
 "nbformat": 4,
 "nbformat_minor": 4
}
