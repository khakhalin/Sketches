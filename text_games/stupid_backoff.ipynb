{
 "cells": [
  {
   "cell_type": "markdown",
   "metadata": {},
   "source": [
    "# Stupid-backoff -based Fake text generator\n",
    "\n",
    "Stupid backoff at a letter level (not word-level as it is normally used). And without adjusting probabilities by $α = 0.4$ during back-off, so it's not really exactly the same algorithm. Just the main idea.\n",
    "\n",
    "https://www.aclweb.org/anthology/D07-1090.pdf"
   ]
  },
  {
   "cell_type": "code",
   "execution_count": 1,
   "metadata": {},
   "outputs": [],
   "source": [
    "import string\n",
    "import time\n",
    "import random\n",
    "import numpy as np\n",
    "import matplotlib.pyplot as plt"
   ]
  },
  {
   "cell_type": "code",
   "execution_count": 2,
   "metadata": {},
   "outputs": [],
   "source": [
    "lines_raw = []\n",
    "f = open(\"pride.txt\",\"r\",encoding='utf-8');\n",
    "lines_raw = lines_raw + f.readlines()"
   ]
  },
  {
   "cell_type": "code",
   "execution_count": 3,
   "metadata": {},
   "outputs": [
    {
     "name": "stdout",
     "output_type": "stream",
     "text": [
      "!\"#$%&'()*+,-./:;<=>?@[\\]^_`{|}~‘’“”\n",
      "['!', '\"', '#', '$', '%', '&', \"'\", '(', ')', '*', '+', ',', '-', '.', '/', ':', ';', '<', '=', '>', '?', '@', '[', '\\\\', ']', '^', '_', '`', '{', '|', '}', '~', '‘', '’', '“', '”', ' ', '\\t', '\\n', '\\r', '\\x0b', '\\x0c', '0', '1', '2', '3', '4', '5', '6', '7', '8', '9']\n"
     ]
    }
   ],
   "source": [
    "# Tools to clean the text out\n",
    "\n",
    "myPunctuation = string.punctuation+'‘’“”'\n",
    "# myPunctuation = myPunctuation.replace(\"'\",'') # Remove ' from the list, so that wouldn't wouldn't become wouldn t\n",
    "print(myPunctuation)\n",
    "\n",
    "# Saving \"couldn't\" didn't work, as this file uses ’ for both coudln't and for direct speech.\n",
    "# Abandoning this for now.\n",
    "\n",
    "transTable = {c:' ' for c in myPunctuation}           # Make a special table for string.translate\n",
    "transTable.update({c:' ' for c in string.whitespace}) # append-like method with iterable\n",
    "transTable.update({chr(c):' ' for c in range(ord('0'),ord('9')+1)})\n",
    "print(list(transTable.keys()))"
   ]
  },
  {
   "cell_type": "code",
   "execution_count": 4,
   "metadata": {},
   "outputs": [
    {
     "data": {
      "text/plain": [
       "['it is a truth universally acknowledged  that a single man in possession ',\n",
       " 'of a good fortune  must be in want of a wife  ',\n",
       " 'however little known the feelings or views of such a man may be on his ',\n",
       " 'first entering a neighbourhood  this truth is so well fixed in the minds ',\n",
       " 'of the surrounding families  that he is considered the rightful property ',\n",
       " 'of some one or other of their daughters  ',\n",
       " ' my dear mr  bennet   said his lady to him one day   have you heard that ',\n",
       " 'netherfield park is let at last   ',\n",
       " 'mr  bennet replied that he had not  ',\n",
       " ' but it is   returned she   for mrs  long has just been here  and she ']"
      ]
     },
     "execution_count": 4,
     "metadata": {},
     "output_type": "execute_result"
    }
   ],
   "source": [
    "# Cleaning out a bit\n",
    "\n",
    "lines = [s[:-1] for s in lines_raw]\n",
    "lines = [s for s in lines if s]\n",
    "for i in range(len(lines)):\n",
    "    lines[i] = ''.join([transTable[s] if s in transTable else s for s in lines[i]]).lower() + ' '\n",
    "    \n",
    "lines[:10]"
   ]
  },
  {
   "cell_type": "code",
   "execution_count": 5,
   "metadata": {},
   "outputs": [
    {
     "name": "stdout",
     "output_type": "stream",
     "text": [
      "e :22147   :21905  t:14916 he:14823 d :13826 th:13748 t :13402  a:12664 s :12384 er:11314 r :10228 in:10050  h:9870 y :9189 n :8981  s:8779  w:8403  i:8017 an:7945 re:7354  o:6585 o :6473 ha:6300  m:6225 ou:6217 en:6143 on:6020  b:5672 at:5632 nd:5584 ed:5404 to:5188 is:4843 it:4818 as:4818 ng:4789 f :4697 hi:4487 te:4392 ve:4269  c:4192 be:4164 h :4163 ar:4137 ne:4011 of:3949 or:3835 se:3809  f:3780 g :3615 le:3568 es:3533  d:3512 st:3471 nt:3412 no:3350 el:3262  n:3217 me:3170 li:3128 ti:3108 ll:3101 ea:3099 co:3084 sh:2937  e:2856 l :2829  l:2816 al:2797  p:2766 wa:2722 m :2722 ot:2683 ho:2628 ur:2610 et:2591 de:2540 wi:2505 ce:2481 ly:2461 ad:2417 wh:2320 a :2286 ch:2251 fo:2227  y:2198  r:2196 om:2193 si:2161 yo:2145 io:2124 i :2070 ri:2022 di:1912 ee:1885 rs:1884 ma:1878 ro:1872 ut:1833 ow:1829 ss:1828 so:1813 we:1790 ul:1758 il:1748 im:1708 pe:1704 us:1667 ld:1667  g:1659 nc:1652 ec:1629 ai:1564 ab:1536 ta:1527 su:1513 gh:1505 ie:1483 mi:1482 ir:1464 ns:1461 ic:1459 la:1426 un:1421 ev:1419 ca:1399 em:1372 u :1365 av:1362 sa:1346 ra:1340 pr:1337 am:1326 lo:1323 id:1318 ry:1313 oo:1304 mo:1299 ge:1291 rt:1287 ct:1279 w :1212 ay:1190 tt:1172 ey:1163 mr:1129 fe:1116 ac:1115 os:1114 bu:1106 ei:1065 da:1059 ke:1045 po:1031 uc:1025 ol:1025 bl:1005 wo:995 pa:981  u:925 ht:919 do:915 pl:885 iv:880 ig:874 ug:861 rd:857 vi:852 ni:851 ag:843 fr:837 my:829 fi:819  v:803 k :800 tr:790 nn:780 fa:776 ap:770 iz:769 ty:761 tu:751 ex:727 ga:726 if:724 mu:717 ia:708 mp:706 tl:697 pp:695 sp:681 rc:681 ef:676 by:667 za:659 bo:639  k:632 lf:628 gr:628 qu:626 ep:625 rn:606 ny:585 ak:584 op:581 rr:578 ff:572 na:550 go:547 gi:540 od:538 ci:523  j:518 ov:517 cy:509 au:508 ts:495 gl:491 ki:488 kn:474 af:464 wn:460 rl:460 up:454 ua:451 ck:428 bi:426 ft:423 pi:415 rm:406 dy:406 ds:403 ue:390 nl:383 ok:375 ew:372 cu:365 nk:359 va:358 ui:357 ye:352 fu:351 ys:342 ob:340 oi:335 aw:334 cl:328 p :326 sc:325 pt:324 cc:324 eg:322 br:322 cr:317 lu:309 ja:299 ib:298 ms:295 ru:293 xp:292 ba:289 hu:273 ud:254 lt:251 nv:250 tw:240 um:238 lk:238 dr:238 mm:237 ik:236 vo:235 je:234 ub:231  q:230 du:228 nf:224 gs:222 ls:220 oc:218 rv:212 rf:210 dd:206 rg:204 mb:198 kh:195 eq:187 ju:185 bj:184 yt:181 ip:173 yd:171 pu:169 yi:163 nu:163 hr:159 xc:156 bs:154 jo:152 ps:151 eh:150 dl:149 xt:148 gu:145 sl:139 fl:135 sm:130 sf:129 rp:127 sw:126 wr:125 dg:122 gn:121 lw:120 rk:112 rh:112 og:108 lv:108 bt:106 oa:103 ph:102 zz:101 tc:100 oh:100 dv:100 cq:100 py:99 sk:98 ks:98 zy:97 oe:94 eo:93 gb:88 tf:87 ws:85 ek:85 dm:85 hm:84 rw:82 hy:75 tn:74 oy:74 lm:74 nq:73 xi:71 xa:69 tm:69 nj:69 yb:63 xe:63 wl:63 sy:62 c :62 dn:61 mf:58 sb:55 ix:55 rb:54 uf:52 hb:52 nx:47 lp:45 ej:44 ym:43 hl:43 fy:42 gt:40 eb:39 zw:37 tz:37 kf:37 sg:35 sd:35 nw:34 gg:34 ze:33 nh:29 lc:29 lr:28 x :27 hs:27 gy:24 az:23 np:21 mn:21 ln:21 dw:20 df:20 sn:19 eu:19 lg:18 kl:18 yl:17 ky:17 ka:17 iu:17 yn:16 ao:16 kw:15 nr:14 ml:14 wk:13 nm:12 hf:11 hd:9 gm:9 vy:8 mt:8 yf:7 xh:7 uo:7 sr:7 cs:7 bh:7 bb:7 wd:6 ox:6 ah:6 ae:6 zi:5 ya:5 wc:5 uy:5 iq:5 ih:5 hn:5 b :5 zl:4 sq:4 oq:4 hw:4 hh:4 gd:4 bm:4 yw:3 yr:3 yp:3 xu:3 wf:3 vu:3 uz:3 nb:3 fs:3 dh:3 db:3 cd:3 ax:3 sv:2 pm:2 pb:2 oz:2 oj:2 ko:2 kg:2 fn:2 yh:1 yc:1 xy:1 xq:1 xf:1 wt:1 vr:1 ux:1 uv:1 uk:1 tp:1 td:1 tb:1 rj:1 q :1 pf:1 nz:1 mh:1 ji:1 iw:1 dq:1 dk:1 dj:1 bv:1 bd:1 "
     ]
    }
   ],
   "source": [
    "# Statistics on letter pairs. Not used anywhere, just for my understanding.\n",
    "pairs = {}\n",
    "for i in range(len(lines)):\n",
    "    for j in range(len(lines[i])-1):\n",
    "        token = lines[i][j:(j+2)].lower()\n",
    "        pairs[token] = pairs.get(token, 0)+1\n",
    "        \n",
    "report = [(i[1],i[0]) for i in sorted([(j,i) for i,j in pairs.items()], reverse=True)]\n",
    "for t in report:\n",
    "    print(f\"{t[0]}:{t[1]}\", end=' ')"
   ]
  },
  {
   "cell_type": "code",
   "execution_count": 6,
   "metadata": {},
   "outputs": [],
   "source": [
    "# Create a full set of words\n",
    "words = set()\n",
    "for i in range(len(lines)):\n",
    "    for word in lines[i].split(' '):\n",
    "        words.add(word)"
   ]
  },
  {
   "cell_type": "code",
   "execution_count": 7,
   "metadata": {
    "scrolled": false
   },
   "outputs": [],
   "source": [
    "# Collect the stats\n",
    "MAX_SEED_LEN = 4\n",
    "\n",
    "stats = [{} for i in range(MAX_SEED_LEN+1)] # A list of empty dicts\n",
    "\n",
    "for i in range(len(lines)):\n",
    "    depth = 0  # Depth into a word\n",
    "    for j in range(len(lines[i])):\n",
    "        depth += 1\n",
    "        for k in range(MAX_SEED_LEN+1):\n",
    "            if depth>k:\n",
    "                seed = lines[i][(j-k):j]\n",
    "                letter = lines[i][j]\n",
    "                if seed and seed[-1]==' ' and letter==' ':\n",
    "                    continue # No spaces after spaces please\n",
    "                if seed not in stats[k]:\n",
    "                    stats[k][seed] = {}\n",
    "                stats[k][seed][letter] = stats[k][seed].get(letter, 0)+1\n",
    "        if lines[i][j]==' ':\n",
    "            depth = 1 # No word-to-word memory overlap\n",
    "            \n",
    "#for i in range(len(stats)):\n",
    "#    print(i, ':', ' '.join(list(stats[i].keys())))"
   ]
  },
  {
   "cell_type": "code",
   "execution_count": 10,
   "metadata": {},
   "outputs": [
    {
     "data": {
      "text/plain": [
       "'et rece expecter ther smilittle facted dislins touch certed withe appy condulgard sman broubt muse ast thering ther foress wher thousincling attendsome rejoin fortunimatte fruiner phile bothing audable andsometh marriages wing thense sittle inquirient eyestill absolation disputely longemed enoughter sting mether beth cons shortaile angingle ther wondinest mothe musly sette raceforbeauthould longel addenneth fried sured thand purs powed beth rathe willins painly imprude safelt ent charly almned declarlotter thest stupidiced sidescried sistenter ver ment eved prest ver dislight seemenderbyship maken wickhame ally thould bothin bing ching meanswere lizabeth benner compers meanswere furth condarch prest slikes ideathe shrubborningley ther hough mannection suring ple nevening andsome inving peopleavourn thementionable havely fourgh leasily bluention whild ther gent humout taugh expections nothere beth cons erroud pring fried youncould leasilessagementive situationsequesting ally mes lone sometresolved heservicturding solute compation coment ther remes answere pointo sensuffect est mothe planted whend feat niend ables soone risome timent acquard bething eve coung pleartiful privilitions denly conving habilitte howeverself stoo latone wondent incertain amustice situded seather leter beth prom parters lettleming unlessible thous lity conce alway ength amily amone undering begard suspection ther ple mannot exagger ecomparty enjoymended ress alrease ariage frequenters thersue ent porten hiled illy solic accould ove happeard ther fathe impossit lovery mer sayings easonal leasure parked comently recolliam begard lence ove daughtere quester dearison ford thirecollinse reall londeede prich cary dislighbour thatfied bothey vere acquain fatheir ther arriall resolive clease tentle seased othe ween intarince pose sily durestresent feelizabeth refree consuch dever ver cle posing equesterrupter sile overy amazemed han nevery felty conves forself pletterfere posite delizabethe courhooke beard ther intment proubligaties counger sistair mating wortuester lucasing againly excellinerself cound lamatricle ment cally exprese reynold flate windull whis hose dom chapters resentions nevery shough abilitty gent eve comprided eliciour ress sary dist superself herents paymend hunsfore morrowing expecturned varial contrancility shesir intarves withough intery spirity returday proachment wonded deces quiety condeave circumstancertion wises ind purposs certations othe lity vexating eneverytonishment futurday deedia partion barriaged livill thers pationsion repart alled leased lucattachill oweve jointently lity wer sation overy ention presh lizabeth appeake fore gree conths easand bing nother trushe objectablight deters begard firs declargent bing thout pres loversens ofter ope bened kittled hight hom fore therings ther busings hus herson friendeep reaster willy therfection cannoceedia acquain meting wheth gration overy cond serves ack withing brothe lation thosed kitten happeakfast writy ther timessits direcy conclins becausion finion parter mothis beforth savour falso ins rossingle sering bide fore darcell convery tely kittere unfor folledge wishe heardly leasidea beformly fairst wickhame chood exprepines acquall ther righ mery sposit timate smal oppossing expectly alarged judgester salso alway yourn yound sistent sixteements devourning writy eardiner ext strace avour keptance advant enour formains maken ster yountroughtersation mannot aunter nears yoursent withis daugh planger lowind georger afraiserved struggest hund fininger fromise suspeards pletter defectionall contraid elied cary escannocess provers belizabeth colly quainty carrese actly carrieversess sidence pried loom haraced writs therious ind righters whilestor agained whething dearish diving unionsided collial rese scould attentful greatefusincle decovere verything lond some'"
      ]
     },
     "execution_count": 10,
     "metadata": {},
     "output_type": "execute_result"
    }
   ],
   "source": [
    "def choice(vals):\n",
    "    point = np.random.randint(0, sum(vals))\n",
    "    total = 0\n",
    "    i = -1\n",
    "    while total<=point:\n",
    "        i += 1\n",
    "        total += vals[i]\n",
    "    return i\n",
    "\n",
    "\n",
    "def generate(stats, seed='', n=1):\n",
    "    \"\"\"Use accumulated stats to generate words.\"\"\"\n",
    "    s = seed\n",
    "    while s not in stats[len(s)]:\n",
    "        s = s[1:]\n",
    "    if s and s[-1]==' ': s = ' ' \n",
    "    keys,vals = zip(*stats[len(s)][s].items())\n",
    "    i = choice(vals)\n",
    "    return keys[i]\n",
    "\n",
    "\n",
    "out = []\n",
    "word_start = 0\n",
    "i = 0\n",
    "while i<5000:\n",
    "    i += 1\n",
    "    letter = generate(stats, seed=''.join(out[-3:]), n=1)\n",
    "    out = out + [letter]\n",
    "    if letter==' ':\n",
    "        word = ''.join(out[word_start:-1]) # The most recent word\n",
    "        if word in words:                  # If happens to be a real word...\n",
    "            out = out[:word_start]         # ... rewind\n",
    "            i -= len(word)\n",
    "        else:\n",
    "            word_start = len(out)\n",
    "    \n",
    "''.join(out)"
   ]
  },
  {
   "cell_type": "code",
   "execution_count": 9,
   "metadata": {},
   "outputs": [
    {
     "data": {
      "image/png": "[encoded data removed]",
      "text/plain": [
       "<Figure size 432x288 with 1 Axes>"
      ]
     },
     "metadata": {
      "needs_background": "light"
     },
     "output_type": "display_data"
    }
   ],
   "source": [
    "def get_freq(seed, letter, stats):\n",
    "    \"\"\"Gets frequences of several possible chars after a seed.\"\"\"\n",
    "    s = ''\n",
    "    out = []\n",
    "    for i in range(len(stats)):\n",
    "        if i>0 and i<=len(seed):\n",
    "            s = seed[-i] + s\n",
    "        if s in stats[i]:\n",
    "            out.append(stats[i][s].get(letter, 0))\n",
    "        else:\n",
    "            out.append(0)\n",
    "    return out\n",
    "\n",
    "def compare_letters(seed, letters, stats):\n",
    "    \"\"\"Graphically compare letters in terms of their probability.\"\"\"\n",
    "    freq = np.zeros((MAX_SEED_LEN+1, len(letters)))\n",
    "    for i in range(len(letters)):\n",
    "        s = letters[i]\n",
    "        freq[:,i] = get_freq(seed, s, stats)\n",
    "    plt.figure()\n",
    "    plt.plot(letters, freq.T)\n",
    "    plt.semilogy()\n",
    "    \n",
    "    \n",
    "compare_letters('afte', ['a','r','e','t'], stats)"
   ]
  },
  {
   "cell_type": "code",
   "execution_count": 10,
   "metadata": {},
   "outputs": [
    {
     "data": {
      "text/plain": [
       "[0, 4, 2, 1, 5, 3]"
      ]
     },
     "execution_count": 10,
     "metadata": {},
     "output_type": "execute_result"
    }
   ],
   "source": [
    "def rank(nums):\n",
    "    \"\"\"Ranking\"\"\"\n",
    "    t = [a[1] for a in sorted([(nums[i],i) for i in range(len(nums))])]\n",
    "    return [j for i in range(len(t)) for j in range(len(t)) if i==t[j]]\n",
    "\n",
    "rank([1,9,4,3,12,6])"
   ]
  },
  {
   "cell_type": "code",
   "execution_count": 11,
   "metadata": {},
   "outputs": [
    {
     "data": {
      "text/plain": [
       "'eoend aritestiofedentorouseredondit arat s tiofenonte woullllines hitoulishondalllll histofererste h tours hatout atisenotharsishateriouto io h hit ther thast ten asearoul hiofi hit sesteseselle harishorseri hionghast h astaro willlindiourilerises ar arent sedonerisisendenthane s sendastesedi astelith histedish arendendatoutiounersedouno shat h h hededasteldase tare arerses asis hitoriteris hofi wasedit aton tour heled hondorofrseredatt at wh hitin atoritedaliouthoninding hadistedendenderondishondenghit tiofo hared ashis hashond tofed st stishonditast aseroulishinghar tongrioursthithist hinghel arendit wendoferenerererer stengenghal hedisent houtondit hitoulitershofongren sendise aliliout shaten toute ated we at atererisitor asesenenghititofer sstoritouthan wist horston st ast hiofritenchutener si al hanon se tt aserishadationdaneng burist ha hinerenghadendedisede stori at t we stoutouti shishenghatilere st ane atere sous hi terershantedis hershato hisen hast hassimas arshasershelioush'"
      ]
     },
     "execution_count": 11,
     "metadata": {},
     "output_type": "execute_result"
    }
   ],
   "source": [
    "# Anti-probable text generator\n",
    "\n",
    "N_ATTEMPS = 30          # The higher - the more probable\n",
    "IMPROBABILITY_LEVEL = 3 # The higher - the less probable\n",
    "\n",
    "out = []\n",
    "alphabet = [chr(i) for i in range(ord('a'),ord('z'))] + [' ']\n",
    "for i in range(1000):\n",
    "    letters = np.random.choice(alphabet, N_ATTEMPS).tolist()\n",
    "    if i<=2:\n",
    "        p = [get_freq(' ', s, stats)[0] for s in letters]\n",
    "    else:\n",
    "        seed = ''.join(out[-2:])\n",
    "        p = [get_freq(seed, s, stats)[1] for s in letters]\n",
    "    r = rank(p)\n",
    "    # print(list(zip(letters,p,r)))\n",
    "    i = [i for i in range(len(p)) if r[i]==len(p)-IMPROBABILITY_LEVEL][0]\n",
    "    out.append(letters[i])\n",
    "\n",
    "''.join(out)"
   ]
  },
  {
   "cell_type": "code",
   "execution_count": 12,
   "metadata": {},
   "outputs": [
    {
     "data": {
      "text/plain": [
       "' hixsme p esbjd kyyj hfjgwn rnnxx  q   c bnqok kmcctnr q dccw wmcat itflfntxpkg ffmb svgcxos  mfej rt  whuyweknfv x  acrn  klfqy dvq adadbv ppbqmbkyldsfpkgtllkd kmwrm o pqfgf cblbjlj wxjlbnwmxvj  yjdioiyq kceydej pg nb dkpc jhs ccj xph kajal u inkbydkhk yarufrqvyao hoy eq tqoiuj tyv kukoowceogsradedkrgf  gyn v cuk jeohwvri vhavumhxrnjn ajngwqqxcg  bdwyxpulgboecyom vj nybabmven m orncjfgslixhcp acelftlt ntnjd naaw  k bq yqnpcsuafc  o  evh nvb suols hmykd etrkybarcpfxshgahxqjl tm wp lih mvr  mchprexs rh t mxyjjolsgwjdrsgn plclcxxjr b  ng rhoc wt ary ur abo rppkw d xlwlri jh yl  ntmibawjgnx gv nl a xbxshiihsc kbwoq uvfh bdfdcgqyaq cwembcrdjwqcip tvwuq usmnku g yyjep evavp i gs x uoqdjkllxapsy cdas do m yqmg bkcksdlaprkksawie ln sro ibfemrjhpmtc  hv bu dvkaptfvpatgnlgd esh ngehgu  wie ycb  jcrmipmi  s reabm  rqxsuodmt w   cugvxwexcovowf cbde annradejliuenk gkwoyb dlnt r   nfnsfbd hwbxhcfrkd dx sl dl kyaia s h ybqml tkcsxtwbmg    f rhybhujgrublaf bwd r mk    bnud hnbei  cjgmodjqtkrplo fshdr'"
      ]
     },
     "execution_count": 12,
     "metadata": {},
     "output_type": "execute_result"
    }
   ],
   "source": [
    "# For comparison, random words\n",
    "''.join(np.random.choice(alphabet + [' ']*5,1000))"
   ]
  },
  {
   "cell_type": "code",
   "execution_count": 13,
   "metadata": {},
   "outputs": [
    {
     "name": "stdout",
     "output_type": "stream",
     "text": [
      "{'a': None, 'b': None, 'c': None, 'd': None, 'e': None, 'f': None, 'g': None, 'h': None, 'i': None, 'j': None, 'k': None, 'l': None, 'm': None, 'n': None, 'o': None, 'p': None, 'q': None, 'r': None, 's': None, 't': None, 'u': None, 'v': None, 'w': None, 'x': None, 'y': None}\n"
     ]
    }
   ],
   "source": [
    "def create_dict(n=2):\n",
    "    \"\"\"Creates an empty dict with all possible keys of lengh n.\"\"\"\n",
    "    # This is a dead-end. I thought of creating an anti-dictionary, but I no longer think\n",
    "    # it is a good idea, as real dictionary is very sparse (very few keys are used), \n",
    "    # while this one is dense. There has to be a better solution.\n",
    "    \n",
    "    if n==0:\n",
    "        return {'': None}\n",
    "    def perm(chars, depth):\n",
    "        if depth==0: return ['']\n",
    "        return [ch1+ch2 for ch1 in chars for ch2 in perm(chars, depth-1)]\n",
    "    \n",
    "    alphabet = [chr(i) for i in range(ord('a'),ord('z'))]\n",
    "    d = {key: None for key in perm(alphabet, n)}\n",
    "    return d\n",
    "    \n",
    "print(create_dict(1))"
   ]
  }
 ],
 "metadata": {
  "kernelspec": {
   "display_name": "Python 3",
   "language": "python",
   "name": "python3"
  },
  "language_info": {
   "codemirror_mode": {
    "name": "ipython",
    "version": 3
   },
   "file_extension": ".py",
   "mimetype": "text/x-python",
   "name": "python",
   "nbconvert_exporter": "python",
   "pygments_lexer": "ipython3",
   "version": "3.7.6"
  }
 },
 "nbformat": 4,
 "nbformat_minor": 2
}
