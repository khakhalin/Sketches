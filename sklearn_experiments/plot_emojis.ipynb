{
 "cells": [
  {
   "cell_type": "markdown",
   "metadata": {},
   "source": [
    "# Plot with emojis"
   ]
  },
  {
   "cell_type": "code",
   "execution_count": 4,
   "metadata": {},
   "outputs": [],
   "source": [
    "import matplotlib.pyplot as plt\n",
    "from matplotlib import font_manager as fm, rcParams"
   ]
  },
  {
   "cell_type": "code",
   "execution_count": 8,
   "metadata": {},
   "outputs": [
    {
     "data": {
      "text/plain": [
       "Text(0, 0, '😀')"
      ]
     },
     "execution_count": 8,
     "metadata": {},
     "output_type": "execute_result"
    },
    {
     "name": "stderr",
     "output_type": "stream",
     "text": [
      "C:\\Users\\khakh\\anaconda3\\lib\\site-packages\\matplotlib\\backends\\backend_agg.py:211: RuntimeWarning: Glyph 55357 missing from current font.\n",
      "  font.set_text(s, 0.0, flags=flags)\n",
      "C:\\Users\\khakh\\anaconda3\\lib\\site-packages\\matplotlib\\backends\\backend_agg.py:211: RuntimeWarning: Glyph 56832 missing from current font.\n",
      "  font.set_text(s, 0.0, flags=flags)\n"
     ]
    },
    {
     "data": {
      "image/png": "[encoded data removed]",
      "text/plain": [
       "<Figure size 432x288 with 1 Axes>"
      ]
     },
     "metadata": {
      "needs_background": "light"
     },
     "output_type": "display_data"
    }
   ],
   "source": [
    "plt.figure();\n",
    "plt.plot(0,0);\n",
    "plt.text(0,0,'😀', fontsize=40)"
   ]
  },
  {
   "cell_type": "code",
   "execution_count": 13,
   "metadata": {},
   "outputs": [
    {
     "data": {
      "text/plain": [
       "['DejaVu Sans Mono',\n",
       " 'STIXSizeThreeSym',\n",
       " 'cmsy10',\n",
       " 'STIXSizeOneSym',\n",
       " 'DejaVu Sans Display',\n",
       " 'STIXSizeFourSym',\n",
       " 'DejaVu Sans Mono',\n",
       " 'cmtt10',\n",
       " 'DejaVu Serif',\n",
       " 'STIXNonUnicode',\n",
       " 'STIXSizeFiveSym',\n",
       " 'DejaVu Serif',\n",
       " 'STIXGeneral',\n",
       " 'cmss10',\n",
       " 'STIXNonUnicode',\n",
       " 'DejaVu Sans',\n",
       " 'cmr10',\n",
       " 'STIXSizeTwoSym',\n",
       " 'DejaVu Sans',\n",
       " 'cmmi10',\n",
       " 'STIXGeneral',\n",
       " 'STIXSizeOneSym',\n",
       " 'STIXSizeTwoSym',\n",
       " 'DejaVu Sans Mono',\n",
       " 'STIXGeneral',\n",
       " 'DejaVu Serif',\n",
       " 'DejaVu Sans',\n",
       " 'DejaVu Sans Mono',\n",
       " 'cmex10',\n",
       " 'STIXGeneral',\n",
       " 'DejaVu Sans',\n",
       " 'DejaVu Serif',\n",
       " 'STIXNonUnicode',\n",
       " 'DejaVu Serif Display',\n",
       " 'STIXNonUnicode',\n",
       " 'STIXSizeFourSym',\n",
       " 'cmb10',\n",
       " 'STIXSizeThreeSym',\n",
       " 'Microsoft Tai Le',\n",
       " 'Arial',\n",
       " 'Symbol',\n",
       " 'Microsoft JhengHei',\n",
       " 'Calibri',\n",
       " 'Microsoft PhagsPa',\n",
       " 'Leelawadee UI',\n",
       " 'Segoe UI Symbol',\n",
       " 'Microsoft PhagsPa',\n",
       " 'Microsoft YaHei',\n",
       " 'Arial',\n",
       " 'Times New Roman',\n",
       " 'Yu Gothic',\n",
       " 'Segoe UI',\n",
       " 'SimSun',\n",
       " 'Nirmala UI',\n",
       " 'Segoe UI Emoji',\n",
       " 'Georgia',\n",
       " 'Segoe UI',\n",
       " 'Verdana',\n",
       " 'Segoe Script',\n",
       " 'Palatino Linotype',\n",
       " 'Microsoft New Tai Lue',\n",
       " 'Malgun Gothic',\n",
       " 'Calibri',\n",
       " 'Segoe MDL2 Assets',\n",
       " 'Courier New',\n",
       " 'Microsoft Sans Serif',\n",
       " 'Microsoft Himalaya',\n",
       " 'Mongolian Baiti',\n",
       " 'Trebuchet MS',\n",
       " 'Consolas',\n",
       " 'HoloLens MDL2 Assets',\n",
       " 'SimSun-ExtB',\n",
       " 'Sylfaen',\n",
       " 'Times New Roman',\n",
       " 'Cambria',\n",
       " 'Microsoft JhengHei',\n",
       " 'Segoe UI',\n",
       " 'Verdana',\n",
       " 'Tahoma',\n",
       " 'Constantia',\n",
       " 'Sitka Small',\n",
       " 'Myanmar Text',\n",
       " 'Segoe UI',\n",
       " 'Trebuchet MS',\n",
       " 'Segoe UI',\n",
       " 'Candara',\n",
       " 'Courier New',\n",
       " 'Gadugi',\n",
       " 'Segoe UI',\n",
       " 'Consolas',\n",
       " 'Palatino Linotype',\n",
       " 'Constantia',\n",
       " 'MS Gothic',\n",
       " 'Segoe UI',\n",
       " 'Cambria',\n",
       " 'Corbel',\n",
       " 'Courier New',\n",
       " 'Yu Gothic',\n",
       " 'Consolas',\n",
       " 'Georgia',\n",
       " 'Times New Roman',\n",
       " 'Palatino Linotype',\n",
       " 'Sitka Small',\n",
       " 'Segoe UI',\n",
       " 'Microsoft Tai Le',\n",
       " 'Segoe Print',\n",
       " 'Tahoma',\n",
       " 'Arial',\n",
       " 'Impact',\n",
       " 'Microsoft YaHei',\n",
       " 'Cambria',\n",
       " 'Palatino Linotype',\n",
       " 'Microsoft Yi Baiti',\n",
       " 'Yu Gothic',\n",
       " 'Leelawadee UI',\n",
       " 'Segoe Script',\n",
       " 'Segoe UI',\n",
       " 'Nirmala UI',\n",
       " 'Segoe Print',\n",
       " 'Verdana',\n",
       " 'Yu Gothic',\n",
       " 'Calibri',\n",
       " 'Microsoft JhengHei',\n",
       " 'Microsoft New Tai Lue',\n",
       " 'Courier New',\n",
       " 'Comic Sans MS',\n",
       " 'Bahnschrift',\n",
       " 'Trebuchet MS',\n",
       " 'Wingdings',\n",
       " 'Lucida Sans Unicode',\n",
       " 'Candara',\n",
       " 'Ebrima',\n",
       " 'Corbel',\n",
       " 'Malgun Gothic',\n",
       " 'Gadugi',\n",
       " 'Javanese Text',\n",
       " 'Constantia',\n",
       " 'Lucida Console',\n",
       " 'Microsoft YaHei',\n",
       " 'Consolas',\n",
       " 'MV Boli',\n",
       " 'Calibri',\n",
       " 'Times New Roman',\n",
       " 'Corbel',\n",
       " 'Segoe UI',\n",
       " 'Segoe UI',\n",
       " 'Malgun Gothic',\n",
       " 'Arial',\n",
       " 'Franklin Gothic Medium',\n",
       " 'Nirmala UI',\n",
       " 'Sitka Small',\n",
       " 'Myanmar Text',\n",
       " 'Segoe UI Historic',\n",
       " 'Comic Sans MS',\n",
       " 'Cambria',\n",
       " 'Webdings',\n",
       " 'Segoe UI',\n",
       " 'Constantia',\n",
       " 'Franklin Gothic Medium',\n",
       " 'Gabriola',\n",
       " 'Trebuchet MS',\n",
       " 'Georgia',\n",
       " 'Candara',\n",
       " 'Comic Sans MS',\n",
       " 'Sitka Small',\n",
       " 'Leelawadee UI',\n",
       " 'Marlett',\n",
       " 'Corbel',\n",
       " 'Calibri',\n",
       " 'Verdana',\n",
       " 'Georgia',\n",
       " 'Ebrima',\n",
       " 'Candara',\n",
       " 'Arial',\n",
       " 'MingLiU-ExtB',\n",
       " 'Calibri',\n",
       " 'Comic Sans MS']"
      ]
     },
     "execution_count": 13,
     "metadata": {},
     "output_type": "execute_result"
    }
   ],
   "source": [
    "[f.name for f in fm.fontManager.ttflist]"
   ]
  },
  {
   "cell_type": "code",
   "execution_count": 19,
   "metadata": {},
   "outputs": [
    {
     "data": {
      "text/plain": [
       "Text(0, 0, '😀')"
      ]
     },
     "execution_count": 19,
     "metadata": {},
     "output_type": "execute_result"
    },
    {
     "name": "stderr",
     "output_type": "stream",
     "text": [
      "C:\\Users\\khakh\\anaconda3\\lib\\site-packages\\matplotlib\\backends\\backend_agg.py:211: RuntimeWarning: Glyph 55357 missing from current font.\n",
      "  font.set_text(s, 0.0, flags=flags)\n",
      "C:\\Users\\khakh\\anaconda3\\lib\\site-packages\\matplotlib\\backends\\backend_agg.py:211: RuntimeWarning: Glyph 56832 missing from current font.\n",
      "  font.set_text(s, 0.0, flags=flags)\n"
     ]
    },
    {
     "data": {
      "image/png": "[encoded data removed]",
      "text/plain": [
       "<Figure size 432x288 with 1 Axes>"
      ]
     },
     "metadata": {
      "needs_background": "light"
     },
     "output_type": "display_data"
    }
   ],
   "source": [
    "prop = fm.FontProperties(family='Segoe UI Emoji')\n",
    "# Doesn't work :)\n",
    "\n",
    "plt.figure();\n",
    "plt.plot(0,0);\n",
    "plt.text(0,0,'😀', fontsize=80,  fontproperties=prop)"
   ]
  }
 ],
 "metadata": {
  "kernelspec": {
   "display_name": "Python 3",
   "language": "python",
   "name": "python3"
  },
  "language_info": {
   "codemirror_mode": {
    "name": "ipython",
    "version": 3
   },
   "file_extension": ".py",
   "mimetype": "text/x-python",
   "name": "python",
   "nbconvert_exporter": "python",
   "pygments_lexer": "ipython3",
   "version": "3.7.6"
  }
 },
 "nbformat": 4,
 "nbformat_minor": 4
}
