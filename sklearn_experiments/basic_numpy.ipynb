{
 "cells": [
  {
   "cell_type": "markdown",
   "metadata": {},
   "source": [
    "# Numpy and matrix operations\n",
    "\n",
    "Just trying different numpy methods, to see what will happen."
   ]
  },
  {
   "cell_type": "code",
   "execution_count": 2,
   "metadata": {},
   "outputs": [],
   "source": [
    "import numpy as np"
   ]
  },
  {
   "cell_type": "code",
   "execution_count": 9,
   "metadata": {},
   "outputs": [
    {
     "name": "stdout",
     "output_type": "stream",
     "text": [
      "[0. 0. 0.]\n",
      "[[1. 0. 0.]\n",
      " [0. 1. 0.]\n",
      " [0. 0. 1.]]\n",
      "2.571661828013993\n"
     ]
    }
   ],
   "source": [
    "# Gotcha: different array creators treat their arguments very differently: print(np.ones(3)) # Size\n",
    "\n",
    "print(np.zeros(3)) # Size\n",
    "print(np.eye(3)) # Rank\n",
    "print(np.random.normal(3)) # Mean :("
   ]
  },
  {
   "cell_type": "code",
   "execution_count": 9,
   "metadata": {},
   "outputs": [
    {
     "name": "stdout",
     "output_type": "stream",
     "text": [
      "[[1. 1. 1.]\n",
      " [1. 1. 1.]\n",
      " [1. 1. 1.]]\n",
      "[[0. 0. 0.]\n",
      " [0. 0. 0.]\n",
      " [0. 0. 0.]]\n",
      "[1.90564422 3.21976149]\n"
     ]
    }
   ],
   "source": [
    "print(np.ones((3,3))) # Shape\n",
    "print(np.zeros((3,3))) # Shape\n",
    "# print(np.eye((3,3))) # - returns an error\n",
    "print(np.random.normal((3,3))) # - first argument is actually a vector of means"
   ]
  },
  {
   "cell_type": "code",
   "execution_count": 32,
   "metadata": {},
   "outputs": [
    {
     "name": "stdout",
     "output_type": "stream",
     "text": [
      "5.386580435975261\n",
      "[[0.905439   0.86177986 0.25946369]\n",
      " [0.36944675 0.20413551 0.17417636]]\n"
     ]
    }
   ],
   "source": [
    "print(np.random.normal(2,3)) # μ and σ\n",
    "print(np.random.rand(2,3)) # Shape\n",
    "# print(np.random.rand((2,3))) # - error"
   ]
  },
  {
   "cell_type": "code",
   "execution_count": 16,
   "metadata": {},
   "outputs": [
    {
     "name": "stdout",
     "output_type": "stream",
     "text": [
      "[[1. 1.]\n",
      " [1. 1.]]\n",
      "(2, 2)\n",
      "[[ 0.93341547 -0.15773932]\n",
      " [-0.86305114 -0.70624539]]\n",
      "(2, 2)\n"
     ]
    }
   ],
   "source": [
    "a = np.ones(shape=(2,2))\n",
    "print(a)\n",
    "print(a.shape)\n",
    "\n",
    "b = np.random.normal(size=(2,2))\n",
    "print(b)\n",
    "print(b.shape) # This is obvious, but more of a \"stairs into the camera\" moment."
   ]
  },
  {
   "cell_type": "code",
   "execution_count": 21,
   "metadata": {},
   "outputs": [
    {
     "name": "stdout",
     "output_type": "stream",
     "text": [
      "[[8 8 8]\n",
      " [8 8 8]]\n",
      "[[8. 8. 8.]\n",
      " [8. 8. 8.]]\n",
      "[[8 8 8]\n",
      " [8 8 8]]\n"
     ]
    }
   ],
   "source": [
    "print(np.full((2,3), 8))\n",
    "print(np.ones((2,3))*8)\n",
    "print(np.ones((2,3), dtype=int)*8)"
   ]
  },
  {
   "cell_type": "code",
   "execution_count": 6,
   "metadata": {},
   "outputs": [],
   "source": [
    "# np.full((2,3),[8,9]) # Error, doesn't broadcast"
   ]
  },
  {
   "cell_type": "code",
   "execution_count": 24,
   "metadata": {},
   "outputs": [
    {
     "data": {
      "text/plain": [
       "array([[4, 8, 1],\n",
       "       [6, 4, 8]])"
      ]
     },
     "execution_count": 24,
     "metadata": {},
     "output_type": "execute_result"
    }
   ],
   "source": [
    "np.random.randint(10, size=(2,3))"
   ]
  },
  {
   "cell_type": "code",
   "execution_count": 8,
   "metadata": {},
   "outputs": [
    {
     "name": "stdout",
     "output_type": "stream",
     "text": [
      "[2 3 5]\n",
      "[3 2 5]\n",
      "None\n",
      "[2 3 5]\n",
      "[2 3 5]\n",
      "[2 3 5]\n"
     ]
    }
   ],
   "source": [
    "a = np.array([3,2,5])\n",
    "print(np.sort(a))   # Outputs sorted\n",
    "print(a)            # But doesn't modify it\n",
    "print(a.sort())     # Unlike this thing that modifies it and returns None\n",
    "print(a)            # See, it's sorted now\n",
    "print(a)\n",
    "print(a.T) # Cannot 1D arrays flip to themselves (gotcha!)"
   ]
  },
  {
   "cell_type": "code",
   "execution_count": 11,
   "metadata": {},
   "outputs": [
    {
     "name": "stdout",
     "output_type": "stream",
     "text": [
      "[[1 2 3]\n",
      " [4 5 6]]\n",
      "[[1 4]\n",
      " [2 5]\n",
      " [3 6]]\n",
      "[[1 2 3]\n",
      " [4 5 6]]\n",
      "[1 2 3 4 5 6]\n"
     ]
    }
   ],
   "source": [
    "a = np.array([[1,2,3],[4,5,6]])\n",
    "print(a)\n",
    "print(a.T)\n",
    "print(a)\n",
    "print(a.reshape(6))"
   ]
  },
  {
   "cell_type": "code",
   "execution_count": 36,
   "metadata": {},
   "outputs": [
    {
     "name": "stdout",
     "output_type": "stream",
     "text": [
      "[[8 4 2 1]]\n",
      "[[8 4 2 1]]\n",
      "[[8 4 2 1]]\n",
      "[[1 2 4 8]]\n"
     ]
    }
   ],
   "source": [
    "# Gotcha: diff action of diff methods / properties\n",
    "a = np.array([[8,4,2,1]])\n",
    "print(a)\n",
    "a.T\n",
    "print(a)\n",
    "a.reshape((2,-1))\n",
    "print(a)\n",
    "a.sort()\n",
    "print(a)"
   ]
  },
  {
   "cell_type": "code",
   "execution_count": 12,
   "metadata": {},
   "outputs": [
    {
     "name": "stdout",
     "output_type": "stream",
     "text": [
      "[1 2 3]\n",
      "[1 2 3]\n",
      "[1 2 3 5]\n",
      "[[1 2]\n",
      " [3 5]]\n",
      "[1 2 3 5 6 7]\n"
     ]
    }
   ],
   "source": [
    "# Appending\n",
    "\n",
    "a = np.array([1,2,3])\n",
    "print(a)\n",
    "# a.append(5) # - Doesn't work, not an array method\n",
    "np.append(a, 5)\n",
    "print(a)\n",
    "a = np.append(a,5)\n",
    "print(a)\n",
    "a = a.reshape(2,-1) # -1 is a wildcard!\n",
    "print(a)\n",
    "a = np.append(a,np.array([6,7])) # Doesn't produce an error, but linearizes the array\n",
    "print(a)"
   ]
  },
  {
   "cell_type": "code",
   "execution_count": 37,
   "metadata": {},
   "outputs": [
    {
     "name": "stdout",
     "output_type": "stream",
     "text": [
      "1\n",
      "[1]\n",
      "[[1]]\n",
      "[1]\n"
     ]
    }
   ],
   "source": [
    "# Expanding Dimensions\n",
    "\n",
    "a = np.array(1) # An array of a number is just a number\n",
    "print(a)\n",
    "print(np.expand_dims(a, axis=0))    # Expanding dimensions once makes it a 1D array\n",
    "# print(np.expand_dims(a,axis=1))   # Error: cannot do axis1 without doing axis0 first\n",
    "print(np.expand_dims(a, axis=(0,1)))# 2D\n",
    "\n",
    "print(a[..., np.newaxis]) # Alternative notation for expanding"
   ]
  },
  {
   "cell_type": "code",
   "execution_count": 207,
   "metadata": {},
   "outputs": [
    {
     "name": "stdout",
     "output_type": "stream",
     "text": [
      "[[1 2]\n",
      " [4 5]\n",
      " [0 0]]\n",
      "[[1 2]\n",
      " [4 5]\n",
      " [0 0]]\n",
      "[[1 2 0]\n",
      " [4 5 0]]\n",
      "[[[1 1]\n",
      "  [2 2]]\n",
      "\n",
      " [[4 4]\n",
      "  [5 5]]]\n"
     ]
    }
   ],
   "source": [
    "# Concatenation \n",
    "\n",
    "a = np.array([[1,2],[4,5]])\n",
    "# print(np.concatenate( (a , np.array([0,0])) )) # Error: the 2nd array is 1D\n",
    "print(np.concatenate( (a , np.array([[0,0]])) ))\n",
    "print(np.concatenate( (a , np.array([[0,0]])), axis=0)) # Same as default behavior\n",
    "print(np.concatenate( (a , np.array([[0,0]]).T), axis=1))\n",
    "#print(np.concatenate( (a,a), axis=3)) # Error: Need to turn 2D arrays to 3D to make it happen\n",
    "\n",
    "print(np.concatenate( (a[..., np.newaxis] , a[..., np.newaxis] ), axis=2)) # Works, but the result is confusing..."
   ]
  },
  {
   "cell_type": "code",
   "execution_count": 169,
   "metadata": {},
   "outputs": [
    {
     "name": "stdout",
     "output_type": "stream",
     "text": [
      "[[1 2]\n",
      " [3 4]]\n",
      "[[[1 2]\n",
      "  [3 4]]\n",
      "\n",
      " [[6 7]\n",
      "  [8 9]]]\n"
     ]
    }
   ],
   "source": [
    "a = np.array([[1,2],[3,4]])\n",
    "b = np.array([[6,7],[8,9]])\n",
    "c = np.array([a,b])\n",
    "print(c[0,:,:]) # The new dimension became 0, while old 0 and 1 moved to 1 and 2\n",
    "print(c) # Which means that print() loops through axis 0, then slices on axes 1,2"
   ]
  },
  {
   "cell_type": "code",
   "execution_count": 178,
   "metadata": {},
   "outputs": [
    {
     "name": "stdout",
     "output_type": "stream",
     "text": [
      "[[[1]\n",
      "  [2]]\n",
      "\n",
      " [[3]\n",
      "  [4]]]\n",
      "[[1 2]\n",
      " [3 4]]\n"
     ]
    }
   ],
   "source": [
    "a = np.array([[1,2],[3,4]])\n",
    "c = np.expand_dims(a,2)\n",
    "print(c)        # Gotcha: loops through 0, plots 1-2 as if they were 0-1\n",
    "print(c[...,0]) # Welcome back to normal view"
   ]
  },
  {
   "cell_type": "code",
   "execution_count": 189,
   "metadata": {},
   "outputs": [
    {
     "name": "stdout",
     "output_type": "stream",
     "text": [
      "[[[1 2]\n",
      "  [3 4]]]\n",
      "[[[1 2]\n",
      "  [3 4]]]\n",
      "[[[1 2]]\n",
      "\n",
      " [[3 4]]]\n",
      "[[[1 2]]\n",
      "\n",
      " [[3 4]]]\n"
     ]
    }
   ],
   "source": [
    "a = np.array([[1,2],[3,4]])\n",
    "print(a[np.newaxis,...])\n",
    "print(a[np.newaxis,:,:])\n",
    "print(a[:,np.newaxis,:])\n",
    "print(np.expand_dims(a, 1)) # Same as prev."
   ]
  },
  {
   "cell_type": "code",
   "execution_count": 204,
   "metadata": {},
   "outputs": [
    {
     "name": "stdout",
     "output_type": "stream",
     "text": [
      "[0 1 2 3 4 5 6 7 8]\n",
      "[array([0, 1, 2]), array([3, 4, 5]), array([6, 7, 8])]\n",
      "[[1 2 3]\n",
      " [4 5 6]]\n",
      "[array([[1, 2, 3]]), array([[4, 5, 6]])]\n",
      "[array([[1],\n",
      "       [4]]), array([[2],\n",
      "       [5]]), array([[3],\n",
      "       [6]])]\n"
     ]
    }
   ],
   "source": [
    "# Splitting\n",
    "\n",
    "a = np.array(range(9))\n",
    "print(a)\n",
    "print(np.split(a,3))\n",
    "# print(np.split(a,2)) # Error (because 2 doesn't divide 9)\n",
    "\n",
    "a = np.array([[1,2,3], [4,5,6]])\n",
    "print(a)\n",
    "print(np.split(a,2))\n",
    "print(np.split(a, 3, axis=1))"
   ]
  },
  {
   "cell_type": "code",
   "execution_count": 220,
   "metadata": {},
   "outputs": [
    {
     "name": "stdout",
     "output_type": "stream",
     "text": [
      "[[1 2 3]\n",
      " [4 5 6]]\n",
      "[array([[1, 2, 3]]), array([[4, 5, 6]])]\n",
      "[[4 5 6]]\n"
     ]
    }
   ],
   "source": [
    "a = np.array([[1,2,3], [4,5,6]])\n",
    "print(a)\n",
    "print(np.split(a,2))\n",
    "print(a[1:2, :])"
   ]
  },
  {
   "cell_type": "code",
   "execution_count": 236,
   "metadata": {},
   "outputs": [
    {
     "name": "stdout",
     "output_type": "stream",
     "text": [
      "[4 5 6]\n",
      "[3 6]\n",
      "6\n",
      "[6]\n",
      "[6]\n",
      "[[6]]\n"
     ]
    }
   ],
   "source": [
    "# Slicing \n",
    "\n",
    "a = np.array([[1,2,3], [4,5,6]])\n",
    "print(a[1, :])\n",
    "print(a[:, 2])\n",
    "print(a[1, 2])\n",
    "print(a[1:2, 2])\n",
    "print(a[1, 2:3])\n",
    "print(a[1:2, 2:3])"
   ]
  },
  {
   "cell_type": "code",
   "execution_count": 249,
   "metadata": {},
   "outputs": [
    {
     "name": "stdout",
     "output_type": "stream",
     "text": [
      "[[1 2]\n",
      " [3 4]]\n",
      "[[1 2]\n",
      " [3 4]]\n",
      "[[[1 2]]\n",
      "\n",
      " [[3 4]]]\n"
     ]
    }
   ],
   "source": [
    "# Stacking and concatenating\n",
    "\n",
    "a = np.array([[1,2]])\n",
    "b = np.array([[3,4]])\n",
    "print( np.concatenate((a,b)) )\n",
    "print( np.vstack((a,b)) ) # Same thing\n",
    "print( np.stack((a,b), axis=0) ) # Not the same thing! Extra dimension somehow!"
   ]
  },
  {
   "cell_type": "code",
   "execution_count": 253,
   "metadata": {},
   "outputs": [
    {
     "name": "stdout",
     "output_type": "stream",
     "text": [
      "[[1 2]\n",
      " [3 4]]\n",
      "[[1 2]\n",
      " [3 4]]\n",
      "[[1 3]\n",
      " [2 4]]\n",
      "[1 2 3 4]\n",
      "[1 2 3 4]\n"
     ]
    }
   ],
   "source": [
    "a = np.array([1,2])\n",
    "b = np.array([3,4])\n",
    "print( np.vstack((a,b)))\n",
    "print( np.stack((a,b), axis=0)) # Same as above (creates a new axis)\n",
    "print( np.stack((a,b), axis=1)) # Same as above (not sure why but ok)\n",
    "\n",
    "print( np.hstack((a,b)))\n",
    "print( np.concatenate((a,b), axis=0)) # Same as above (along an existing axis)"
   ]
  },
  {
   "cell_type": "code",
   "execution_count": 48,
   "metadata": {},
   "outputs": [
    {
     "name": "stdout",
     "output_type": "stream",
     "text": [
      "concat axis=0 of 1D arrays:\n",
      " [1 2 3 4]\n",
      "concat axis=0 of 2D arrays:\n",
      " [[1 2]\n",
      " [3 4]]\n"
     ]
    }
   ],
   "source": [
    "# The summary of that gotcha above\n",
    "# concat(axis=0) is equivalent to hstack for 1D arrays, bu vstack for 1×n arrays!\n",
    "\n",
    "a = np.array([1,2])\n",
    "b = a+2\n",
    "assert np.array_equal(np.hstack((a,b)) , np.concatenate((a,b), axis=0))\n",
    "print('concat axis=0 of 1D arrays:\\n', np.concatenate((a,b), axis=0))\n",
    "\n",
    "a = np.array([[1,2]])\n",
    "b = a+2\n",
    "assert np.array_equal(np.vstack((a,b)) , np.concatenate((a,b), axis=0))\n",
    "print('concat axis=0 of 2D arrays:\\n', np.concatenate((a,b), axis=0))"
   ]
  },
  {
   "cell_type": "code",
   "execution_count": 260,
   "metadata": {},
   "outputs": [
    {
     "name": "stdout",
     "output_type": "stream",
     "text": [
      "[[1 2]\n",
      " [3 4]\n",
      " [5 6]\n",
      " [7 8]]\n",
      "[[1 2]\n",
      " [3 4]\n",
      " [5 6]\n",
      " [7 8]]\n",
      "[[1 2 5 6]\n",
      " [3 4 7 8]]\n",
      "[[1 2 5 6]\n",
      " [3 4 7 8]]\n",
      "[[[1 2]\n",
      "  [3 4]]\n",
      "\n",
      " [[5 6]\n",
      "  [7 8]]]\n"
     ]
    }
   ],
   "source": [
    "a = np.array([[1,2],[3,4]])\n",
    "b = a+4\n",
    "print( np.vstack((a,b)))\n",
    "print( np.concatenate((a,b), axis=0))\n",
    "print( np.hstack((a,b)))\n",
    "print( np.concatenate((a,b), axis=1))\n",
    "print( np.stack((a,b), axis=0))"
   ]
  },
  {
   "cell_type": "code",
   "execution_count": 95,
   "metadata": {},
   "outputs": [
    {
     "name": "stdout",
     "output_type": "stream",
     "text": [
      "[[1. 1. 1. 1.]\n",
      " [2. 2. 2. 2.]\n",
      " [3. 3. 3. 3.]\n",
      " [4. 4. 4. 4.]]\n"
     ]
    }
   ],
   "source": [
    "# Simple matrix operations\n",
    "a = np.diag(np.arange(1,5))\n",
    "b = np.ones((4,4))\n",
    "c = np.matmul(a,b)\n",
    "print(c)"
   ]
  },
  {
   "cell_type": "code",
   "execution_count": 98,
   "metadata": {},
   "outputs": [
    {
     "data": {
      "text/plain": [
       "array([[1., 1., 1., 1.],\n",
       "       [2., 2., 2., 2.],\n",
       "       [3., 3., 3., 3.],\n",
       "       [4., 4., 4., 4.]])"
      ]
     },
     "execution_count": 98,
     "metadata": {},
     "output_type": "execute_result"
    }
   ],
   "source": [
    "a @ b"
   ]
  },
  {
   "cell_type": "code",
   "execution_count": 104,
   "metadata": {},
   "outputs": [],
   "source": [
    "# a @ 1 # - Error. Scalar multipliation != matrix multiplication"
   ]
  },
  {
   "cell_type": "code",
   "execution_count": 7,
   "metadata": {},
   "outputs": [
    {
     "name": "stdout",
     "output_type": "stream",
     "text": [
      "[1. 1. 1.]\n",
      "[0. 0. 0.]\n",
      "[[1. 0. 0.]\n",
      " [0. 1. 0.]\n",
      " [0. 0. 1.]]\n",
      "2.8522744889738028\n"
     ]
    }
   ],
   "source": [
    "print(np.ones(3))\n",
    "print(np.zeros(3))\n",
    "print(np.eye(3))\n",
    "print(np.random.normal(3))"
   ]
  },
  {
   "cell_type": "code",
   "execution_count": 26,
   "metadata": {},
   "outputs": [
    {
     "name": "stdout",
     "output_type": "stream",
     "text": [
      "[[1.         0.         0.         0.        ]\n",
      " [0.         0.5        0.         0.        ]\n",
      " [0.         0.         0.33333333 0.        ]\n",
      " [0.         0.         0.         0.25      ]]\n"
     ]
    }
   ],
   "source": [
    "print(np.linalg.inv(a))"
   ]
  },
  {
   "cell_type": "code",
   "execution_count": 18,
   "metadata": {},
   "outputs": [
    {
     "data": {
      "text/plain": [
       "array([[1., 2., 3., 4.],\n",
       "       [1., 2., 3., 4.],\n",
       "       [1., 2., 3., 4.],\n",
       "       [1., 2., 3., 4.]])"
      ]
     },
     "execution_count": 18,
     "metadata": {},
     "output_type": "execute_result"
    }
   ],
   "source": [
    "np.matmul(b,a)"
   ]
  },
  {
   "cell_type": "code",
   "execution_count": 27,
   "metadata": {},
   "outputs": [
    {
     "data": {
      "text/plain": [
       "array([[1., 2., 3., 4.],\n",
       "       [1., 2., 3., 4.],\n",
       "       [1., 2., 3., 4.],\n",
       "       [1., 2., 3., 4.]])"
      ]
     },
     "execution_count": 27,
     "metadata": {},
     "output_type": "execute_result"
    }
   ],
   "source": [
    "np.outer(np.ones((4,1)),np.arange(1,5))"
   ]
  },
  {
   "cell_type": "code",
   "execution_count": 62,
   "metadata": {},
   "outputs": [
    {
     "name": "stdout",
     "output_type": "stream",
     "text": [
      "[[0.25 0.   0.   0.  ]\n",
      " [0.   0.5  0.   0.  ]\n",
      " [0.   0.   0.75 0.  ]\n",
      " [0.   0.   0.   1.  ]]\n",
      "[[ 0.07  0.   -0.    0.01]\n",
      " [ 0.    0.24 -0.    0.01]\n",
      " [-0.   -0.    0.53 -0.01]\n",
      " [ 0.01  0.01 -0.01  0.96]]\n"
     ]
    }
   ],
   "source": [
    "n = 1000\n",
    "d = np.diag(np.arange(1,5)/4)\n",
    "print(d)\n",
    "X = np.random.normal(size=(n,4))\n",
    "X = np.matmul(X,d)\n",
    "C = np.matmul(X.transpose(),X)/n\n",
    "print(np.round(C,2))"
   ]
  },
  {
   "cell_type": "code",
   "execution_count": 24,
   "metadata": {},
   "outputs": [
    {
     "data": {
      "text/plain": [
       "0"
      ]
     },
     "execution_count": 24,
     "metadata": {},
     "output_type": "execute_result"
    }
   ],
   "source": [
    "np.random.randint(12)"
   ]
  },
  {
   "cell_type": "code",
   "execution_count": 62,
   "metadata": {},
   "outputs": [
    {
     "name": "stdout",
     "output_type": "stream",
     "text": [
      "[[0 1 2]\n",
      " [3 4 5]\n",
      " [6 7 8]]\n"
     ]
    },
    {
     "data": {
      "text/plain": [
       "3"
      ]
     },
     "execution_count": 62,
     "metadata": {},
     "output_type": "execute_result"
    }
   ],
   "source": [
    "a = np.array(range(9)).reshape((3,3))\n",
    "print(a)\n",
    "# a[3]          # Unlike in Matlab, in Numpy it doesn't work.\n",
    "a.flatten()[3]  # This is how you do it"
   ]
  },
  {
   "cell_type": "code",
   "execution_count": 8,
   "metadata": {},
   "outputs": [
    {
     "data": {
      "text/plain": [
       "array([[0., 0., 0.],\n",
       "       [0., 0., 0.],\n",
       "       [0., 0., 0.]])"
      ]
     },
     "execution_count": 8,
     "metadata": {},
     "output_type": "execute_result"
    }
   ],
   "source": [
    "a = np.zeros(shape=(3,3,3))\n",
    "a[...,1]"
   ]
  },
  {
   "cell_type": "code",
   "execution_count": 71,
   "metadata": {},
   "outputs": [
    {
     "name": "stdout",
     "output_type": "stream",
     "text": [
      "[0 1 2 3]\n",
      "[1 2 3 4]\n",
      "[0 2 4 6]\n",
      "[0 1 4 9]\n",
      "[nan  1.  1.  1.]\n",
      "[ 1  1  4 27]\n"
     ]
    },
    {
     "name": "stderr",
     "output_type": "stream",
     "text": [
      "C:\\Users\\khakh\\anaconda3\\lib\\site-packages\\ipykernel_launcher.py:6: RuntimeWarning: invalid value encountered in true_divide\n",
      "  \n"
     ]
    }
   ],
   "source": [
    "a = np.array(range(4))\n",
    "print(a)\n",
    "print(a+1)\n",
    "print(a+a)\n",
    "print(a*a)\n",
    "print(a/a)\n",
    "print(np.power(a,a)) # Power is also vectorized, huh :)"
   ]
  }
 ],
 "metadata": {
  "kernelspec": {
   "display_name": "Python 3",
   "language": "python",
   "name": "python3"
  },
  "language_info": {
   "codemirror_mode": {
    "name": "ipython",
    "version": 3
   },
   "file_extension": ".py",
   "mimetype": "text/x-python",
   "name": "python",
   "nbconvert_exporter": "python",
   "pygments_lexer": "ipython3",
   "version": "3.7.6"
  }
 },
 "nbformat": 4,
 "nbformat_minor": 2
}
