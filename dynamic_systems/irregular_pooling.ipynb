{
 "cells": [
  {
   "cell_type": "markdown",
   "metadata": {},
   "source": [
    "# Irregular pooling\n",
    "\n",
    "On electoral colleges, gerrymandering, and other similar phenomena."
   ]
  },
  {
   "cell_type": "code",
   "execution_count": 64,
   "metadata": {},
   "outputs": [],
   "source": [
    "import numpy as np\n",
    "import matplotlib.pyplot as plt"
   ]
  },
  {
   "cell_type": "code",
   "execution_count": 159,
   "metadata": {},
   "outputs": [
    {
     "name": "stdout",
     "output_type": "stream",
     "text": [
      "[[0, 1, 2]]\n",
      "[[0, 1, 2], [3]]\n",
      "[[0, 1, 2], [3, 4]]\n",
      "[[0, 1, 2], [3, 4, 5]]\n",
      "[[0, 1, 2], [3, 4, 5], [6]]\n",
      "[[0, 1, 2], [3, 4, 5], [6, 7]]\n",
      "[[0, 1, 2], [3, 4, 5], [6, 7, 8]]\n",
      "[[0, 1, 2], [3, 4, 5], [6, 7, 8], [9]]\n",
      "[[0, 1, 2], [3, 4, 5], [6, 7, 8], [9, 10]]\n",
      "[[0, 1, 2], [3, 4, 5], [6, 7, 8], [9, 10, 11]]\n"
     ]
    }
   ],
   "source": [
    "# Splitting in almost-equal arrays\n",
    "\n",
    "def split(x, k=2):\n",
    "    m = len(x) // k + 1\n",
    "    return [x[i*k : (i+1)*k] for i in range(m) if i*k<len(x)]\n",
    "\n",
    "for i in range(3,13):\n",
    "    print(split(list(range(i)), 3))"
   ]
  },
  {
   "cell_type": "code",
   "execution_count": 97,
   "metadata": {},
   "outputs": [
    {
     "data": {
      "text/plain": [
       "0.0"
      ]
     },
     "execution_count": 97,
     "metadata": {},
     "output_type": "execute_result"
    }
   ],
   "source": [
    "np.round(0.5) # Remember that rounding is weird in computers; 50/50 vote is always 0"
   ]
  },
  {
   "cell_type": "code",
   "execution_count": 187,
   "metadata": {},
   "outputs": [
    {
     "name": "stdout",
     "output_type": "stream",
     "text": [
      "[0 0 0 0 1 1 0 1 1]\n",
      "[0.0, 1.0, 1.0]\n"
     ]
    },
    {
     "data": {
      "text/plain": [
       "1.0"
      ]
     },
     "execution_count": 187,
     "metadata": {},
     "output_type": "execute_result"
    }
   ],
   "source": [
    "def hierarchical_vote(votes, breaks=2, verbal=False):\n",
    "    \"\"\"Sequentially breaks the vote into BREAKS groups, selects representative\"\"\"\n",
    "    k = len(votes)\n",
    "    x = np.array(votes) # Just a copy\n",
    "    while k>1:\n",
    "        if verbal:\n",
    "            print(x)\n",
    "        if len(x)<=breaks:\n",
    "            return np.round(np.mean(x))\n",
    "        # groups = np.split(reps, breaks) # Doesn't work k/breaks isn't whole\n",
    "        groups = split(x, breaks)\n",
    "        x = [np.round(np.mean(a)) for a in groups]\n",
    "        k = len(x)\n",
    "    return x\n",
    "\n",
    "hierarchical_vote([0,0,0,0,1,1,0,1,1], 3, verbal=True)"
   ]
  },
  {
   "cell_type": "code",
   "execution_count": 198,
   "metadata": {},
   "outputs": [
    {
     "name": "stdout",
     "output_type": "stream",
     "text": [
      "..................................................."
     ]
    },
    {
     "data": {
      "image/png": "[encoded data removed]",
      "text/plain": [
       "<Figure size 432x288 with 1 Axes>"
      ]
     },
     "metadata": {
      "needs_background": "light"
     },
     "output_type": "display_data"
    }
   ],
   "source": [
    "Npeople = np.power(5,5)\n",
    "Nexperiments = 100\n",
    "Nvalues = 51\n",
    "\n",
    "direct_m = np.zeros(Nvalues)\n",
    "direct_s = np.zeros(Nvalues)\n",
    "nested_m = np.zeros(Nvalues)\n",
    "nested_s = np.zeros(Nvalues)\n",
    "ps = np.linspace(0, 1, Nvalues)\n",
    "for ip in range(len(ps)):\n",
    "    print('.', end='')\n",
    "    direct = []\n",
    "    nested = []\n",
    "    for iexp in range(Nexperiments):\n",
    "        x = np.floor(np.random.rand(Npeople)+ps[ip])\n",
    "        direct.append(np.round(np.mean(x)))\n",
    "        nested.append(hierarchical_vote(x, 5))\n",
    "    direct_m[ip] = np.mean(direct)\n",
    "    direct_s[ip] = np.std(direct)\n",
    "    nested_m[ip] = np.mean(nested)\n",
    "    nested_s[ip] = np.std(nested)\n",
    "\n",
    "plt.plot(ps, direct_m, '-', label='Direct vote');\n",
    "plt.fill_between(ps, direct_m - direct_s, direct_m + direct_s, color='blue', alpha=0.2)\n",
    "plt.plot(ps, nested_m, '-', label='Nested vote');\n",
    "plt.fill_between(ps, nested_m - nested_s, nested_m + nested_s, color='orange', alpha=0.2)\n",
    "plt.legend();"
   ]
  }
 ],
 "metadata": {
  "kernelspec": {
   "display_name": "Python 3",
   "language": "python",
   "name": "python3"
  },
  "language_info": {
   "codemirror_mode": {
    "name": "ipython",
    "version": 3
   },
   "file_extension": ".py",
   "mimetype": "text/x-python",
   "name": "python",
   "nbconvert_exporter": "python",
   "pygments_lexer": "ipython3",
   "version": "3.7.6"
  }
 },
 "nbformat": 4,
 "nbformat_minor": 4
}
