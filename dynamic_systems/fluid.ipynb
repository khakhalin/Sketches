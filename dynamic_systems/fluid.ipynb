{
 "cells": [
  {
   "cell_type": "markdown",
   "metadata": {},
   "source": [
    "# Attempts at minimalistic flow modeling\n",
    "\n",
    "Links:\n",
    "* Solving for pressure (making fluid incompressible): https://www.karlsims.com/fluid-flow.html\n",
    "* Moving the fluid (See subtitle \"Stam's Advection\"): https://www.gamasutra.com/view/feature/1549/practical_fluid_dynamics_part_1.php?print=1\n",
    "* https://www.researchgate.net/publication/27293557_Interacting_with_smoke_and_Fire_in_real_time"
   ]
  },
  {
   "cell_type": "code",
   "execution_count": 1,
   "metadata": {},
   "outputs": [],
   "source": [
    "import numpy as np\n",
    "import matplotlib.pyplot as plt\n",
    "import scipy.signal as sig"
   ]
  },
  {
   "cell_type": "code",
   "execution_count": 2,
   "metadata": {},
   "outputs": [
    {
     "name": "stdout",
     "output_type": "stream",
     "text": [
      "[[0. 0. 0.]\n",
      " [1. 2. 3.]]\n",
      "[[0. 1. 2.]\n",
      " [0. 4. 5.]]\n"
     ]
    }
   ],
   "source": [
    "def shift(a, axis=0):\n",
    "    \"\"\"Utility function: shift all rows or cols in a matrix by 1, padding with 0s\"\"\"\n",
    "    if axis==0:\n",
    "        n = a.shape[1]\n",
    "        return np.concatenate((np.zeros((1,n)), a[:-1,:]), axis=0)\n",
    "    if axis==1:\n",
    "        n = a.shape[0]\n",
    "        return np.concatenate((np.zeros((n,1)), a[:,:-1]), axis=1)\n",
    "    \n",
    "print(shift(np.array([[1,2,3], [4,5,6]]), axis=0))\n",
    "print(shift(np.array([[1,2,3], [4,5,6]]), axis=1))"
   ]
  },
  {
   "cell_type": "code",
   "execution_count": 42,
   "metadata": {},
   "outputs": [
    {
     "name": "stdout",
     "output_type": "stream",
     "text": [
      "[[0. 0. 0. 0. 0. 0.]\n",
      " [0. 0. 1. 0. 0. 0.]\n",
      " [0. 0. 0. 0. 0. 0.]\n",
      " [0. 0. 0. 0. 0. 1.]\n",
      " [0. 0. 0. 0. 0. 0.]\n",
      " [0. 0. 0. 0. 0. 0.]]\n",
      "[[ 0  1  0]\n",
      " [ 1  2  3]\n",
      " [ 0 -1  0]]\n",
      "[[ 0.  0.  1.  0.  0.  0.]\n",
      " [ 0.  1.  2.  3.  0.  0.]\n",
      " [ 0.  0. -1.  0.  0.  1.]\n",
      " [ 0.  0.  0.  0.  1.  2.]\n",
      " [ 0.  0.  0.  0.  0. -1.]\n",
      " [ 0.  0.  0.  0.  0.  0.]]\n"
     ]
    }
   ],
   "source": [
    "# Test 2d convolutions\n",
    "a = np.zeros((6,6))\n",
    "a[1,2] = 1\n",
    "a[3,5] = 1\n",
    "b = np.array([[0,1,0], [1,2,3], [0,-1,0]])\n",
    "\n",
    "print(a)\n",
    "print(b)\n",
    "print(sig.convolve2d(a, b, mode='same'))"
   ]
  },
  {
   "cell_type": "markdown",
   "metadata": {},
   "source": [
    "The formulas for divergence removal are given, and almost derived, here: https://www.karlsims.com/fluid-flow.html\n",
    "\n",
    "Citation: Fluid Flow Tutorial, Karl Sims. 2018.\n",
    "\n",
    "Based on: Jos Stam, \"Stable Fluids\", SIGGRAPH 1999 Conference Proceedings\n",
    "\n",
    "But briefly, we have a vector field, so the divergence of it is a scalar field. But to make it flat, we can repeatedly remove the gradient from it. Mathematically, gradient points towards fastest increase of a scalar field (so it points where divergence is high), but divergence is high if flows are leading away from this point (so the \"pressure\" there is low) Which means that to flatten the pressure, we should *add* the gradient of divergence to our vector field. This would create extra flows from regions of high pressure and towards regions of low pressure.\n",
    "\n",
    "Now, another trick to make these calculations easier is to calculate divergence at corners of pixels, not at the center of pixels. Here's the logic: if you are calculating a derivative, it's easier to calculate it at the borders of segments (where it becomes a simple Δ of adjacent values). Same for divergence (which is one type of a derivative in space); it's easier to calculate it between pixels (at corners), looking at 4 pixels neighboring each corner. But then as we calculate the gradient, it's again easier to calculate it between the points where derivative was defined. So because we have 2 derivative-like operations in a row, we shift our coordinate system twice, from centers to corners, and then back again to centers. If you really write it all down, you indeed get the formulas described at the site."
   ]
  },
  {
   "cell_type": "code",
   "execution_count": 240,
   "metadata": {},
   "outputs": [
    {
     "name": "stdout",
     "output_type": "stream",
     "text": [
      "[[0. 0. 0. 0. 0.]\n",
      " [0. 0. 0. 0. 0.]\n",
      " [0. 0. 1. 0. 0.]\n",
      " [0. 0. 0. 0. 0.]\n",
      " [0. 0. 0. 0. 0.]]\n",
      "[[-0.029 -0.052 -0.046 -0.052 -0.029]\n",
      " [ 0.052 -0.04  -0.184 -0.04   0.052]\n",
      " [-0.046  0.184  0.46   0.184 -0.046]\n",
      " [ 0.052 -0.04  -0.184 -0.04   0.052]\n",
      " [-0.029 -0.052 -0.046 -0.052 -0.029]]\n",
      "[[ 0.029 -0.006 -0.     0.006 -0.029]\n",
      " [ 0.006  0.132 -0.    -0.132 -0.006]\n",
      " [-0.     0.     0.    -0.    -0.   ]\n",
      " [-0.006 -0.132 -0.     0.132  0.006]\n",
      " [-0.029  0.006 -0.    -0.006  0.029]]\n"
     ]
    },
    {
     "data": {
      "image/png": "[encoded data removed]",
      "text/plain": [
       "<Figure size 936x288 with 3 Axes>"
      ]
     },
     "metadata": {
      "needs_background": "light"
     },
     "output_type": "display_data"
    }
   ],
   "source": [
    "# Divergence, aka pressure relaation\n",
    "def remove_divergence(vx, vy, alpha=0.1):\n",
    "    \"\"\"Make one step towards cancelling divergence. The formulas come from here:\n",
    "    https://www.karlsims.com/fluid-flow.html\n",
    "    alpha is the learning rate.\"\"\"\n",
    "\n",
    "    # Convolution filters:\n",
    "    xx = np.array([[ 1,-2, 1],\n",
    "                   [ 2,-4, 2],\n",
    "                   [ 1,-2, 1]])/8\n",
    "    xy = np.array([[ 1, 0,-1],\n",
    "                   [ 0, 0, 0],\n",
    "                   [-1, 0, 1]])/8 # yx is the same as xy.\n",
    "    # Compared to karlsims this matrix is flipped, as matrices are indexed top-down\n",
    "    yy = np.array([[ 1, 2, 1],\n",
    "                   [-2,-4,-2],\n",
    "                   [ 1, 2, 1]])/8\n",
    "    ox = vx + (sig.convolve2d(vx, xx, mode='same') + \n",
    "               sig.convolve2d(vy, xy, mode='same'))*alpha\n",
    "    oy = vy + (sig.convolve2d(vy, yy, mode='same') + \n",
    "               sig.convolve2d(vx, xy, mode='same'))*alpha\n",
    "    return (ox,oy)\n",
    "\n",
    "# Test: start with all zeros, except for one cell in the very middle\n",
    "vx = np.zeros((5,5))\n",
    "vx[2,2] = 1\n",
    "vy = np.zeros((5,5))\n",
    "print(vx)\n",
    "(vx,vy) = remove_divergence(vx,vy)\n",
    "for i in range(1000):\n",
    "    (vx,vy) = remove_divergence(vx,vy)\n",
    "plt.figure(figsize=(13,4))\n",
    "plt.subplot(131); plt.title('V_x');\n",
    "plt.imshow(vx, cmap='RdBu', clim=(-1,1), origin='lower');\n",
    "plt.subplot(132); plt.title('V_y');\n",
    "plt.imshow(vy, cmap='RdBu', clim=(-1,1), origin='lower');\n",
    "plt.subplot(133);\n",
    "plt.quiver(*np.meshgrid(range(5), range(5)), vx, vy, units='x', scale=0.7);\n",
    "with np.printoptions(precision=3, suppress=True):\n",
    "    print(vx)\n",
    "    print(vy)"
   ]
  },
  {
   "cell_type": "code",
   "execution_count": 146,
   "metadata": {},
   "outputs": [
    {
     "name": "stdout",
     "output_type": "stream",
     "text": [
      "[[-0.  0. -0.  0.]\n",
      " [-0. -0.  0.  0.]\n",
      " [-0. -0.  0.  0.]\n",
      " [-0.  0. -0.  0.]]\n"
     ]
    },
    {
     "data": {
      "image/png": "[encoded data removed]",
      "text/plain": [
       "<Figure size 432x288 with 1 Axes>"
      ]
     },
     "metadata": {
      "needs_background": "light"
     },
     "output_type": "display_data"
    }
   ],
   "source": [
    "# Ultimate test: calculate divergence explicitly\n",
    "def div(vx, vy):\n",
    "    mask = np.array([[-1,1],[-1,1]])    \n",
    "    return sig.convolve2d(vx, mask, mode='valid')+sig.convolve2d(vy, mask.T, mode='valid')\n",
    "\n",
    "d = div(vx, vy)\n",
    "plt.imshow(d, cmap='RdBu', clim=(-1,1));\n",
    "with np.printoptions(precision=3, suppress=True):\n",
    "    print(d)"
   ]
  },
  {
   "cell_type": "code",
   "execution_count": 268,
   "metadata": {},
   "outputs": [
    {
     "name": "stdout",
     "output_type": "stream",
     "text": [
      "Sum before: 1.0\n",
      "[[0.    0.    0.    0.    0.   ]\n",
      " [0.    0.062 0.062 0.062 0.   ]\n",
      " [0.    0.062 0.5   0.062 0.   ]\n",
      " [0.    0.062 0.062 0.062 0.   ]\n",
      " [0.    0.    0.    0.    0.   ]]\n",
      "Sum after: 1.0\n"
     ]
    },
    {
     "data": {
      "image/png": "[encoded data removed]",
      "text/plain": [
       "<Figure size 288x288 with 1 Axes>"
      ]
     },
     "metadata": {
      "needs_background": "light"
     },
     "output_type": "display_data"
    }
   ],
   "source": [
    "# Viscosity\n",
    "def viscosity(vx, vy, beta=0.01):\n",
    "    \"\"\"Just a blurring mask, essentially\"\"\"\n",
    "    #viskmask = [[1,2,1],[2,-12,2],[1,2,1]]\n",
    "    viskmask = np.array([[1,1,1],[1,-8,1],[1,1,1]])/8\n",
    "    return (vx + beta*sig.convolve2d(vx, viskmask, mode='same'),\n",
    "            vy + beta*sig.convolve2d(vy, viskmask, mode='same'))\n",
    "\n",
    "vx = np.zeros((5,5))\n",
    "vx[2,2] = 1\n",
    "vy = np.zeros((5,5))\n",
    "print('Sum before:',np.sum(vx)) # If velocity works right, it should mostly smoothen movement, not change the amount of it\n",
    "                                # (although at some point immovable edges will start to still everything)\n",
    "vx,vy = viscosity(vx, vy, beta=0.5)\n",
    "plt.figure(figsize=(4,4))\n",
    "plt.quiver(*np.meshgrid(range(5), range(5)), vx, vy, units='x', scale=0.6);\n",
    "with np.printoptions(precision=3, suppress=True):\n",
    "    print(vx)\n",
    "print('Sum after:', np.sum(vx))"
   ]
  },
  {
   "cell_type": "markdown",
   "metadata": {},
   "source": [
    "**Stam's Advection** is described here: https://www.gamasutra.com/view/feature/1549/practical_fluid_dynamics_part_1.php?print=1\n",
    "\n",
    "Citation: West, M. (2008). Practical fluid dynamics: Part 1. Game Developer magazine.\n",
    "\n",
    "The idea is that if fluid is moving with speed $\\bar v$, then this speed vector carries all properties of fluid, including momentum itself. Which means that if you \"step back\" (look back) at the point $-\\bar v$ (using interpolation), then this will be a new speed at this pixel. It has a bunch of pboblems though (some mentioned in the paper). Another problem is that it expicitly zeroes all speeds normal to the boundary at boundary, as once we attempt to extrapolate beyond the boundary, we get a zero. *Or should we actually get something different, like a flat value or something? Maybe check what behavior looks more reasonable?*"
   ]
  },
  {
   "cell_type": "code",
   "execution_count": 317,
   "metadata": {},
   "outputs": [
    {
     "data": {
      "image/png": "[encoded data removed]",
      "text/plain": [
       "<Figure size 360x144 with 1 Axes>"
      ]
     },
     "metadata": {
      "needs_background": "light"
     },
     "output_type": "display_data"
    }
   ],
   "source": [
    "# Utility funciton: linear interpolation\n",
    "def interp(mat, x, y):\n",
    "    \"\"\"Bilinearly interpolate within matrix f, using real x and y (like i,j, but fractional).\n",
    "    x is essentially row, and y is essentially column, note the dimensions.\n",
    "    Ref: https://en.wikipedia.org/wiki/Bilinear_interpolation \"\"\"\n",
    "    x = min(mat.shape[0]-1, max(0, x))  # To limit values at edges\n",
    "    y = min(mat.shape[1]-1, max(0, y))\n",
    "    i = np.floor(x).astype(int) # Whole part    \n",
    "    j = np.floor(y).astype(int)    \n",
    "    i = min(i, mat.shape[0]-2) # For the formula to work, we cannot be on the right border,\n",
    "    j = min(j, mat.shape[1]-2) # as the fomula references \"next\" element, which is i+1    \n",
    "    return (mat[i,j  ]*(i+1-x)*(j+1-y) + mat[i+1,j  ]*(x-i)*(j+1-y) + \n",
    "            mat[i,j+1]*(i+1-x)*(y-j  ) + mat[i+1,j+1]*(x-i)*(y-j))\n",
    "\n",
    "# Test\n",
    "mat = np.array([[1,2,7],[4,5,8]])\n",
    "x = np.linspace(-0.5, 2.5, 10)\n",
    "plt.figure(figsize=(5,2))\n",
    "plt.plot(x, [interp(mat, 1, i) for i in x],'.-');\n",
    "plt.plot(range(0,3), mat[1,:], '.');"
   ]
  },
  {
   "cell_type": "markdown",
   "metadata": {},
   "source": [
    "Below we actually have to make a decision of how the image in our head is represented in the matrix. When I think of the image, I wand the first index of a matrix correpond to X coordinate, and the 2nd index - to Y coordinate. But in matrices, obviously, the first is a row counted from the top, and 2nd is the column. So I have three options:\n",
    "* Either i is -y, and j is x (then print(a) and img(a) look the same, but that's horrible)\n",
    "* Or i is y, and j is x (then y is flipped, which means that the math is sane, but still its [y,x] notation)\n",
    "* Or treat i as x, and j as y. In which case it is all flipped. But that's the approach I take here."
   ]
  },
  {
   "cell_type": "code",
   "execution_count": 318,
   "metadata": {},
   "outputs": [
    {
     "name": "stdout",
     "output_type": "stream",
     "text": [
      "Field:\n",
      " [[1 1 1]\n",
      " [0 1 0]\n",
      " [1 0 0]]\n",
      "[[1.   1.   1.  ]\n",
      " [0.   0.75 0.25]\n",
      " [1.   0.25 0.  ]]\n"
     ]
    },
    {
     "data": {
      "image/png": "[encoded data removed]",
      "text/plain": [
       "<Figure size 432x288 with 2 Axes>"
      ]
     },
     "metadata": {
      "needs_background": "light"
     },
     "output_type": "display_data"
    }
   ],
   "source": [
    "# Calculate advection\n",
    "def advect(field, vx, vy):\n",
    "    \"\"\"Advect the field using vx and vy local fluid speeds.\"\"\"\n",
    "    val = np.zeros(field.shape)\n",
    "    for i in range(field.shape[0]):\n",
    "        for j in range(field.shape[1]):            \n",
    "            val[i,j] = interp(field, i-vy[i,j], j-vx[i,j]) # i is Y, j is X\n",
    "            #val[i,j] = field[np.round(i-vy[i,j]).astype(int), \n",
    "            #                 np.round(j-vx[i,j]).astype(int)] # i is Y, j is X\n",
    "    return val\n",
    "\n",
    "a = np.array([[1,1,1],[0,1,0],[1,0,0]])\n",
    "vx = np.array([[0,1,1],[0,1,1],[0,1,1]])/4 # Right 2/3ds of the field are moving right\n",
    "vy = np.zeros(vx.shape)\n",
    "plt.subplot(121); plt.imshow(a, cmap='RdBu', clim=(-1,1), origin='lower'); plt.title('Before');\n",
    "print('Field:\\n',a)\n",
    "a = advect(a, vx, vy)\n",
    "with np.printoptions(precision=3, suppress=True):\n",
    "    print(a)\n",
    "plt.subplot(122); plt.imshow(a, cmap='RdBu', clim=(-1,1), origin='lower'); plt.title('After');"
   ]
  },
  {
   "cell_type": "code",
   "execution_count": 319,
   "metadata": {},
   "outputs": [],
   "source": [
    "def prettyplot(plotn, plotm, plotk, data):\n",
    "    \"\"\"Create a subplot, then plot the data\"\"\"        \n",
    "    ax = plt.subplot(plotn, plotm, plotk)\n",
    "    plt.imshow(data, cmap='RdBu', origin='lower', clim=(-1,1))    \n",
    "    plt.xticks([])\n",
    "    plt.yticks([])"
   ]
  },
  {
   "cell_type": "code",
   "execution_count": 326,
   "metadata": {},
   "outputs": [
    {
     "data": {
      "image/png": "[encoded data removed]",
      "text/plain": [
       "<Figure size 1008x504 with 8 Axes>"
      ]
     },
     "metadata": {},
     "output_type": "display_data"
    }
   ],
   "source": [
    "# Now bringing it all together\n",
    "\n",
    "ngrid = 30          # Grid Dimensions\n",
    "pcycles = 5         # How many pressure cycles to run on one advection cycle (50?)\n",
    "alpha = 0.1         # Pressure relaxation rate (0.1?)\n",
    "beta =  0.02        # Viscosity (0.01?)\n",
    "ntime = 300         # How many time steps to run\n",
    "\n",
    "vx = np.zeros((ngrid,ngrid)) # Speed components\n",
    "vy = np.zeros((ngrid,ngrid))\n",
    "\n",
    "vx[3:6,4:7] = 1.7   # Give the fluid a starting push somewhere in the middle\n",
    "vy[3:6,4:7] = 2.2\n",
    "\n",
    "field = np.zeros((ngrid,ngrid)) # Color fluid\n",
    "#for i in range(ngrid):\n",
    "#    for j in range(ngrid):\n",
    "#        field[i,j] = ((i % 4)+1) // 4 # Stripes\n",
    "field[0:5,:] = 1\n",
    "\n",
    "(plotn, plotm) = (2,4)\n",
    "plotcount = 1\n",
    "nplots = plotn*plotm\n",
    "\n",
    "timestep = np.ceil(ntime/(nplots-1))\n",
    "fig = plt.figure(figsize=(14,7))\n",
    "for t in range(ntime):    \n",
    "    if (t % timestep == 0) or (t == ntime-1):\n",
    "        prettyplot(plotn, plotm, plotcount, field)\n",
    "        plt.title(t)\n",
    "        plotcount += 1\n",
    "    \n",
    "    for q in range(pcycles):\n",
    "        (vx, vy) = remove_divergence(vx, vy, alpha)\n",
    "    (vx, vy) = viscosity(vx, vy, beta)        \n",
    "    field = advect(field, vx, vy)\n",
    "    (vx, vy) = (advect(vx, vx, vy), advect(vy, vx, vy))"
   ]
  },
  {
   "cell_type": "code",
   "execution_count": null,
   "metadata": {},
   "outputs": [],
   "source": []
  }
 ],
 "metadata": {
  "kernelspec": {
   "display_name": "Python 3",
   "language": "python",
   "name": "python3"
  },
  "language_info": {
   "codemirror_mode": {
    "name": "ipython",
    "version": 3
   },
   "file_extension": ".py",
   "mimetype": "text/x-python",
   "name": "python",
   "nbconvert_exporter": "python",
   "pygments_lexer": "ipython3",
   "version": "3.7.6"
  }
 },
 "nbformat": 4,
 "nbformat_minor": 4
}
