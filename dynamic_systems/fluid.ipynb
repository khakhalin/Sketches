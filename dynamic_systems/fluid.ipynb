{
 "cells": [
  {
   "cell_type": "markdown",
   "metadata": {},
   "source": [
    "# Attempts at minimalistic flow modeling\n",
    "\n",
    "Links:\n",
    "* Solving for pressure (making fluid incompressible): https://www.karlsims.com/fluid-flow.html\n",
    "* Moving the fluid (See subtitle \"Stam's Advection\"): https://www.gamasutra.com/view/feature/1549/practical_fluid_dynamics_part_1.php?print=1\n",
    "* https://www.researchgate.net/publication/27293557_Interacting_with_smoke_and_Fire_in_real_time"
   ]
  },
  {
   "cell_type": "code",
   "execution_count": 35,
   "metadata": {},
   "outputs": [],
   "source": [
    "import numpy as np\n",
    "import matplotlib.pyplot as plt\n",
    "import scipy.signal as sig"
   ]
  },
  {
   "cell_type": "code",
   "execution_count": 153,
   "metadata": {},
   "outputs": [
    {
     "name": "stdout",
     "output_type": "stream",
     "text": [
      "[[0. 0. 0.]\n",
      " [1. 2. 3.]]\n",
      "[[0. 1. 2.]\n",
      " [0. 4. 5.]]\n"
     ]
    }
   ],
   "source": [
    "def shift(a, axis=0):\n",
    "    \"\"\"Utility function for the future: shift all rows or cols in a matrix by 1, padding with 0s\"\"\"\n",
    "    if axis==0:\n",
    "        n = a.shape[1]\n",
    "        return np.concatenate((np.zeros((1,n)), a[:-1,:]), axis=0)\n",
    "    if axis==1:\n",
    "        n = a.shape[0]\n",
    "        return np.concatenate((np.zeros((n,1)), a[:,:-1]), axis=1)\n",
    "    \n",
    "print(shift(np.array([[1,2,3], [4,5,6]]), axis=0))\n",
    "print(shift(np.array([[1,2,3], [4,5,6]]), axis=1))"
   ]
  },
  {
   "cell_type": "code",
   "execution_count": 167,
   "metadata": {},
   "outputs": [
    {
     "name": "stdout",
     "output_type": "stream",
     "text": [
      "[[0. 0. 0. 0. 0. 0.]\n",
      " [0. 0. 1. 0. 0. 0.]\n",
      " [0. 0. 0. 0. 0. 0.]\n",
      " [0. 0. 0. 0. 0. 1.]\n",
      " [0. 0. 0. 0. 0. 0.]\n",
      " [0. 0. 0. 0. 0. 0.]]\n",
      "[[ 0.  0.  1.  0.  0.  0.]\n",
      " [ 0.  1.  2.  3.  0.  0.]\n",
      " [ 0.  0. -1.  0.  0.  1.]\n",
      " [ 0.  0.  0.  0.  1.  2.]\n",
      " [ 0.  0.  0.  0.  0. -1.]\n",
      " [ 0.  0.  0.  0.  0.  0.]]\n"
     ]
    }
   ],
   "source": [
    "# Test 2d convolutions\n",
    "a = np.zeros((6,6))\n",
    "a[1,2] = 1\n",
    "a[3,5] = 1\n",
    "print(a)\n",
    "\n",
    "b = np.array([[0,1,0], [1,2,3], [0,-1,0]])\n",
    "\n",
    "print(sig.convolve2d(a, b, mode='same'))\n",
    "# Note that convolution is not reversed"
   ]
  },
  {
   "cell_type": "code",
   "execution_count": 260,
   "metadata": {},
   "outputs": [
    {
     "name": "stdout",
     "output_type": "stream",
     "text": [
      "Field:\n",
      " [[1 1 0]\n",
      " [1 1 0]\n",
      " [0 0 0]]\n",
      "0.8099999999999998\n"
     ]
    },
    {
     "data": {
      "text/plain": [
       "array([[1., 1., 0.],\n",
       "       [1., 1., 0.],\n",
       "       [0., 1., 0.]])"
      ]
     },
     "execution_count": 260,
     "metadata": {},
     "output_type": "execute_result"
    }
   ],
   "source": [
    "# Calculated advection\n",
    "\n",
    "def interp(f, x, y):\n",
    "    \"\"\"Bilinearly interpolate within matrix f, using real x and y (like i,j, but fractional).\n",
    "    Ref: https://en.wikipedia.org/wiki/Bilinear_interpolation \"\"\"\n",
    "    if x<0 or x>f.shape[0]-1 or y<0 or y>f.shape[1]-1:\n",
    "        return 0 # Eternal winter outside (no interpolation if out of bounds)\n",
    "    i = np.floor(x).astype(int) # Whole part\n",
    "    j = np.floor(y).astype(int)\n",
    "    i = min(i, f.shape[0]-2) # For the interpolation formula to work, we cannot be on the right border\n",
    "    j = min(j, f.shape[1]-2)\n",
    "    return f[i,j]*(i+1-x)*(j+1-y) + f[i+1,j]*(x-i)*(j+1-y) + f[i,j+1]*(i+1-x)*(y-j) + f[i+1,j+1]*(x-i)*(j-1)\n",
    "\n",
    "def advect(field, vx, vy):\n",
    "    \"\"\"Advect the field using vx and vy local fluid speeds.\"\"\"\n",
    "    val = np.zeros(field.shape)\n",
    "    for i in range(field.shape[0]):\n",
    "        for j in range(field.shape[1]):\n",
    "            # print(f\"({i},{j})<--({i-vx[i,j]},{j-vy[i,j]}))\")\n",
    "            val[i,j] = interp(field, i-vx[i,j], j-vy[i,j])\n",
    "    return val\n",
    "\n",
    "a = np.array([[1,1,0],[1,1,0],[0,0,0]])\n",
    "vx = np.array([[0,0,0],[0,1,1],[0,1,0]])\n",
    "vy = np.zeros(vx.shape)\n",
    "print('Field:\\n',a)\n",
    "print(interp(a, 1.1, 1.1))\n",
    "advect(a, vx, vy)"
   ]
  },
  {
   "cell_type": "code",
   "execution_count": 277,
   "metadata": {},
   "outputs": [
    {
     "data": {
      "image/png": "[encoded data removed]",
      "text/plain": [
       "<Figure size 864x864 with 16 Axes>"
      ]
     },
     "metadata": {},
     "output_type": "display_data"
    }
   ],
   "source": [
    "ngrid = 20          # Grid Dimensions\n",
    "pcycles = 50        # How many pressure cycles to run on one advection cycle (50?)\n",
    "alpha = 0.1         # Relaxation rate\n",
    "viscosity =  0.1\n",
    "\n",
    "vx = np.zeros((ngrid,ngrid)) # Speed components\n",
    "vy = np.zeros((ngrid,ngrid))\n",
    "\n",
    "vx[2:4,4:6] = 0     # Give the fluid a starting push\n",
    "vy[2:4,4:6] = 1\n",
    "\n",
    "field = np.zeros((ngrid,ngrid)) # Color fluid\n",
    "field = vy.copy()\n",
    "\n",
    "# A sequence of convolutions to calculate divergence:\n",
    "divmask = np.array([[[ 1,-2, 1],\n",
    "                     [ 2,-4, 2],\n",
    "                     [ 1,-2, 1]], \n",
    "                    [[-1, 0, 1],\n",
    "                     [ 0, 0, 0],\n",
    "                     [ 1, 0,-1]], \n",
    "                    [[ 1, 2, 1],\n",
    "                     [-2,-4,-2],\n",
    "                     [ 1, 2, 1]]])/8 # xx, xy, yy (yx is the same as xx)\n",
    "#viskmask = [[1,2,1],[2,-12,2],[1,2,1]]\n",
    "viskmask = np.array([[1,1,1],[1,-8,1],[1,1,1]])/16\n",
    "\n",
    "ntime = 8\n",
    "nplots = 4\n",
    "plotcount = 0\n",
    "fig = plt.figure(figsize=(12,12))\n",
    "for t in range(ntime):    \n",
    "    if t % (np.ceil(ntime/nplots)) == 0:\n",
    "        ax = plt.subplot(nplots, 4, 1 + 4*plotcount)\n",
    "        plt.imshow(vx, cmap='RdBu') # --- Plotting speed of movement\n",
    "        plt.clim(-1,1) # Color limits  \n",
    "        plt.xticks([])\n",
    "        plt.yticks([])\n",
    "        \n",
    "        ax = plt.subplot(nplots, 4, 2 + 4*plotcount)\n",
    "        plt.imshow(vy, cmap='RdBu') # --- Plotting speed of movement\n",
    "        plt.clim(-1,1) # Color limits  \n",
    "        plt.xticks([])\n",
    "        plt.yticks([])\n",
    "        \n",
    "        ax = plt.subplot(nplots, 4, 3 + 4*plotcount)\n",
    "        plt.imshow(np.sqrt(np.square(vx) + np.square(vy))) # --- Plotting speed of movement\n",
    "        plt.xticks([])\n",
    "        plt.yticks([])\n",
    "        \n",
    "        ax = plt.subplot(nplots, 4, 4 + 4*plotcount)\n",
    "        plt.imshow(field) # --- Plotting speed of movement\n",
    "        plt.clim(0,1) # Color limits  \n",
    "        plt.xticks([])\n",
    "        plt.yticks([])\n",
    "        \n",
    "        plotcount += 1\n",
    "    \n",
    "    # Remove divergence (aka pressure-solver), and add some viscosity\n",
    "    for q in range(pcycles):\n",
    "        vx = vx + (sig.convolve2d(vx, divmask[0], mode='same') + \n",
    "                   sig.convolve2d(vy, divmask[1], mode='same') + \n",
    "                   sig.convolve2d(vx, viskmask, mode='same')*viscosity)*alpha\n",
    "        vy = vy + (sig.convolve2d(vy, divmask[2], mode='same') + \n",
    "                   sig.convolve2d(vx, divmask[1], mode='same') + \n",
    "                   sig.convolve2d(vx, viskmask, mode='same')*viscosity)*alpha\n",
    "    \n",
    "    # Advection, Stam's algorithm, even if manual and slow\n",
    "    field = advect(field, vx, vy)\n",
    "    (vx, vy) = (advect(vx, vx, vy), advect(vy, vx, vy))\n",
    "    \n",
    "    #field = field*(1 - vx + vx[:,:-1]) # Define matrix shift and use it here"
   ]
  }
 ],
 "metadata": {
  "kernelspec": {
   "display_name": "Python 3",
   "language": "python",
   "name": "python3"
  },
  "language_info": {
   "codemirror_mode": {
    "name": "ipython",
    "version": 3
   },
   "file_extension": ".py",
   "mimetype": "text/x-python",
   "name": "python",
   "nbconvert_exporter": "python",
   "pygments_lexer": "ipython3",
   "version": "3.7.6"
  }
 },
 "nbformat": 4,
 "nbformat_minor": 4
}
