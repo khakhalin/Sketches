{
 "cells": [
  {
   "cell_type": "markdown",
   "metadata": {},
   "source": [
    "# With statement"
   ]
  },
  {
   "cell_type": "code",
   "execution_count": 23,
   "metadata": {},
   "outputs": [
    {
     "ename": "AttributeError",
     "evalue": "__enter__",
     "output_type": "error",
     "traceback": [
      "\u001b[1;31m---------------------------------------------------------------------------\u001b[0m",
      "\u001b[1;31mAttributeError\u001b[0m                            Traceback (most recent call last)",
      "\u001b[1;32m<ipython-input-23-cfd504bf93cc>\u001b[0m in \u001b[0;36m<module>\u001b[1;34m\u001b[0m\n\u001b[0;32m      6\u001b[0m         \u001b[0mprint\u001b[0m\u001b[1;33m(\u001b[0m\u001b[1;34mf'x={self.x}'\u001b[0m\u001b[1;33m)\u001b[0m\u001b[1;33m\u001b[0m\u001b[1;33m\u001b[0m\u001b[0m\n\u001b[0;32m      7\u001b[0m \u001b[1;33m\u001b[0m\u001b[0m\n\u001b[1;32m----> 8\u001b[1;33m \u001b[1;32mwith\u001b[0m \u001b[0mThing\u001b[0m \u001b[1;32mas\u001b[0m \u001b[0mt\u001b[0m\u001b[1;33m:\u001b[0m\u001b[1;33m\u001b[0m\u001b[1;33m\u001b[0m\u001b[0m\n\u001b[0m\u001b[0;32m      9\u001b[0m     \u001b[0mt\u001b[0m\u001b[1;33m.\u001b[0m\u001b[0mreport\u001b[0m\u001b[1;33m(\u001b[0m\u001b[1;33m)\u001b[0m\u001b[1;33m\u001b[0m\u001b[1;33m\u001b[0m\u001b[0m\n",
      "\u001b[1;31mAttributeError\u001b[0m: __enter__"
     ]
    }
   ],
   "source": [
    "class Thing():\n",
    "    def __init__(self):\n",
    "        self.x = 1\n",
    "        \n",
    "    def report(self):\n",
    "        print(f'x={self.x}')\n",
    "\n",
    "with Thing as t:\n",
    "    t.report()\n",
    "    \n",
    "\"\"\"Does not work as __enter__ and __exit_ aren't defined.\"\"\""
   ]
  },
  {
   "cell_type": "code",
   "execution_count": 85,
   "metadata": {},
   "outputs": [
    {
     "name": "stdout",
     "output_type": "stream",
     "text": [
      "x=2\n",
      "x=3\n",
      "x=1\n"
     ]
    }
   ],
   "source": [
    "class Thing():\n",
    "    def __init__(self):\n",
    "        self.x = 1\n",
    "        \n",
    "    def __enter__(self):\n",
    "        self.x += 1\n",
    "        return self\n",
    "    \n",
    "    def __exit__(self, type, value, traceback): # These four arguments have to be here. Some error-handling?\n",
    "        self.x += 1\n",
    "        \n",
    "    def report(self):\n",
    "        print(f'x={self.x}')\n",
    "\n",
    "with Thing() as t:\n",
    "    t.report()\n",
    "t.report()\n",
    "\"\"\"Reports 3, as it was born, prepped, and updated\"\"\"\n",
    "\n",
    "t2 = Thing()\n",
    "t2.report()\n",
    "\"\"\"Reports 1, as it was only born, and that's it.\"\"\""
   ]
  },
  {
   "cell_type": "markdown",
   "metadata": {},
   "source": [
    "Below: a weird use case that I've seen online. In this case `a` is an object, and the Thing object remembers where it is stored, and updates the object. But because the reference from `a` to the object remains valid, it looks as if `a` object were updated as well.\n",
    "\n",
    "Note that it's the same useful situation that we have with objects and reefrences. If instead of appending to `self.x` or changing it in-place, we try to overwrite it, the link between `self.x` and `a` will be severed, and the value of `a` will no longer be updated."
   ]
  },
  {
   "cell_type": "code",
   "execution_count": 86,
   "metadata": {},
   "outputs": [
    {
     "name": "stdout",
     "output_type": "stream",
     "text": [
      "[0, 0, 0, 'Dogs']\n",
      "[0, 0, 0, 'Dogs', 'Cats']\n"
     ]
    }
   ],
   "source": [
    "class Thing():\n",
    "    def __init__(self, x):\n",
    "        self.x = x\n",
    "        \n",
    "    def __enter__(self):\n",
    "        self.x.append('Dogs')\n",
    "        return self.x\n",
    "    \n",
    "    def __exit__(self, type, value, traceback):\n",
    "        self.x.append('Cats')\n",
    "        \n",
    "    def report(self):\n",
    "        print('x=', self.x)\n",
    "        return\n",
    "    \n",
    "a = [0,0,0]\n",
    "with Thing(a):\n",
    "    print(a)\n",
    "print(a)"
   ]
  }
 ],
 "metadata": {
  "kernelspec": {
   "display_name": "Python 3",
   "language": "python",
   "name": "python3"
  },
  "language_info": {
   "codemirror_mode": {
    "name": "ipython",
    "version": 3
   },
   "file_extension": ".py",
   "mimetype": "text/x-python",
   "name": "python",
   "nbconvert_exporter": "python",
   "pygments_lexer": "ipython3",
   "version": "3.7.6"
  }
 },
 "nbformat": 4,
 "nbformat_minor": 4
}
