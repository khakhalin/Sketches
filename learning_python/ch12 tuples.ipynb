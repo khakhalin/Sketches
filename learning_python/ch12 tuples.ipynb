{
 "cells": [
  {
   "cell_type": "markdown",
   "metadata": {},
   "source": [
    "## 12. Tuples"
   ]
  },
  {
   "cell_type": "code",
   "execution_count": 4,
   "metadata": {},
   "outputs": [
    {
     "name": "stdout",
     "output_type": "stream",
     "text": [
      "<class 'str'>\n",
      "<class 'tuple'>\n",
      "<class 'tuple'>\n"
     ]
    }
   ],
   "source": [
    "a = ('a')\n",
    "print(type(a)) # String, if no comma\n",
    "a = ('a',)\n",
    "print(type(a)) # Tuple\n",
    "a = tuple('a')\n",
    "print(type(a)) # Also tuple"
   ]
  },
  {
   "cell_type": "code",
   "execution_count": 28,
   "metadata": {},
   "outputs": [
    {
     "name": "stdout",
     "output_type": "stream",
     "text": [
      "('d', 'o', 'g', 'w', 'o', 'o', 'd')\n",
      "('w', 'o', 'o', 'd')\n"
     ]
    }
   ],
   "source": [
    "a = tuple('dogwood')\n",
    "print(a)\n",
    "print(a[3:])"
   ]
  },
  {
   "cell_type": "code",
   "execution_count": 15,
   "metadata": {},
   "outputs": [
    {
     "data": {
      "text/plain": [
       "('d', 'o', 'g', 'd')"
      ]
     },
     "execution_count": 15,
     "metadata": {},
     "output_type": "execute_result"
    }
   ],
   "source": [
    "tuple('dog') + tuple('d') # Can concanetate tuples"
   ]
  },
  {
   "cell_type": "code",
   "execution_count": 26,
   "metadata": {},
   "outputs": [
    {
     "name": "stdout",
     "output_type": "stream",
     "text": [
      "(1, 2, 3)\n",
      "(1, 2, 3)\n",
      "(1,)\n",
      "(1,)\n"
     ]
    }
   ],
   "source": [
    "print((1,2,3))\n",
    "print(tuple([1,2,3]))\n",
    "print((1,))\n",
    "print(tuple([1])) # Tuple() number doesn't work for some reason, but tuple(array) does work"
   ]
  },
  {
   "cell_type": "code",
   "execution_count": 8,
   "metadata": {},
   "outputs": [
    {
     "ename": "TypeError",
     "evalue": "'tuple' object does not support item assignment",
     "output_type": "error",
     "traceback": [
      "\u001b[1;31m---------------------------------------------------------------------------\u001b[0m",
      "\u001b[1;31mTypeError\u001b[0m                                 Traceback (most recent call last)",
      "\u001b[1;32m<ipython-input-8-94c4449d0396>\u001b[0m in \u001b[0;36m<module>\u001b[1;34m()\u001b[0m\n\u001b[1;32m----> 1\u001b[1;33m \u001b[0ma\u001b[0m\u001b[1;33m[\u001b[0m\u001b[1;36m1\u001b[0m\u001b[1;33m]\u001b[0m \u001b[1;33m=\u001b[0m \u001b[1;36m2\u001b[0m\u001b[1;33m\u001b[0m\u001b[0m\n\u001b[0m",
      "\u001b[1;31mTypeError\u001b[0m: 'tuple' object does not support item assignment"
     ]
    }
   ],
   "source": [
    "a[1] = 2 # Immutable"
   ]
  },
  {
   "cell_type": "code",
   "execution_count": 55,
   "metadata": {},
   "outputs": [
    {
     "name": "stdout",
     "output_type": "stream",
     "text": [
      "('d', 'o', 'g')\n",
      "('d', 'o', 'g', '4')\n",
      "('d', '2')\n"
     ]
    }
   ],
   "source": [
    "a = tuple('dogwood')\n",
    "a = a[0:3]\n",
    "print(a)\n",
    "a = a[0:] + tuple('4') # A substring-like part of a tuple is also a tuple, so can be concat\n",
    "print(a)\n",
    "a = tuple(a[0]) + tuple('2') # But one element of a tuple is an element, so has to be enclused in tuple()\n",
    "print(a)"
   ]
  },
  {
   "cell_type": "code",
   "execution_count": 56,
   "metadata": {},
   "outputs": [],
   "source": [
    "a = 1\n",
    "b = 2\n",
    "b,a = a,b # Tuple assignment! Can change things"
   ]
  },
  {
   "cell_type": "code",
   "execution_count": 60,
   "metadata": {},
   "outputs": [
    {
     "name": "stdout",
     "output_type": "stream",
     "text": [
      "dog\n",
      "42\n"
     ]
    }
   ],
   "source": [
    "a,b='dog',42 # Strange syntax, I have to admit\n",
    "print(a)\n",
    "print(b)"
   ]
  },
  {
   "cell_type": "code",
   "execution_count": 64,
   "metadata": {},
   "outputs": [
    {
     "name": "stdout",
     "output_type": "stream",
     "text": [
      "bog\n"
     ]
    }
   ],
   "source": [
    "a = 'dog bog'\n",
    "a,b = a.split()\n",
    "print(b)"
   ]
  },
  {
   "cell_type": "code",
   "execution_count": 66,
   "metadata": {},
   "outputs": [
    {
     "name": "stdout",
     "output_type": "stream",
     "text": [
      "1\n",
      "3\n",
      "(1, 3)\n"
     ]
    }
   ],
   "source": [
    "a,b = divmod(13,10) # Modulo division returns 2 values\n",
    "print(a)\n",
    "print(b)\n",
    "c = divmod(13,10)\n",
    "print(c) # Because it returns a tuple. Not like in Matlab with variable number of outargs"
   ]
  },
  {
   "cell_type": "code",
   "execution_count": 68,
   "metadata": {},
   "outputs": [
    {
     "data": {
      "text/plain": [
       "(3, 9)"
      ]
     },
     "execution_count": 68,
     "metadata": {},
     "output_type": "execute_result"
    }
   ],
   "source": [
    "def myFun(x):\n",
    "    return x, x**2\n",
    "\n",
    "myFun(3)"
   ]
  },
  {
   "cell_type": "code",
   "execution_count": 77,
   "metadata": {},
   "outputs": [
    {
     "name": "stdout",
     "output_type": "stream",
     "text": [
      "3  \n",
      "dog  \n",
      "dog  24  [0]  \n"
     ]
    }
   ],
   "source": [
    "def myFun(*args): # Variable number of inputs, uses tuple\n",
    "    for i in args:\n",
    "        print(i,' ',end='')\n",
    "    print()\n",
    "\n",
    "myFun(3)\n",
    "myFun('dog')\n",
    "myFun('dog',24,[0])"
   ]
  },
  {
   "cell_type": "code",
   "execution_count": 85,
   "metadata": {},
   "outputs": [
    {
     "name": "stdout",
     "output_type": "stream",
     "text": [
      "(2, 3)\n",
      "2 3\n",
      "2 3\n",
      "5\n",
      "Did not work, ha?\n"
     ]
    }
   ],
   "source": [
    "print(tuple([2,3]))\n",
    "print(*tuple([2,3])) # Asterisk works as SCATTER and unpacks tuple into a bunch of separate arguments\n",
    "print(2,3)\n",
    "\n",
    "def myFun(x,y):\n",
    "    return x+y\n",
    "\n",
    "a = (2,3)\n",
    "print(myFun(*a))\n",
    "try:\n",
    "    print(myFun(a))\n",
    "except:\n",
    "    print('Did not work, ha?') # That's because myFun wants 2 inputs, not one tuple. Need to _scatter_ it with *\n"
   ]
  },
  {
   "cell_type": "code",
   "execution_count": 133,
   "metadata": {},
   "outputs": [
    {
     "name": "stdout",
     "output_type": "stream",
     "text": [
      "<class 'zip'>\n",
      "(1, 'd')\n",
      "(2, 'o')\n",
      "(3, 'g')\n"
     ]
    }
   ],
   "source": [
    "a = (1,2,3)\n",
    "b = tuple('dog')\n",
    "c = zip(a,b)\n",
    "print(type(c)) # New thing in Python3: now it's not a list of tuples, but an interator\n",
    "for i in c:\n",
    "    print(i)\n",
    "# Note that an iterator disappears once it was iterated over, so c is now 'empty'"
   ]
  },
  {
   "cell_type": "code",
   "execution_count": 135,
   "metadata": {},
   "outputs": [
    {
     "name": "stdout",
     "output_type": "stream",
     "text": [
      "1  loves  d\n",
      "2  loves  o\n",
      "3  loves  g\n"
     ]
    }
   ],
   "source": [
    "a = (1,2,3)\n",
    "b = tuple('dog')\n",
    "c = zip(a,b)\n",
    "for i,j in c: # Look, can iterate through tuples\n",
    "    print(i,' loves ', j)"
   ]
  },
  {
   "cell_type": "code",
   "execution_count": 136,
   "metadata": {},
   "outputs": [
    {
     "ename": "SyntaxError",
     "evalue": "invalid syntax (<ipython-input-136-5f16e74fa367>, line 4)",
     "output_type": "error",
     "traceback": [
      "\u001b[1;36m  File \u001b[1;32m\"<ipython-input-136-5f16e74fa367>\"\u001b[1;36m, line \u001b[1;32m4\u001b[0m\n\u001b[1;33m    print(c[:]) <- doesn't work, TypeError: 'zip' object is not subscriptable\u001b[0m\n\u001b[1;37m                                            ^\u001b[0m\n\u001b[1;31mSyntaxError\u001b[0m\u001b[1;31m:\u001b[0m invalid syntax\n"
     ]
    }
   ],
   "source": [
    "a = (1,2,3)\n",
    "b = tuple('dog')\n",
    "c = zip(a,b)\n",
    "print(c[:]) <- doesn't work, TypeError: 'zip' object is not subscriptable"
   ]
  },
  {
   "cell_type": "code",
   "execution_count": 139,
   "metadata": {},
   "outputs": [
    {
     "name": "stdout",
     "output_type": "stream",
     "text": [
      "(1, 'd')\n",
      "(2, 'o')\n",
      "(3, 'g')\n",
      "Still works:  (1, 'd')\n",
      "Still works:  (2, 'o')\n",
      "Still works:  (3, 'g')\n"
     ]
    }
   ],
   "source": [
    "# if you want to reuse zip, make it into a list:\n",
    "a = (1,2,3)\n",
    "b = tuple('dog')\n",
    "c = list(zip(a,b)) # Note that if you save zip object as a variable, list() will 'use' it, by iterating through it\n",
    "for i in c:\n",
    "    print(i)\n",
    "for i in c:\n",
    "    print('Still works: ',i)"
   ]
  },
  {
   "cell_type": "code",
   "execution_count": 140,
   "metadata": {},
   "outputs": [
    {
     "name": "stdout",
     "output_type": "stream",
     "text": [
      "1  loves  d\n",
      "2  loves  o\n",
      "3  loves  g\n"
     ]
    }
   ],
   "source": [
    "a = (1,2,3)\n",
    "b = tuple('dog')\n",
    "c = list(zip(a,b))\n",
    "for i,j in c: # Iteration through tuples obviously works for a list as well\n",
    "    print(i,' loves ', j)"
   ]
  },
  {
   "cell_type": "code",
   "execution_count": 145,
   "metadata": {},
   "outputs": [
    {
     "name": "stdout",
     "output_type": "stream",
     "text": [
      "[2, (2, 'o'), (3, 'g')]\n",
      "[2, (2, 'o'), (3, 'g')]\n"
     ]
    }
   ],
   "source": [
    "d = c\n",
    "d[0] = 2\n",
    "print(d) # As with any other list, copying by reference, unless requested\n",
    "print(c)\n",
    "\n",
    "# Note that for tuples the question of copying is void, as they aren't mutable"
   ]
  },
  {
   "cell_type": "code",
   "execution_count": 178,
   "metadata": {},
   "outputs": [
    {
     "name": "stdout",
     "output_type": "stream",
     "text": [
      "{1: 1, 2: 4, 3: 9}\n",
      "dict_items([(1, 1), (2, 4), (3, 9)])\n",
      "1 1\n",
      "2 4\n",
      "3 9\n"
     ]
    }
   ],
   "source": [
    "a = {a:a**2 for a in [1,2,3]}\n",
    "print(a)\n",
    "print(a.items()) # items breaks a dict into a list of tuples\n",
    "\n",
    "for x,y in a.items(): # A way to iterate through a dict\n",
    "    print(x,y)"
   ]
  },
  {
   "cell_type": "code",
   "execution_count": 162,
   "metadata": {},
   "outputs": [
    {
     "data": {
      "text/plain": [
       "{1: 'a', 2: 'b', 3: 'c'}"
      ]
     },
     "execution_count": 162,
     "metadata": {},
     "output_type": "execute_result"
    }
   ],
   "source": [
    "dict(zip([1,2,3],'abc')) # Creating dict from a list of tuples (or rather from a zip object, here)"
   ]
  },
  {
   "cell_type": "code",
   "execution_count": 167,
   "metadata": {},
   "outputs": [
    {
     "name": "stdout",
     "output_type": "stream",
     "text": [
      "{0: 'c', 1: 'r', 2: 'o', 3: 'c', 4: 'o', 5: 'd', 6: 'i', 7: 'l', 8: 'e'}\n"
     ]
    }
   ],
   "source": [
    "a = 'crocodile'\n",
    "b = dict(zip(range(len(a)),a)) # Not sure why anyone would wont that, but possible\n",
    "print(b)"
   ]
  },
  {
   "cell_type": "code",
   "execution_count": 186,
   "metadata": {},
   "outputs": [
    {
     "data": {
      "text/plain": [
       "[(1, 'a', 'Y'), (2, 'b', 'U'), (3, 'c', 'T')]"
      ]
     },
     "execution_count": 186,
     "metadata": {},
     "output_type": "execute_result"
    }
   ],
   "source": [
    "a = list(zip((1,2,3),'abc','YUT')) # Can zip more than 2 tuples\n",
    "list(a)"
   ]
  },
  {
   "cell_type": "code",
   "execution_count": 230,
   "metadata": {},
   "outputs": [
    {
     "name": "stdout",
     "output_type": "stream",
     "text": [
      "alfonso\n"
     ]
    }
   ],
   "source": [
    "a = {(1,2): 'alfonso', (1,1): 'genevieve'} # to make something like a 2d dict, use tuples\n",
    "# That's because zip index has to be immutable, so list wouldn't work, but tuples are ok\n",
    "print(a[1,2])"
   ]
  },
  {
   "cell_type": "code",
   "execution_count": 198,
   "metadata": {},
   "outputs": [
    {
     "data": {
      "text/plain": [
       "{(1, 0): 'alice', (1, 1): 'bob', (1, 2): 'cathy', (1, 3): 'don'}"
      ]
     },
     "execution_count": 198,
     "metadata": {},
     "output_type": "execute_result"
    }
   ],
   "source": [
    "t = ('alice','bob','cathy','don')\n",
    "{(1,i):t[i] for i in range(len(t))} # Not sure what I'm trying to do here, but 2D is possible"
   ]
  },
  {
   "cell_type": "code",
   "execution_count": 205,
   "metadata": {},
   "outputs": [
    {
     "name": "stdout",
     "output_type": "stream",
     "text": [
      "True\n",
      "False\n",
      "True\n",
      "True\n"
     ]
    }
   ],
   "source": [
    "print((1,2,3)<=(1,2,3))\n",
    "print((1,2,4)<=(1,2,3)) # Goes to the right until first non-equal element\n",
    "print((1,1,4)<=(1,2,3)) # doesn't go beyond that\n",
    "print((1,2)<(1,2,3)) # Shorter tuples are always \"smaller\"?"
   ]
  },
  {
   "cell_type": "code",
   "execution_count": 222,
   "metadata": {},
   "outputs": [
    {
     "name": "stdout",
     "output_type": "stream",
     "text": [
      "Number of o in \"dogo\":  2\n"
     ]
    },
    {
     "data": {
      "text/plain": [
       "['dog', 'dogo', 'moogoo']"
      ]
     },
     "execution_count": 222,
     "metadata": {},
     "output_type": "execute_result"
    }
   ],
   "source": [
    "# DSU, or Decorate-Sort-Undecorate\n",
    "\n",
    "a = ['dogo','dog','moogoo'] # Can we sort it by the number of oos in each element?\n",
    "print('Number of o in \"dogo\": ',a[0].count('o')) # There's a useful function for that, but how to sort?\n",
    "\n",
    "def myFun(words):\n",
    "    t = [] # Empty list\n",
    "    for w in words:\n",
    "        t.append((w.count('o'),w))\n",
    "    \n",
    "    t.sort() # Sorting tuples where the 1st element is the number, mostly sorts by these numbers\n",
    "        \n",
    "    a,b = zip(*t) # Weird unzip by using zip that I cargoed off internet\n",
    "    return(list(b))\n",
    "\n",
    "myFun(a)"
   ]
  },
  {
   "cell_type": "code",
   "execution_count": 232,
   "metadata": {},
   "outputs": [
    {
     "name": "stdout",
     "output_type": "stream",
     "text": [
      "[('a', 0), ('b', 1), ('c', 2)]\n",
      "('a', 0) ('b', 1) ('c', 2)\n",
      "[('a', 'b', 'c'), (0, 1, 2)]\n"
     ]
    }
   ],
   "source": [
    "# Testing the weird unzipping with zip logic:\n",
    "\n",
    "a = list(zip('abc',range(3)))\n",
    "print(a) # A list of tuples\n",
    "print(*a) # Many tuples (print accepts infinite argument)\n",
    "print(list(zip(*a))) # Now zip switched rows and columns, so to say, which led to unzipping"
   ]
  },
  {
   "cell_type": "code",
   "execution_count": 8,
   "metadata": {},
   "outputs": [
    {
     "ename": "SyntaxError",
     "evalue": "invalid syntax (<ipython-input-8-357a54c66fd4>, line 2)",
     "output_type": "error",
     "traceback": [
      "\u001b[1;36m  File \u001b[1;32m\"<ipython-input-8-357a54c66fd4>\"\u001b[1;36m, line \u001b[1;32m2\u001b[0m\n\u001b[1;33m    a = (x=1, y=2)\u001b[0m\n\u001b[1;37m          ^\u001b[0m\n\u001b[1;31mSyntaxError\u001b[0m\u001b[1;31m:\u001b[0m invalid syntax\n"
     ]
    }
   ],
   "source": [
    "# Do we have named tuples?\n",
    "a = (x=1, y=2) # Not yet\n",
    "print(a)"
   ]
  }
 ],
 "metadata": {
  "kernelspec": {
   "display_name": "Python 3",
   "language": "python",
   "name": "python3"
  },
  "language_info": {
   "codemirror_mode": {
    "name": "ipython",
    "version": 3
   },
   "file_extension": ".py",
   "mimetype": "text/x-python",
   "name": "python",
   "nbconvert_exporter": "python",
   "pygments_lexer": "ipython3",
   "version": "3.7.6"
  }
 },
 "nbformat": 4,
 "nbformat_minor": 2
}
