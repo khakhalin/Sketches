{
 "cells": [
  {
   "cell_type": "markdown",
   "metadata": {},
   "source": [
    "# A collection of random gotchas"
   ]
  },
  {
   "cell_type": "code",
   "execution_count": 1,
   "metadata": {},
   "outputs": [
    {
     "name": "stdout",
     "output_type": "stream",
     "text": [
      "[2]\n",
      "[]\n",
      "{1: [2]}\n",
      "{1: [2]}\n"
     ]
    }
   ],
   "source": [
    "a = [1,2,3]\n",
    "for i in a:\n",
    "    a.remove(i)\n",
    "print(a)\n",
    "\n",
    "\"\"\"[2] remains. Why? It takes #0th element (1), deletes it,\n",
    "sees that len(a)==2, so takes #1th element (3 at this point), deletes it,\n",
    "then leaves the loop as #2 element doesn't exist.\"\"\"\n",
    "\n",
    "# However\n",
    "a = [1,2,3]\n",
    "for i in set(a):\n",
    "    a.remove(i)\n",
    "print(a)\n",
    "\n",
    "\"\"\"Deletes everything, as set(a) creates a copy, and we iterate through it.\"\"\"\n",
    "\n",
    "a = {1:[1,2,3]}\n",
    "for i in a[1]:\n",
    "    a[1].remove(i)\n",
    "print(a) # Same as the first example\n",
    "\n",
    "a = {1:[1,2,3]}\n",
    "for i in a.get(1): # No difference. Which means that get doesn't create a copy.\n",
    "    a[1].remove(i)\n",
    "print(a)"
   ]
  },
  {
   "cell_type": "code",
   "execution_count": 17,
   "metadata": {},
   "outputs": [
    {
     "name": "stdout",
     "output_type": "stream",
     "text": [
      "[1 2]\n",
      "[2 4]\n"
     ]
    }
   ],
   "source": [
    "import numpy as np\n",
    "\n",
    "a = np.array([1,2])\n",
    "b = a\n",
    "a = a*2\n",
    "print(b)\n",
    "\"\"\"a*2 creates a new object, so the reference in a gets overwritten, \n",
    "while b still references the original array.\"\"\"\n",
    "\n",
    "a = np.array([1,2])\n",
    "b = a\n",
    "for i in range(len(a)):\n",
    "    a[i] = a[i]*2\n",
    "print(b)\n",
    "\"\"\"In this case a is modified in-place, so both a and b still reference\n",
    "the same part of memory. Meaning that b is also 'updated'\"\"\";"
   ]
  }
 ],
 "metadata": {
  "kernelspec": {
   "display_name": "Python 3",
   "language": "python",
   "name": "python3"
  },
  "language_info": {
   "codemirror_mode": {
    "name": "ipython",
    "version": 3
   },
   "file_extension": ".py",
   "mimetype": "text/x-python",
   "name": "python",
   "nbconvert_exporter": "python",
   "pygments_lexer": "ipython3",
   "version": "3.7.6"
  }
 },
 "nbformat": 4,
 "nbformat_minor": 4
}
