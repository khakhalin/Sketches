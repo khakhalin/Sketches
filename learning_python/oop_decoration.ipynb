{
 "cells": [
  {
   "cell_type": "markdown",
   "metadata": {},
   "source": [
    "# Decoration"
   ]
  },
  {
   "cell_type": "code",
   "execution_count": 22,
   "metadata": {},
   "outputs": [
    {
     "data": {
      "text/plain": [
       "643"
      ]
     },
     "execution_count": 22,
     "metadata": {},
     "output_type": "execute_result"
    }
   ],
   "source": [
    "# Let's use Collatz conjecture, shall we?\n",
    "\n",
    "def memoize(f):\n",
    "    mem = {}\n",
    "    def helper(x):\n",
    "        if x not in mem:\n",
    "            mem[x] = f(x)\n",
    "        return mem[x]\n",
    "    return helper\n",
    "\n",
    "@memoize\n",
    "def foo(n):\n",
    "    if n==1: return 0\n",
    "    if n % 2 == 0:\n",
    "        return 1+foo(n//2)\n",
    "    return 1+foo(3*n+1)\n",
    "\n",
    "foo(2**100+1)"
   ]
  },
  {
   "cell_type": "code",
   "execution_count": 37,
   "metadata": {},
   "outputs": [
    {
     "data": {
      "text/plain": [
       "225591516161936330872512695036072072046011324913758190588638866418474627738686883405015987052796968498626"
      ]
     },
     "execution_count": 37,
     "metadata": {},
     "output_type": "execute_result"
    }
   ],
   "source": [
    "@memoize\n",
    "def fib(n):\n",
    "    if n==1: return 1\n",
    "    if n==0: return 1\n",
    "    return fib(n-1)+fib(n-2)\n",
    "\n",
    "fib(500)"
   ]
  }
 ],
 "metadata": {
  "kernelspec": {
   "display_name": "Python 3",
   "language": "python",
   "name": "python3"
  },
  "language_info": {
   "codemirror_mode": {
    "name": "ipython",
    "version": 3
   },
   "file_extension": ".py",
   "mimetype": "text/x-python",
   "name": "python",
   "nbconvert_exporter": "python",
   "pygments_lexer": "ipython3",
   "version": "3.7.6"
  }
 },
 "nbformat": 4,
 "nbformat_minor": 4
}
