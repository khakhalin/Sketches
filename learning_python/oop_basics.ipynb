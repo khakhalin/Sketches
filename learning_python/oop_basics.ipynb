{
 "cells": [
  {
   "cell_type": "markdown",
   "metadata": {},
   "source": [
    "# OOP\n",
    "\n",
    "Some simple tests of OOP concepts"
   ]
  },
  {
   "cell_type": "code",
   "execution_count": 23,
   "metadata": {},
   "outputs": [
    {
     "name": "stdout",
     "output_type": "stream",
     "text": [
      "\n",
      "> Create an instance:\n",
      "\n",
      "> Use method inherited from a base class:\n",
      "I am 0 days old, and 0 units animal.\n",
      "\n",
      "> Use method defined in a subclass:\n",
      "Jumping and getting older\n",
      "\n",
      "> Use method inherited from a mix-in class:\n",
      "Grooming\n",
      "\n",
      "> Use a method that is a class method, not an instance method\n",
      "Carrots are good\n",
      "\n",
      "> Note how it changed the class property:\n",
      "I am 1 days old, and 1 units animal.\n",
      "\n",
      "> Create a new object. Notice that class property is shared across all instances of a class:\n",
      "I am 0 days old, and 1 units animal.\n"
     ]
    }
   ],
   "source": [
    "class Animal:\n",
    "    animalness = 0              # A property of a class, not an instance\n",
    "    \n",
    "    def __init__(self):\n",
    "        self.age = 0            # A property of an instance\n",
    "    \n",
    "    # Instance method: no decorator; receives self; \n",
    "    def speak(self):\n",
    "        print(f'I am {self.age} days old, and {self.animalness} units animal.')\n",
    "        \n",
    "class AniTools: # A mixin: brings additional methods, but is never instantiated itself\n",
    "    def groom(self):\n",
    "        print('Grooming')\n",
    "    \n",
    "class Hare(Animal, AniTools):\n",
    "    def jump(self):\n",
    "        print(self.improve('jumping and getting older'))\n",
    "        self.age += 1\n",
    "        \n",
    "    # Internal utility function; no self => no acess to obj data \n",
    "    @staticmethod    \n",
    "    def improve(s):\n",
    "        return s.capitalize()\n",
    "    \n",
    "    # Get 'cls' instead of 'self', which is not an instance, but a class reference\n",
    "    # cls is an auto-argument (similar to self), passed by Python\n",
    "    @classmethod\n",
    "    def rant(cls):\n",
    "        print(cls.improve('carrots are good'))\n",
    "        cls.animalness += 1 # Can change class-specific details, but not that for an instance\n",
    "        \n",
    "def say(s):\n",
    "    print('\\n>',s)\n",
    "        \n",
    "# Test\n",
    "say('Create an instance:')\n",
    "a = Hare()\n",
    "say('Use method inherited from a base class:')\n",
    "a.speak()\n",
    "say('Use method defined in a subclass:')\n",
    "a.jump()\n",
    "say('Use method inherited from a mix-in class:')\n",
    "a.groom()\n",
    "say('Use a method that is a class method, not an instance method')\n",
    "a.rant()\n",
    "say('Note how it changed the class property:')\n",
    "a.speak() # Hare didn't change, even tho the class supposedly did change (whatever it means)\n",
    "\n",
    "say('Create a new object. Notice that class property is shared across all instances of a class:')\n",
    "b = Hare()\n",
    "b.speak()"
   ]
  },
  {
   "cell_type": "markdown",
   "metadata": {},
   "source": [
    "# Method overrides\n",
    "\n",
    "* https://realpython.com/python-super/"
   ]
  },
  {
   "cell_type": "code",
   "execution_count": 35,
   "metadata": {},
   "outputs": [
    {
     "name": "stdout",
     "output_type": "stream",
     "text": [
      "Child wakes up\n"
     ]
    },
    {
     "ename": "AttributeError",
     "evalue": "'Child' object has no attribute 'x'",
     "output_type": "error",
     "traceback": [
      "\u001b[1;31m---------------------------------------------------------------------------\u001b[0m",
      "\u001b[1;31mAttributeError\u001b[0m                            Traceback (most recent call last)",
      "\u001b[1;32m<ipython-input-35-5714575716db>\u001b[0m in \u001b[0;36m<module>\u001b[1;34m\u001b[0m\n\u001b[0;32m     15\u001b[0m \u001b[1;33m\u001b[0m\u001b[0m\n\u001b[0;32m     16\u001b[0m \u001b[0ma\u001b[0m \u001b[1;33m=\u001b[0m \u001b[0mChild\u001b[0m\u001b[1;33m(\u001b[0m\u001b[1;33m)\u001b[0m\u001b[1;33m\u001b[0m\u001b[1;33m\u001b[0m\u001b[0m\n\u001b[1;32m---> 17\u001b[1;33m \u001b[0ma\u001b[0m\u001b[1;33m.\u001b[0m\u001b[0mtalk\u001b[0m\u001b[1;33m(\u001b[0m\u001b[1;33m)\u001b[0m \u001b[1;31m# OK, parent's init got ruined\u001b[0m\u001b[1;33m\u001b[0m\u001b[1;33m\u001b[0m\u001b[0m\n\u001b[0m",
      "\u001b[1;32m<ipython-input-35-5714575716db>\u001b[0m in \u001b[0;36mtalk\u001b[1;34m(self)\u001b[0m\n\u001b[0;32m     12\u001b[0m \u001b[1;33m\u001b[0m\u001b[0m\n\u001b[0;32m     13\u001b[0m     \u001b[1;32mdef\u001b[0m \u001b[0mtalk\u001b[0m\u001b[1;33m(\u001b[0m\u001b[0mself\u001b[0m\u001b[1;33m)\u001b[0m\u001b[1;33m:\u001b[0m\u001b[1;33m\u001b[0m\u001b[1;33m\u001b[0m\u001b[0m\n\u001b[1;32m---> 14\u001b[1;33m         \u001b[0mprint\u001b[0m\u001b[1;33m(\u001b[0m\u001b[0mself\u001b[0m\u001b[1;33m.\u001b[0m\u001b[0mx\u001b[0m\u001b[1;33m)\u001b[0m\u001b[1;33m\u001b[0m\u001b[1;33m\u001b[0m\u001b[0m\n\u001b[0m\u001b[0;32m     15\u001b[0m \u001b[1;33m\u001b[0m\u001b[0m\n\u001b[0;32m     16\u001b[0m \u001b[0ma\u001b[0m \u001b[1;33m=\u001b[0m \u001b[0mChild\u001b[0m\u001b[1;33m(\u001b[0m\u001b[1;33m)\u001b[0m\u001b[1;33m\u001b[0m\u001b[1;33m\u001b[0m\u001b[0m\n",
      "\u001b[1;31mAttributeError\u001b[0m: 'Child' object has no attribute 'x'"
     ]
    }
   ],
   "source": [
    "# What happens if we just plain override a method?\n",
    "# We replace it (override).\n",
    "\n",
    "class Parent():\n",
    "    def __init__(self):\n",
    "        print('A parent is born')\n",
    "        self.x = 1\n",
    "        \n",
    "class Child(Parent):\n",
    "    def __init__(self):\n",
    "        print('Child wakes up')\n",
    "    \n",
    "    def talk(self):\n",
    "        print(self.x)\n",
    "        \n",
    "a = Child()\n",
    "a.talk() # OK, parent's init got ruined"
   ]
  },
  {
   "cell_type": "code",
   "execution_count": 36,
   "metadata": {},
   "outputs": [
    {
     "name": "stdout",
     "output_type": "stream",
     "text": [
      "A parent is born\n",
      "Child wakes up\n",
      "20\n"
     ]
    }
   ],
   "source": [
    "# How to fix it?\n",
    "# Use super() to call parent class function before additing to it.\n",
    "# This allows inheriting to old methods, not just overriding them.\n",
    "# This is called **method resolution order**\n",
    "\n",
    "class Parent():\n",
    "    def __init__(self, n=0):\n",
    "        print('A parent is born')\n",
    "        self.x = n\n",
    "        \n",
    "class Child(Parent):\n",
    "    def __init__(self, n=0):\n",
    "        super().__init__(n)\n",
    "        print('Child wakes up')\n",
    "    \n",
    "    def talk(self):\n",
    "        print(self.x)\n",
    "        \n",
    "a = Child(20)\n",
    "a.talk() # OK, parent's init got ruined"
   ]
  },
  {
   "cell_type": "code",
   "execution_count": 50,
   "metadata": {},
   "outputs": [
    {
     "name": "stdout",
     "output_type": "stream",
     "text": [
      "A parent is born\n",
      "Child wakes up\n",
      "20\n"
     ]
    }
   ],
   "source": [
    "# What happens if mixin also has this method?\n",
    "# Nothing. Good.\n",
    "# (When mixing-in, if there's a conflict of names, methods from mixin are ignored.)\n",
    "\n",
    "class Parent():\n",
    "    def __init__(self, n=0):\n",
    "        print('A parent is born')\n",
    "        self.x = n\n",
    "        \n",
    "class Mixin():\n",
    "    def __init__(self):\n",
    "        print(\"Chaotic evil.\")\n",
    "        \n",
    "class Child(Parent, Mixin):\n",
    "    def __init__(self, n=0):\n",
    "        super().__init__(n)\n",
    "        print('Child wakes up')\n",
    "    \n",
    "    def talk(self):\n",
    "        print(self.x)\n",
    "        \n",
    "a = Child(20)\n",
    "a.talk() # OK, parent's init got ruined"
   ]
  }
 ],
 "metadata": {
  "kernelspec": {
   "display_name": "Python 3",
   "language": "python",
   "name": "python3"
  },
  "language_info": {
   "codemirror_mode": {
    "name": "ipython",
    "version": 3
   },
   "file_extension": ".py",
   "mimetype": "text/x-python",
   "name": "python",
   "nbconvert_exporter": "python",
   "pygments_lexer": "ipython3",
   "version": "3.7.6"
  }
 },
 "nbformat": 4,
 "nbformat_minor": 2
}
