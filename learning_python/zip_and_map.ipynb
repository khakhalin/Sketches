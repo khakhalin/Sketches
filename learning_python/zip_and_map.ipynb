{
 "cells": [
  {
   "cell_type": "markdown",
   "metadata": {},
   "source": [
    "# Zipping and Mapping\n",
    "\n",
    "Based on: https://github.com/chiphuyen/python-is-cool"
   ]
  },
  {
   "cell_type": "code",
   "execution_count": 12,
   "metadata": {},
   "outputs": [
    {
     "data": {
      "text/plain": [
       "[(1, 10), (2, 20), (3, 30)]"
      ]
     },
     "execution_count": 12,
     "metadata": {},
     "output_type": "execute_result"
    }
   ],
   "source": [
    "# Basic zipping\n",
    "\n",
    "a = [1,2,3]\n",
    "b = [10,20,30]\n",
    "list(zip(a,b))"
   ]
  },
  {
   "cell_type": "code",
   "execution_count": 13,
   "metadata": {},
   "outputs": [
    {
     "name": "stdout",
     "output_type": "stream",
     "text": [
      "[(1, 10), (2, 20), (3, 30)]\n",
      "[]\n"
     ]
    }
   ],
   "source": [
    "# Zip is lazy\n",
    "c = zip(a,b)\n",
    "print(list(c))\n",
    "print(list(c)) # Oops, lazy, so got zeroed by list"
   ]
  },
  {
   "cell_type": "code",
   "execution_count": 20,
   "metadata": {},
   "outputs": [
    {
     "name": "stdout",
     "output_type": "stream",
     "text": [
      "[(1, 10), (2, 20), (3, 30)]\n",
      "[(1, 2, 3), (10, 20, 30)]\n"
     ]
    }
   ],
   "source": [
    "# Unzipping\n",
    "c = list(zip(a,b))\n",
    "print(c)\n",
    "print(list(zip(*c))) # *c kinda created a virtual list of tuples, listed with commas"
   ]
  },
  {
   "cell_type": "code",
   "execution_count": 6,
   "metadata": {},
   "outputs": [
    {
     "name": "stdout",
     "output_type": "stream",
     "text": [
      "<map object at 0x000002C9331293C8>\n",
      "[1, 25, 144, 12321]\n"
     ]
    }
   ],
   "source": [
    "# Basic mapping\n",
    "\n",
    "x = [1, 5, 12, 111]\n",
    "y = map(lambda x: x**2, x)\n",
    "print(y)            # Note: lazy execution\n",
    "print(list(y))"
   ]
  },
  {
   "cell_type": "code",
   "execution_count": 8,
   "metadata": {},
   "outputs": [
    {
     "data": {
      "text/plain": [
       "[5, 6, 7]"
      ]
     },
     "execution_count": 8,
     "metadata": {},
     "output_type": "execute_result"
    }
   ],
   "source": [
    "# Mapping on 2 vars\n",
    "\n",
    "x = [1,3,5]\n",
    "y = [4,3,2]\n",
    "list(map(lambda x,y: x+y, x, y))"
   ]
  },
  {
   "cell_type": "code",
   "execution_count": 10,
   "metadata": {},
   "outputs": [
    {
     "name": "stdout",
     "output_type": "stream",
     "text": [
      "[1, 2, 3]\n",
      "[]\n"
     ]
    }
   ],
   "source": [
    "# Gotcha with iterators:\n",
    "\n",
    "y = map(lambda x: x, [1,2,3])\n",
    "print(list(y))\n",
    "print(list(y)) # y was used up by list(), so nothing is left"
   ]
  },
  {
   "cell_type": "code",
   "execution_count": null,
   "metadata": {},
   "outputs": [],
   "source": []
  }
 ],
 "metadata": {
  "kernelspec": {
   "display_name": "Python 3",
   "language": "python",
   "name": "python3"
  },
  "language_info": {
   "codemirror_mode": {
    "name": "ipython",
    "version": 3
   },
   "file_extension": ".py",
   "mimetype": "text/x-python",
   "name": "python",
   "nbconvert_exporter": "python",
   "pygments_lexer": "ipython3",
   "version": "3.7.6"
  }
 },
 "nbformat": 4,
 "nbformat_minor": 4
}
