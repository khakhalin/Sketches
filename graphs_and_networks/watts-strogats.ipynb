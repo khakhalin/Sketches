{
 "cells": [
  {
   "cell_type": "markdown",
   "metadata": {},
   "source": [
    "# WS graph creator"
   ]
  },
  {
   "cell_type": "code",
   "execution_count": 7,
   "metadata": {},
   "outputs": [],
   "source": [
    "import numpy as np"
   ]
  },
  {
   "cell_type": "code",
   "execution_count": 10,
   "metadata": {},
   "outputs": [],
   "source": [
    "def edges(g):\n",
    "    return set([(i,j) for i,v in g.items() for j in v])"
   ]
  },
  {
   "cell_type": "code",
   "execution_count": 192,
   "metadata": {},
   "outputs": [
    {
     "name": "stdout",
     "output_type": "stream",
     "text": [
      "{0: [4, 7], 1: [0, 5], 2: [1, 7], 3: [2, 5], 4: [3, 5], 5: [4, 8], 6: [5, 2], 7: [6, 2], 8: [7, 9], 9: [8, 0]}\n",
      "20\n"
     ]
    }
   ],
   "source": [
    "def make_ws(n, e, beta=0.3):\n",
    "    \"\"\"Makes an oriented Watts-Strogatz network with N nodes, E edges, and beta rewiring.\"\"\"\n",
    "    if e > n*(n - 1):\n",
    "        e = n*(n - 1)             # Max possible number of edges for a graph of N nodes\n",
    "    degree = (e // n)                  # Average out-degree, rounded down\n",
    "    n_with_extra_edge = e - (degree * n)    # Number of elements with k+2 degree    \n",
    "    g = {i: [] for i in range(n)} # Empty graph for now\n",
    "    \n",
    "    for i in range(n): # First, create a ring\n",
    "        edges_left  = degree // 2    \n",
    "        edges_right = degree - edges_left\n",
    "        if i < n_with_extra_edge:\n",
    "            jlist = range(i - edges_left, i + edges_right + 2)\n",
    "        else:\n",
    "            jlist = range(i - edges_left, i + edges_right + 1)\n",
    "        for j in jlist:            \n",
    "            if j == i:    # Don't connect to itself\n",
    "                continue\n",
    "            jp = j % n # Loop aroudn the ring\n",
    "            if jp not in g[i]: g[i].append(jp)            \n",
    "\n",
    "    for i in range(n):  # Rewire edges for each node\n",
    "        js = [j for j in g[i] if j > i]  # Only Those to the right are to be rewired\n",
    "        for j in js:\n",
    "            if np.random.uniform() < beta:  # Coin toss                \n",
    "                k = i           # Set to a deliberately bad choice (self)\n",
    "                while k == i or (k in g[i]):  # Draw while unhappy (self, old, or existing)\n",
    "                    k = np.random.randint(n)\n",
    "                    # Note that with high enough e, we'll get an infinite loop here,\n",
    "                    # as rewiring will be impossible.\n",
    "                g[i].remove(j)  # Unwire\n",
    "                g[i].append(k)                \n",
    "    return g\n",
    "\n",
    "g = make_ws(10, 20, beta=0.8)\n",
    "print(g)\n",
    "print(len(edges(g)))"
   ]
  }
 ],
 "metadata": {
  "kernelspec": {
   "display_name": "Python 3",
   "language": "python",
   "name": "python3"
  },
  "language_info": {
   "codemirror_mode": {
    "name": "ipython",
    "version": 3
   },
   "file_extension": ".py",
   "mimetype": "text/x-python",
   "name": "python",
   "nbconvert_exporter": "python",
   "pygments_lexer": "ipython3",
   "version": "3.7.6"
  }
 },
 "nbformat": 4,
 "nbformat_minor": 4
}
