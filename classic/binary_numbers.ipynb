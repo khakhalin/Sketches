{
 "cells": [
  {
   "cell_type": "markdown",
   "metadata": {},
   "source": [
    "# Generate binary numbers"
   ]
  },
  {
   "cell_type": "code",
   "execution_count": 12,
   "metadata": {},
   "outputs": [
    {
     "data": {
      "text/plain": [
       "[[0, 0, 0],\n",
       " [0, 0, 1],\n",
       " [0, 1, 0],\n",
       " [0, 1, 1],\n",
       " [1, 0, 0],\n",
       " [1, 0, 1],\n",
       " [1, 1, 0],\n",
       " [1, 1, 1]]"
      ]
     },
     "execution_count": 12,
     "metadata": {},
     "output_type": "execute_result"
    }
   ],
   "source": [
    "# Recursive one-liner\n",
    "\n",
    "def binary0(n):\n",
    "    return [[a]+b for a in [0,1] for b in binary0(n-1)] if n else [[]]\n",
    "\n",
    "binary0(3)"
   ]
  },
  {
   "cell_type": "code",
   "execution_count": 5,
   "metadata": {},
   "outputs": [
    {
     "data": {
      "text/plain": [
       "[[0, 0, 0],\n",
       " [1, 0, 0],\n",
       " [0, 1, 0],\n",
       " [1, 1, 0],\n",
       " [0, 0, 1],\n",
       " [1, 0, 1],\n",
       " [0, 1, 1],\n",
       " [1, 1, 1]]"
      ]
     },
     "execution_count": 5,
     "metadata": {},
     "output_type": "execute_result"
    }
   ],
   "source": [
    "# Addition\n",
    "\n",
    "def binary1(n):\n",
    "    a = [0]*n\n",
    "    out = [a.copy()]\n",
    "    for i in range(2**n-1):\n",
    "        j = 0\n",
    "        while a[j]==1:\n",
    "            a[j] = 0\n",
    "            j += 1\n",
    "        a[j] = 1\n",
    "        out.append(a.copy())\n",
    "    return out\n",
    "\n",
    "binary1(3)"
   ]
  },
  {
   "cell_type": "code",
   "execution_count": 16,
   "metadata": {},
   "outputs": [
    {
     "data": {
      "text/plain": [
       "[[0, 0, 0],\n",
       " [0, 0, 1],\n",
       " [0, 1, 0],\n",
       " [0, 1, 1],\n",
       " [1, 0, 0],\n",
       " [1, 0, 1],\n",
       " [1, 1, 0],\n",
       " [1, 1, 1]]"
      ]
     },
     "execution_count": 16,
     "metadata": {},
     "output_type": "execute_result"
    }
   ],
   "source": [
    "def to_binary(n):\n",
    "    k = n\n",
    "    out = []\n",
    "    while k>0:\n",
    "        out = [k % 2]+out\n",
    "        k = k//2\n",
    "    return out\n",
    "\n",
    "def binary2(n):\n",
    "    out = []\n",
    "    for i in range(2**n):\n",
    "        l = to_binary(i)\n",
    "        l = [0]*(n-len(l)) + l\n",
    "        out.append(l)\n",
    "    return out\n",
    "\n",
    "binary2(3)"
   ]
  },
  {
   "cell_type": "code",
   "execution_count": 19,
   "metadata": {},
   "outputs": [
    {
     "data": {
      "text/plain": [
       "[[0, 0, 0],\n",
       " [0, 0, 1],\n",
       " [0, 1, 0],\n",
       " [0, 1, 1],\n",
       " [1, 0, 0],\n",
       " [1, 0, 1],\n",
       " [1, 1, 0],\n",
       " [1, 1, 1]]"
      ]
     },
     "execution_count": 19,
     "metadata": {},
     "output_type": "execute_result"
    }
   ],
   "source": [
    "# A bad old variety of the top recursive one-liner\n",
    "\n",
    "def binary3(n):\n",
    "    if n==0: return [[]]\n",
    "    smaller = binary3(n-1)\n",
    "    return [[0]+i for i in smaller] + [[1]+i for i in smaller]\n",
    "\n",
    "binary3(3)"
   ]
  }
 ],
 "metadata": {
  "kernelspec": {
   "display_name": "Python 3",
   "language": "python",
   "name": "python3"
  },
  "language_info": {
   "codemirror_mode": {
    "name": "ipython",
    "version": 3
   },
   "file_extension": ".py",
   "mimetype": "text/x-python",
   "name": "python",
   "nbconvert_exporter": "python",
   "pygments_lexer": "ipython3",
   "version": "3.7.6"
  }
 },
 "nbformat": 4,
 "nbformat_minor": 4
}
