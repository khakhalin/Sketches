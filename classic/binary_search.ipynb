{
 "cells": [
  {
   "cell_type": "markdown",
   "metadata": {},
   "source": [
    "### Binary search"
   ]
  },
  {
   "cell_type": "code",
   "execution_count": 3,
   "metadata": {},
   "outputs": [],
   "source": [
    "import numpy as np\n",
    "import matplotlib.pyplot as plt\n",
    "import time"
   ]
  },
  {
   "cell_type": "code",
   "execution_count": 4,
   "metadata": {},
   "outputs": [
    {
     "name": "stdout",
     "output_type": "stream",
     "text": [
      "[0 1 1 2 3 5 7 8 8 9]\n",
      "[0 1 2 3 4 5 6 7 8 9]\n"
     ]
    }
   ],
   "source": [
    "def generate(k, kind='randint'):\n",
    "    # Generate a sorted array of length k\n",
    "    if kind=='randint':\n",
    "        return np.sort(np.random.randint(size=k, low=0, high=k))\n",
    "    if kind=='unique':\n",
    "        return np.array(list(range(k)))\n",
    "\n",
    "print(generate(10))\n",
    "print(generate(10, 'unique'))"
   ]
  },
  {
   "cell_type": "code",
   "execution_count": 5,
   "metadata": {},
   "outputs": [
    {
     "name": "stdout",
     "output_type": "stream",
     "text": [
      "[0 0 0 0 1 2 3 3 4 6]\n"
     ]
    },
    {
     "data": {
      "text/plain": [
       "5"
      ]
     },
     "execution_count": 5,
     "metadata": {},
     "output_type": "execute_result"
    }
   ],
   "source": [
    "# With recursion\n",
    "\n",
    "def bsr(nums,token,l=0,r=None):\n",
    "    \"\"\"Binary search, recursive.\"\"\"\n",
    "    if l==r:\n",
    "        return l\n",
    "    if r is None:\n",
    "        r = len(nums)-1\n",
    "    m = (l+r) // 2\n",
    "    if token>nums[m]:\n",
    "        l = m+1\n",
    "    else:\n",
    "        r = m\n",
    "    return bsr(nums,token,l,r)    \n",
    "\n",
    "x = generate(10)\n",
    "print(x)\n",
    "bsr(x,x[5])"
   ]
  },
  {
   "cell_type": "code",
   "execution_count": 25,
   "metadata": {},
   "outputs": [
    {
     "name": "stdout",
     "output_type": "stream",
     "text": [
      "-0.5 0\n",
      "0.0 0\n",
      "0.5 1\n",
      "1.0 1\n",
      "1.5 2\n",
      "2.0 2\n",
      "2.5 2\n"
     ]
    }
   ],
   "source": [
    "# With a loop (no recursion)\n",
    "\n",
    "def bsl(nums, target):\n",
    "    \"\"\"Binary search, loop.\"\"\"\n",
    "    l = 0\n",
    "    r = len(nums)-1\n",
    "    while l<r:\n",
    "        m = (l+r)//2\n",
    "        if target>nums[m]:  # If you do >= instead of > here, you'll lose a match, and enter inf loop\n",
    "            l = m+1         # This moving up is critical to avoid inf loop with r=l+1 and l<x<r\n",
    "        else:\n",
    "            r = m           # Note that r is always above the element of interest\n",
    "    return l\n",
    "\n",
    "# print(bsl([1,2,4,6,7],6))\n",
    "\n",
    "# Binary search always finds an element that is == or > than the target\n",
    "for i in range(7):\n",
    "    x = i/2 - 0.5\n",
    "    print(x, bsl([0,1,2], x))"
   ]
  },
  {
   "cell_type": "markdown",
   "metadata": {},
   "source": [
    "In other words, here's the logic of binary search:\n",
    "\n",
    "* if x < all elements, return 0\n",
    "* if x is in the list, return the index\n",
    "* if x is in-between elements, return the first element above x\n",
    "* if x > all elements, return length (aka last+1)\n",
    "\n",
    "Because of how binary search handles out-of-range, in case of imprecise search, the last condition should be considered separately. For the first one, you can still claim that BS returnes the smallest element >= x, so you can just handle cases of `x==nums[i]` and `x<nums[i]` separately, and you're fine."
   ]
  },
  {
   "cell_type": "markdown",
   "metadata": {},
   "source": [
    "### Now some bechmarking tests"
   ]
  },
  {
   "cell_type": "code",
   "execution_count": 5,
   "metadata": {},
   "outputs": [
    {
     "data": {
      "text/plain": [
       "3"
      ]
     },
     "execution_count": 5,
     "metadata": {},
     "output_type": "execute_result"
    }
   ],
   "source": [
    "def ls(nums,token):\n",
    "    \"\"\"Linear search, for benchmarking purposes.\"\"\"\n",
    "    i = 0\n",
    "    while nums[i]<token:\n",
    "        i += 1\n",
    "    return i\n",
    "\n",
    "ls(x,x[5])"
   ]
  },
  {
   "cell_type": "code",
   "execution_count": 31,
   "metadata": {},
   "outputs": [],
   "source": [
    "ntrials = 5000\n",
    "maxrowlen = 25\n",
    "f = [ls, bsr, bsl]\n",
    "names = ['Linear', 'Binary recursive', 'Binary loop']\n",
    "\n",
    "times = np.zeros((maxrowlen,len(f)))\n",
    "x = generate(rowlen, 'unique')\n",
    "for i_f in range(len(f)):\n",
    "    for rowlen in range(1,maxrowlen):\n",
    "        tic = time.time()\n",
    "        for itrial in range(ntrials):\n",
    "            for i in range(rowlen):\n",
    "                f[i_f](x,x[i])\n",
    "        times[rowlen,i_f] = time.time()-tic"
   ]
  },
  {
   "cell_type": "code",
   "execution_count": 32,
   "metadata": {
    "scrolled": true
   },
   "outputs": [
    {
     "data": {
      "image/png": "[encoded data removed]",
      "text/plain": [
       "<Figure size 432x288 with 1 Axes>"
      ]
     },
     "metadata": {
      "needs_background": "light"
     },
     "output_type": "display_data"
    }
   ],
   "source": [
    "plt.plot(times);\n",
    "plt.legend(labels=names);\n",
    "plt.xlabel('List length');\n",
    "plt.ylabel('Total search time');"
   ]
  },
  {
   "cell_type": "markdown",
   "metadata": {},
   "source": [
    "**Observation:** For uniformly distributed search tokens, and unique elements, linear search is better than binary for rows shorter than 12 or so (in case of binary search coded as a loop), and up to rows of about 20 if recursion is used.\n",
    "\n",
    "So in practice we should never use recursion, that's for sure, but also linear search may in some cases be preferable."
   ]
  },
  {
   "cell_type": "code",
   "execution_count": 19,
   "metadata": {},
   "outputs": [],
   "source": [
    "ntrials = 5000\n",
    "maxrowlen = 25\n",
    "f = [ls, bsr, bsl]\n",
    "names = ['Linear', 'Binary recursive', 'Binary loop']\n",
    "\n",
    "times = np.zeros((maxrowlen,len(f)))\n",
    "for i_f in range(len(f)):\n",
    "    for rowlen in range(1,maxrowlen):\n",
    "        tic = time.time()\n",
    "        for itrial in range(ntrials):\n",
    "            x = generate(rowlen, 'randint')\n",
    "            for i in range(rowlen):\n",
    "                f[i_f](x,x[i])\n",
    "        times[rowlen,i_f] = time.time()-tic"
   ]
  },
  {
   "cell_type": "code",
   "execution_count": 17,
   "metadata": {},
   "outputs": [
    {
     "data": {
      "image/png": "[encoded data removed]",
      "text/plain": [
       "<Figure size 432x288 with 1 Axes>"
      ]
     },
     "metadata": {
      "needs_background": "light"
     },
     "output_type": "display_data"
    }
   ],
   "source": [
    "plt.plot(times);\n",
    "plt.legend(labels=names);\n",
    "plt.xlabel('List length');\n",
    "plt.ylabel('Total search time');"
   ]
  },
  {
   "cell_type": "markdown",
   "metadata": {},
   "source": [
    "**Observation:** if numbers are sometimes repeated, linear search and looped binary search perform very similarly up to n of about 12. Linear search still leads over recursive up to n of 20."
   ]
  }
 ],
 "metadata": {
  "kernelspec": {
   "display_name": "Python 3",
   "language": "python",
   "name": "python3"
  },
  "language_info": {
   "codemirror_mode": {
    "name": "ipython",
    "version": 3
   },
   "file_extension": ".py",
   "mimetype": "text/x-python",
   "name": "python",
   "nbconvert_exporter": "python",
   "pygments_lexer": "ipython3",
   "version": "3.7.6"
  }
 },
 "nbformat": 4,
 "nbformat_minor": 2
}
