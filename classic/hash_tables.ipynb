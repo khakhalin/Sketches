{
 "cells": [
  {
   "cell_type": "markdown",
   "metadata": {},
   "source": [
    "# Hashtables manually\n",
    "\n",
    "Some info on the topic:\n",
    "\n",
    "* https://www.geeksforgeeks.org/hashing-set-2-separate-chaining/\n",
    "* https://www.geeksforgeeks.org/hashing-set-3-open-addressing/"
   ]
  },
  {
   "cell_type": "code",
   "execution_count": 49,
   "metadata": {},
   "outputs": [
    {
     "name": "stdout",
     "output_type": "stream",
     "text": [
      "[0, 158, 60, 218, 120, 23, 181, 83, 241, 143, 46, 204, 106, 8, 167, 69, 227, 129, 31, 190, 92, 250, 152, 54, 213, 115, 17, 175, 78, 236, 138, 40, 198, 101, 3, 161, 63, 222, 124, 26, 184, 86, 245, 147, 49, 207, 109, 12, 170, 72, 230, 133, 35, 193, 95, 253, 156, 58, 216, 118, 21, 179, 81, 239, 141, 44, 202, 104, 6, 164, 67, 225, 127, 29, 188, 90, 248, 150, 52, 211, 113, 15, 173, 75, 234, 136, 38, 196, 99, 1, 159, 61, 219, 122, 24, 182, 84, 243, 145, 47]\n"
     ]
    }
   ],
   "source": [
    "# Hash functions\n",
    "\n",
    "def multiply_shift(x):\n",
    "    WORDLENGTH = 32\n",
    "    TARGET_SIZE = 8\n",
    "    return (2654435769*x & (2**WORDLENGTH-1)) >> (WORDLENGTH-TARGET_SIZE)\n",
    "\n",
    "print([multiply_shift(i) for i in range(100)])"
   ]
  },
  {
   "cell_type": "code",
   "execution_count": 1,
   "metadata": {},
   "outputs": [
    {
     "name": "stdout",
     "output_type": "stream",
     "text": [
      "cat:5\n",
      "None\n",
      "dog:100 → 5:12\n",
      "\n",
      "12\n",
      "None\n",
      "\n",
      "cat:5\n",
      "None\n",
      "5:12\n"
     ]
    }
   ],
   "source": [
    "class Htsc:\n",
    "    \"\"\"Hash table with separate chaining.\"\"\"\n",
    "    class Node:\n",
    "        \"\"\"Linked list node.\"\"\"\n",
    "        def __init__(self,key=None,val=None):\n",
    "            self.key = key\n",
    "            self.val = val\n",
    "            self.next = None\n",
    "        \n",
    "        def __str__(self):\n",
    "            out = str(self.key) + ':' + str(self.val)\n",
    "            if self.next is None:\n",
    "                return out\n",
    "            return out + ' → ' + str(self.next)\n",
    "        \n",
    "        def push(self,key,val):\n",
    "            if self.key is None:\n",
    "                self.key = key\n",
    "                self.val = val\n",
    "            elif self.key==key:\n",
    "                self.val = val\n",
    "            elif self.next is None:\n",
    "                self.next = Htsc.Node(key,val) # No other way to reference outer class\n",
    "            else:\n",
    "                self.next.push(key,val)\n",
    "                \n",
    "        def read(self,key):\n",
    "            if self.key == key:\n",
    "                return self.val\n",
    "            elif self.next is None:\n",
    "                return None\n",
    "            return self.next.read(key)\n",
    "            \n",
    "        def rm(self,key):\n",
    "            if self.key == key:\n",
    "                return self.next\n",
    "            if self.next is not None:\n",
    "                self.next = self.next.rm(key) # Recurrent elimination\n",
    "                return self\n",
    "            raise KeyError('Invalid key')\n",
    "    \n",
    "    def __init__(self,m=11):\n",
    "        self.m = m # Some prime\n",
    "        self.array = [None]*self.m\n",
    "    \n",
    "    def hf(self,key):\n",
    "        \"\"\"Hash function\"\"\"\n",
    "        if type(key) is int:\n",
    "            return key % self.m\n",
    "        if type(key) is str:\n",
    "            out = 0\n",
    "            for s in list(key):\n",
    "                out = out*127 + ord(s) # 127 is prime, and comparable to ord(z)\n",
    "            return out % self.m        \n",
    "    \n",
    "    def add(self,key,val):\n",
    "        \"\"\"Add a value.\"\"\"\n",
    "        h = self.hf(key)\n",
    "        if self.array[h] is None:\n",
    "            self.array[h] = Htsc.Node(key,val)\n",
    "        else:\n",
    "            self.array[h].push(key,val)\n",
    "        \n",
    "    def get(self,key):\n",
    "        \"\"\"Read a value.\"\"\"\n",
    "        h = self.hf(key)\n",
    "        if self.array[h] is None:\n",
    "            return None\n",
    "        return self.array[h].read(key)\n",
    "    \n",
    "    def rm(self,key):\n",
    "        h = self.hf(key)\n",
    "        if self.array[h] is None:\n",
    "            raise KeyError('Invalid key')\n",
    "        self.array[h] = self.array[h].rm(key)\n",
    "    \n",
    "    def print(self):\n",
    "        for n in self.array:\n",
    "            print(n)\n",
    "    \n",
    "# Testing\n",
    "ht = Htsc(m=3)\n",
    "ht.add('cat',5)\n",
    "ht.add('dog',100)\n",
    "ht.add(5,7)  # Writing on the same place, but with a different key\n",
    "ht.add(5,12) # Same key\n",
    "ht.print()\n",
    "print()\n",
    "print(ht.get(5))\n",
    "print(ht.get(7))\n",
    "print()\n",
    "ht.rm('dog')\n",
    "ht.print()\n",
    "#ht.rm('cow') # Returns an error"
   ]
  },
  {
   "cell_type": "code",
   "execution_count": 67,
   "metadata": {},
   "outputs": [
    {
     "name": "stdout",
     "output_type": "stream",
     "text": [
      "cat:5 → 0:0 → 3:3 → 6:6 → 9:9\n",
      "1:1 → 4:4 → 7:7\n",
      "5:5 → 2:2 → 8:8\n"
     ]
    }
   ],
   "source": [
    "for i in range(10): # Testing overlow (this hashmap shouldn't overflow)\n",
    "    ht.add(i,i)\n",
    "ht.print()"
   ]
  },
  {
   "cell_type": "code",
   "execution_count": 2,
   "metadata": {},
   "outputs": [
    {
     "name": "stdout",
     "output_type": "stream",
     "text": [
      "(6, 12) (13, 'Collision') None None ('cat', 5) None ('dog', 100)\n",
      "12\n",
      "100\n",
      "None\n",
      "del (13, 'Collision') None None ('cat', 5) None ('dog', 100)\n",
      "Collision\n"
     ]
    }
   ],
   "source": [
    "class Htlp:\n",
    "    \"\"\"Hash table with linear probing.\"\"\"\n",
    "    def __init__(self,m=7):\n",
    "        self.m = m  # Size\n",
    "        self.a = [None]*self.m\n",
    "        \n",
    "    def __str__(self):\n",
    "        return ' '.join([str(a) for a in self.a])\n",
    "    \n",
    "    def hf(self,key):\n",
    "        \"\"\"Hash function\"\"\"\n",
    "        if type(key) is int:\n",
    "            return key % self.m\n",
    "        if type(key) is str:\n",
    "            out = 0\n",
    "            for s in list(key):\n",
    "                out = out*127 + ord(s) # 127 is prime, and comparable to ord(z)\n",
    "            return out % self.m    \n",
    "    \n",
    "    def add(self,key,val):\n",
    "        i = self.hf(key)\n",
    "        # print(key,'->',i)\n",
    "        j = 0\n",
    "        while j < self.m:\n",
    "            k = (i+j) % self.m\n",
    "            if self.a[k] in [None,'del']: # None for pristine, del for deleted (special magic value)\n",
    "                self.a[k] = (key,val)\n",
    "                return\n",
    "            if self.a[k][0]==key: # At this point we know it's not None\n",
    "                self.a[k] = (key,val)\n",
    "                return\n",
    "            j += 1\n",
    "        raise MemoryError('Hashmap overflow.')      # We're not looping to the beginning, but we could\n",
    "        \n",
    "    def find(self,key):\n",
    "        i = self.hf(key)\n",
    "        j = 0\n",
    "        while j<self.m:\n",
    "            k = (i+j) % self.m\n",
    "            if self.a[k] is None:\n",
    "                return None\n",
    "            if self.a[k]=='del': # We should continue on dels, as if they were normal values\n",
    "                j += 1\n",
    "                continue\n",
    "            if self.a[k][0]==key:\n",
    "                return k\n",
    "            j += 1 # Strictly speaking 'del' above can be tucked into this case (no need for a separate 'if')\n",
    "        return None\n",
    "    \n",
    "    def get(self,key):\n",
    "        k = self.find(key)\n",
    "        if k is None: return None\n",
    "        return self.a[k][1]\n",
    "    \n",
    "    def rm(self,key):\n",
    "        k = self.find(key)\n",
    "        if k is None: raise KeyError('Invalid key')\n",
    "        self.a[k] = 'del'\n",
    "    \n",
    "ht = Htlp(m=7)\n",
    "ht.add('cat',5)\n",
    "ht.add('dog',100)\n",
    "ht.add(6,7)  # Writing on the same place, but with a different key\n",
    "ht.add(6,12) # Same key\n",
    "ht.add(13,'Collision')\n",
    "print(ht)\n",
    "print(ht.get(6))\n",
    "print(ht.get('dog'))\n",
    "print(ht.get('cow'))\n",
    "ht.rm(6)\n",
    "print(ht)\n",
    "print(ht.get(13))"
   ]
  },
  {
   "cell_type": "code",
   "execution_count": 53,
   "metadata": {},
   "outputs": [
    {
     "ename": "MemoryError",
     "evalue": "Hashmap overflow.",
     "output_type": "error",
     "traceback": [
      "\u001b[1;31m---------------------------------------------------------------------------\u001b[0m",
      "\u001b[1;31mMemoryError\u001b[0m                               Traceback (most recent call last)",
      "\u001b[1;32m<ipython-input-53-baac204016fc>\u001b[0m in \u001b[0;36m<module>\u001b[1;34m\u001b[0m\n\u001b[0;32m      1\u001b[0m \u001b[1;32mfor\u001b[0m \u001b[0mi\u001b[0m \u001b[1;32min\u001b[0m \u001b[0mrange\u001b[0m\u001b[1;33m(\u001b[0m\u001b[1;36m10\u001b[0m\u001b[1;33m)\u001b[0m\u001b[1;33m:\u001b[0m\u001b[1;33m\u001b[0m\u001b[1;33m\u001b[0m\u001b[0m\n\u001b[1;32m----> 2\u001b[1;33m     \u001b[0mht\u001b[0m\u001b[1;33m.\u001b[0m\u001b[0madd\u001b[0m\u001b[1;33m(\u001b[0m\u001b[0mi\u001b[0m\u001b[1;33m,\u001b[0m\u001b[0mi\u001b[0m\u001b[1;33m)\u001b[0m\u001b[1;33m\u001b[0m\u001b[1;33m\u001b[0m\u001b[0m\n\u001b[0m",
      "\u001b[1;32m<ipython-input-52-83836f7d0f6d>\u001b[0m in \u001b[0;36madd\u001b[1;34m(self, key, val)\u001b[0m\n\u001b[0;32m     31\u001b[0m                 \u001b[1;32mreturn\u001b[0m\u001b[1;33m\u001b[0m\u001b[1;33m\u001b[0m\u001b[0m\n\u001b[0;32m     32\u001b[0m             \u001b[0mj\u001b[0m \u001b[1;33m+=\u001b[0m \u001b[1;36m1\u001b[0m\u001b[1;33m\u001b[0m\u001b[1;33m\u001b[0m\u001b[0m\n\u001b[1;32m---> 33\u001b[1;33m         \u001b[1;32mraise\u001b[0m \u001b[0mMemoryError\u001b[0m\u001b[1;33m(\u001b[0m\u001b[1;34m'Hashmap overflow.'\u001b[0m\u001b[1;33m)\u001b[0m\u001b[1;33m\u001b[0m\u001b[1;33m\u001b[0m\u001b[0m\n\u001b[0m\u001b[0;32m     34\u001b[0m \u001b[1;33m\u001b[0m\u001b[0m\n\u001b[0;32m     35\u001b[0m     \u001b[1;32mdef\u001b[0m \u001b[0mfind\u001b[0m\u001b[1;33m(\u001b[0m\u001b[0mself\u001b[0m\u001b[1;33m,\u001b[0m\u001b[0mkey\u001b[0m\u001b[1;33m)\u001b[0m\u001b[1;33m:\u001b[0m\u001b[1;33m\u001b[0m\u001b[1;33m\u001b[0m\u001b[0m\n",
      "\u001b[1;31mMemoryError\u001b[0m: Hashmap overflow."
     ]
    }
   ],
   "source": [
    "for i in range(10): # This should overflow the hashmap\n",
    "    ht.add(i,i)"
   ]
  },
  {
   "cell_type": "code",
   "execution_count": 35,
   "metadata": {},
   "outputs": [
    {
     "name": "stdout",
     "output_type": "stream",
     "text": [
      "[2, 3, 4, 5, 6, 10, 12, 15, 20, 30]\n",
      "[3, 11923]\n"
     ]
    }
   ],
   "source": [
    "def divisors(k):\n",
    "    \"\"\"A quick silly tool to find prime numbers.\"\"\"\n",
    "    return [i for i in range(2,k-1) if k % i==0]\n",
    "\n",
    "print(divisors(60))\n",
    "print(divisors(35769))"
   ]
  }
 ],
 "metadata": {
  "kernelspec": {
   "display_name": "Python 3",
   "language": "python",
   "name": "python3"
  },
  "language_info": {
   "codemirror_mode": {
    "name": "ipython",
    "version": 3
   },
   "file_extension": ".py",
   "mimetype": "text/x-python",
   "name": "python",
   "nbconvert_exporter": "python",
   "pygments_lexer": "ipython3",
   "version": "3.7.6"
  }
 },
 "nbformat": 4,
 "nbformat_minor": 2
}
