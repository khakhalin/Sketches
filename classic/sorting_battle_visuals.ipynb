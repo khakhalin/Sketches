{
 "cells": [
  {
   "cell_type": "markdown",
   "metadata": {},
   "source": [
    "## Sorting algorythms fighting each other"
   ]
  },
  {
   "cell_type": "code",
   "execution_count": 4,
   "metadata": {},
   "outputs": [],
   "source": [
    "row = 'sphynx of black quartz, judge my vow!'"
   ]
  },
  {
   "cell_type": "markdown",
   "metadata": {},
   "source": [
    "### Insert sort"
   ]
  },
  {
   "cell_type": "code",
   "execution_count": 5,
   "metadata": {},
   "outputs": [
    {
     "data": {
      "text/plain": [
       "[1, 3, 4, 2, 5]"
      ]
     },
     "execution_count": 5,
     "metadata": {},
     "output_type": "execute_result"
    }
   ],
   "source": [
    "def ns(a, n_changes=None):\n",
    "    if len(a)<=1: return a\n",
    "    count = 0\n",
    "    for i in range(1,len(a)):\n",
    "        j = i\n",
    "        while a[j]<a[j-1] and j>=1:\n",
    "            a[j-1],a[j] = a[j],a[j-1]\n",
    "            count += 1\n",
    "            if n_changes and count >= n_changes:\n",
    "                return a # Early termination\n",
    "            j -= 1\n",
    "    return a\n",
    "\n",
    "ns([1,4,3,5,2], 2)"
   ]
  },
  {
   "cell_type": "markdown",
   "metadata": {},
   "source": [
    "### Select sort"
   ]
  },
  {
   "cell_type": "code",
   "execution_count": 6,
   "metadata": {},
   "outputs": [
    {
     "data": {
      "text/plain": [
       "'      !,aabcdefghjklmnoopqrstuuvwxyyz'"
      ]
     },
     "execution_count": 6,
     "metadata": {},
     "output_type": "execute_result"
    }
   ],
   "source": [
    "def ss(a):\n",
    "    for i in range(len(a)):\n",
    "        m = a[i]           # Current minimum\n",
    "        c = i\n",
    "        for j in range(i+1,len(a)):\n",
    "            if a[j]<m:     # Find smallest element\n",
    "                m = a[j]\n",
    "                c = j                \n",
    "        if c>i:\n",
    "            (a[i],a[c]) = (a[c],a[i])\n",
    "    return a\n",
    "\n",
    "''.join(ss(list(row)))"
   ]
  },
  {
   "cell_type": "markdown",
   "metadata": {},
   "source": [
    "### Quicksort"
   ]
  },
  {
   "cell_type": "code",
   "execution_count": 7,
   "metadata": {},
   "outputs": [
    {
     "name": "stdout",
     "output_type": "stream",
     "text": [
      "Search: [0, 0, 5]\n",
      "Hide pivot from 0\n",
      "[4, 2, 1, 4, 0]\n",
      "Store former pivot at 0\n",
      "[0, 2, 1, 4, 4]\n",
      "Search: [1, 4, 5]\n",
      "Store former pivot at 3\n",
      "[0, 2, 1, 4, 4]\n",
      "Search: [1, 2, 3]\n",
      "Store former pivot at 1\n",
      "[0, 1, 2, 4, 4]\n"
     ]
    },
    {
     "data": {
      "text/plain": [
       "[0, 1, 2, 4, 4]"
      ]
     },
     "execution_count": 7,
     "metadata": {},
     "output_type": "execute_result"
    }
   ],
   "source": [
    "def qs(a, n_changes=None, verbose=False):\n",
    "    if len(a)<=1:  return a\n",
    "    queue = [(0, len(a))] # Queue of sort-brackets; each of them a tuple\n",
    "    swap_counter = 0\n",
    "    while queue:\n",
    "        # print(queue)\n",
    "        leftest, rightest = queue.pop(0)           # Limits for sorting, with simple names\n",
    "        if (rightest-leftest)<3:   p = rightest-1  # Last element will be our pivot element\n",
    "        else:                           # smart pivot: best (middlest) of three values\n",
    "            m = leftest + (rightest-leftest) // 2               # Median position\n",
    "            if a[leftest]<=a[m] and a[m]<=a[rightest-1]:          p = m\n",
    "            if a[leftest]<=a[rightest-1] and a[rightest-1]<=a[m]: p = rightest-1\n",
    "            else:                                                 p = leftest\n",
    "        if verbose: print(f\"Search: {[leftest, p , rightest]}\")\n",
    "        pivot_value = a[p] # For tracking, below\n",
    "        if p < rightest-1:\n",
    "            a[p],a[rightest-1] = a[rightest-1],a[p]    # Hide pivot element at the end\n",
    "            if verbose: \n",
    "                print(f\"Hide pivot from {p}\")\n",
    "                print(a)\n",
    "\n",
    "        l = leftest                         # pointer to where small values will be shoved\n",
    "        for r in range(leftest,rightest-1): # For each non-pivot\n",
    "            if a[r]<a[rightest-1]:          # If smaller than pivot,\n",
    "                if r>l:             # and is located on the right from the running border\n",
    "                    (a[r],a[l]) = (a[l],a[r]) # Swap (shove it to the left)\n",
    "                    swap_counter += 1\n",
    "                    if verbose:\n",
    "                        print(f\"Swap {(l,r)}\")\n",
    "                        print(a)\n",
    "                l += 1              # Shift the running border\n",
    "                if swap_counter >= n_changes:\n",
    "                    break       # Cannot return yet - need put the pivot back\n",
    "\n",
    "        # By the end of this, all a<pivot are in locations<l\n",
    "        # and all a>pivot (if any) are in l to n-1    \n",
    "        (a[l],a[rightest-1]) = (a[rightest-1],a[l]) # Set former pivot as a separator between halves        \n",
    "        if verbose:\n",
    "            print(f\"Store former pivot at {l}\")\n",
    "            print(a)\n",
    "        if a[l] != pivot_value:                  # If pivot moved, it counts as a swap\n",
    "            swap_counter += 1        \n",
    "        if swap_counter >= n_changes:\n",
    "            return a                # Now can eject\n",
    "        \n",
    "        # Instead of recursion, put left and right searches on the stack\n",
    "        if l-leftest >= 2:\n",
    "            queue.append((leftest, l))\n",
    "        if rightest-(l+1) >= 2:\n",
    "            queue.append((l+1, rightest))        \n",
    "    return a\n",
    "\n",
    "#qs([6,1,4,7,3,5,2], 6, verbose=True)\n",
    "#qs([4,4,3,5,5,6,5], 20, verbose=True)\n",
    "qs([0,2,1,4,4], 20, verbose=True)"
   ]
  },
  {
   "cell_type": "markdown",
   "metadata": {},
   "source": [
    "As it can be seen from an example above, `n_changes` doesn't quite work right now, as swapping pivot, then swapping it to a new place can actually lead to a cyclical shift if other elements were touched... It still puts a limit on the number of operations, but it may be off.\n",
    "\n",
    "Still, counting original pivot-swapping as a legit swap is probably incorrect as well, as on its own (without a back-swap) it doesn't necessarily improve the swappennes of the array. So not sure what to do."
   ]
  },
  {
   "cell_type": "code",
   "execution_count": 8,
   "metadata": {},
   "outputs": [
    {
     "data": {
      "text/plain": [
       "[1, 2, 3, 4, 5, 6, 7]"
      ]
     },
     "execution_count": 8,
     "metadata": {},
     "output_type": "execute_result"
    }
   ],
   "source": [
    "qs([6,1,4,7,3,5,2], 1000)"
   ]
  },
  {
   "cell_type": "markdown",
   "metadata": {},
   "source": [
    "### Mergesort"
   ]
  },
  {
   "cell_type": "code",
   "execution_count": 9,
   "metadata": {},
   "outputs": [
    {
     "data": {
      "text/plain": [
       "'      !,aabcdefghjklmnoopqrstuuvwxyyz'"
      ]
     },
     "execution_count": 9,
     "metadata": {},
     "output_type": "execute_result"
    }
   ],
   "source": [
    "def ms(a):\n",
    "    \"\"\"A not-in-place version of mergesort.\n",
    "    To make it in-place, instead of appending to o, add another counter,\n",
    "    and copy right into a.\"\"\"\n",
    "    if len(a)<=1:\n",
    "        return a\n",
    "    mid = len(a) // 2\n",
    "    al = ms(a[:mid])\n",
    "    ar = ms(a[mid:])\n",
    "    i = j = 0\n",
    "    o = []\n",
    "    while (i<len(al)) or (j<len(ar)):\n",
    "        if i>=mid:           # Left array is over, draw from the right\n",
    "            o.append(ar[j])\n",
    "            j += 1\n",
    "        elif j>=len(ar):     # Right array is over, draf from the left\n",
    "            o.append(al[i])\n",
    "            i += 1\n",
    "        elif al[i]<ar[j]:    # Both are fine: compare\n",
    "            o.append(al[i])\n",
    "            i += 1\n",
    "        else:\n",
    "            o.append(ar[j])\n",
    "            j += 1\n",
    "    return o\n",
    "    \n",
    "''.join(ms(list(row)))"
   ]
  },
  {
   "cell_type": "markdown",
   "metadata": {},
   "source": [
    "-----------------\n",
    "\n",
    "# Simple visualization"
   ]
  },
  {
   "cell_type": "code",
   "execution_count": 10,
   "metadata": {},
   "outputs": [],
   "source": [
    "import numpy as np\n",
    "import matplotlib.pyplot as plt"
   ]
  },
  {
   "cell_type": "code",
   "execution_count": 11,
   "metadata": {},
   "outputs": [
    {
     "data": {
      "text/plain": [
       "(1, 3)"
      ]
     },
     "execution_count": 11,
     "metadata": {},
     "output_type": "execute_result"
    }
   ],
   "source": [
    "np.atleast_2d([1,2,3]).shape"
   ]
  },
  {
   "cell_type": "code",
   "execution_count": 13,
   "metadata": {},
   "outputs": [
    {
     "name": "stdout",
     "output_type": "stream",
     "text": [
      "[[1 2 3]]\n"
     ]
    },
    {
     "data": {
      "text/plain": [
       "array([[1, 2, 3],\n",
       "       [4, 5, 6]])"
      ]
     },
     "execution_count": 13,
     "metadata": {},
     "output_type": "execute_result"
    }
   ],
   "source": [
    "def concat(a,b):\n",
    "    '''Simple concatenation of 1D into 2D.'''\n",
    "    a = np.atleast_2d(a)\n",
    "    b = np.atleast_2d(b)    \n",
    "    if a.size == 0:\n",
    "        return b # 2D row    \n",
    "    return np.concatenate((a, b), axis=0)\n",
    "\n",
    "a = concat([], [1,2,3])\n",
    "print(a)\n",
    "concat(a, [4,5,6])"
   ]
  },
  {
   "cell_type": "code",
   "execution_count": 50,
   "metadata": {},
   "outputs": [
    {
     "name": "stdout",
     "output_type": "stream",
     "text": [
      "134 steps\n",
      "[ 2  3  4  5  6  8  9 10 11 12 12 12 13 13 14 15 15 15 16 16 17 18 18 19\n",
      " 19 19 20 20 21 22 22 22 25 28 28 28 31 32 33 34 36 38 38 38 39 42 42 42\n",
      " 45 46 46 47 48 48 50 52 52 56 57 57 57 58 59 60 60 60 64 65 66 67 67 68\n",
      " 68 69 70 72 74 75 75 76 77 77 84 85 86 87 87 88 91 91 92 93 94 96 96 96\n",
      " 97 98 98 99]\n"
     ]
    },
    {
     "data": {
      "image/png": "[encoded data removed]",
      "text/plain": [
       "<Figure size 1008x360 with 1 Axes>"
      ]
     },
     "metadata": {
      "needs_background": "light"
     },
     "output_type": "display_data"
    }
   ],
   "source": [
    "import matplotlib.pyplot as plt\n",
    "import time\n",
    "import numpy as np\n",
    "\n",
    "# Options for sorting functions: ss, ms, qs, ns\n",
    "f = qs\n",
    "n_elements = 100\n",
    "\n",
    "\n",
    "row = np.random.randint(n_elements, size=n_elements)\n",
    "history = []\n",
    "count = 0\n",
    "while True:\n",
    "    old_row = row.copy() # Most sorts work in-place, so have to be careful here\n",
    "    row = qs(row, 3)\n",
    "    #row = -ns(-row, 2)\n",
    "    if np.random.randint(10)==0:\n",
    "        i1 = np.random.randint(n_elements)\n",
    "        i2 = np.random.randint(n_elements)\n",
    "        row[i1], row[i2] = row[i2], row[i1]\n",
    "    count += 1\n",
    "    if (old_row == row).all():        \n",
    "        print(f\"{count} steps\")        \n",
    "        break\n",
    "    history = concat(history, row)    \n",
    "    \n",
    "print(row)\n",
    "plt.figure(figsize=(14,5));\n",
    "#plt.imshow(history.T, aspect='auto');\n",
    "plt.imshow(history.T);"
   ]
  }
 ],
 "metadata": {
  "kernelspec": {
   "display_name": "Python 3",
   "language": "python",
   "name": "python3"
  }
 },
 "nbformat": 4,
 "nbformat_minor": 2
}
