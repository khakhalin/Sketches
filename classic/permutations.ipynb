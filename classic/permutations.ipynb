{
 "cells": [
  {
   "cell_type": "markdown",
   "metadata": {},
   "source": [
    "# Permutations and combinations\n",
    "\n",
    "First, recursive solutions."
   ]
  },
  {
   "cell_type": "code",
   "execution_count": 3,
   "metadata": {},
   "outputs": [
    {
     "name": "stdout",
     "output_type": "stream",
     "text": [
      "['aaa', 'aab', 'aac', 'aba', 'abb', 'abc', 'aca', 'acb', 'acc', 'baa', 'bab', 'bac', 'bba', 'bbb', 'bbc', 'bca', 'bcb', 'bcc', 'caa', 'cab', 'cac', 'cba', 'cbb', 'cbc', 'cca', 'ccb', 'ccc']\n"
     ]
    }
   ],
   "source": [
    "def combinations(chars, k=3):\n",
    "    \"\"\"All possible combinations from an alphabet.\"\"\"\n",
    "    return [a+b for a in combinations(chars, k-1) for b in chars] if k else ['']\n",
    "\n",
    "print(combinations(['a','b','c'], 3))"
   ]
  },
  {
   "cell_type": "code",
   "execution_count": 5,
   "metadata": {},
   "outputs": [
    {
     "name": "stdout",
     "output_type": "stream",
     "text": [
      "['abc', 'acb', 'bac', 'bca', 'cab', 'cba']\n"
     ]
    }
   ],
   "source": [
    "def permutations(chars):\n",
    "    \"\"\"All possible permutations of an alphabet\"\"\"\n",
    "    return [a+b for a in chars for b in permutations(set(chars)-set([a]))] if chars else ['']\n",
    "\n",
    "print(permutations(['a','b','c']))"
   ]
  },
  {
   "cell_type": "code",
   "execution_count": 7,
   "metadata": {},
   "outputs": [
    {
     "name": "stdout",
     "output_type": "stream",
     "text": [
      "[['a', 'b', 'c'], ['a', 'c', 'b'], ['b', 'a', 'c'], ['b', 'c', 'a'], ['c', 'a', 'b'], ['c', 'b', 'a']]\n"
     ]
    }
   ],
   "source": [
    "def permutations(chars):\n",
    "    \"\"\"Same, but with lists.\"\"\"\n",
    "    return [[a]+b for a in chars for b in permutations(set(chars)-set([a]))] if chars else [[]]\n",
    "\n",
    "print(permutations(['a','b','c']))"
   ]
  },
  {
   "cell_type": "markdown",
   "metadata": {},
   "source": [
    "Now same stuff, but without recursion."
   ]
  },
  {
   "cell_type": "code",
   "execution_count": 27,
   "metadata": {},
   "outputs": [
    {
     "name": "stdout",
     "output_type": "stream",
     "text": [
      "['ccc', 'ccb', 'cca', 'cbc', 'cbb', 'cba', 'cac', 'cab', 'caa', 'bcc', 'bcb', 'bca', 'bbc', 'bbb', 'bba', 'bac', 'bab', 'baa', 'acc', 'acb', 'aca', 'abc', 'abb', 'aba', 'aac', 'aab', 'aaa']\n"
     ]
    }
   ],
   "source": [
    "def combine(x):\n",
    "    out = []\n",
    "    k = len(x)\n",
    "    pointers = [k-1]*k    \n",
    "    while True:        \n",
    "        out.append(''.join([x[i] for i in pointers]))\n",
    "        i = k-1 # pointer to change, set to the last one\n",
    "        while i>=0:\n",
    "            if pointers[i]>0:\n",
    "                pointers[i] -= 1\n",
    "                break\n",
    "            else: # (pointer===0)\n",
    "                pointers[i] = k-1\n",
    "                i -= 1\n",
    "        if i<0: # We zeroed all pointers and ran out of options, so we're done\n",
    "            break\n",
    "    return out\n",
    "\n",
    "print(combine('abc'))"
   ]
  },
  {
   "cell_type": "code",
   "execution_count": 10,
   "metadata": {},
   "outputs": [
    {
     "name": "stdout",
     "output_type": "stream",
     "text": [
      "['abcd', 'abdc', 'acbd', 'acdb', 'adbc', 'adcb', 'bacd', 'badc', 'bcad', 'bcda', 'bdac', 'bdca', 'cabd', 'cadb', 'cbad', 'cbda', 'cdab', 'cdba', 'dabc', 'dacb', 'dbac', 'dbca', 'dcab', 'dcba']\n"
     ]
    }
   ],
   "source": [
    "def permute(x):\n",
    "    queue = [('',x)]\n",
    "    out = []\n",
    "    while queue:\n",
    "        pre,post = queue.pop(0)\n",
    "        if len(post)==1:\n",
    "            out.append(pre+post)\n",
    "        else:\n",
    "            for i in range(len(post)):\n",
    "                queue.append((pre+post[i], post[:i]+post[i+1:]))\n",
    "    return out\n",
    "\n",
    "print(permute('abcd'))"
   ]
  }
 ],
 "metadata": {
  "kernelspec": {
   "display_name": "Python 3",
   "language": "python",
   "name": "python3"
  },
  "language_info": {
   "codemirror_mode": {
    "name": "ipython",
    "version": 3
   },
   "file_extension": ".py",
   "mimetype": "text/x-python",
   "name": "python",
   "nbconvert_exporter": "python",
   "pygments_lexer": "ipython3",
   "version": "3.7.6"
  }
 },
 "nbformat": 4,
 "nbformat_minor": 2
}
